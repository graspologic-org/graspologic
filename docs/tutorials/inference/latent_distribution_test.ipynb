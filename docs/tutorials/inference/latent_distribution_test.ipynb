{
 "cells": [
  {
   "cell_type": "markdown",
   "metadata": {},
   "source": [
    "## Latent Distribution Two-Graph Testing"
   ]
  },
  {
   "cell_type": "code",
   "execution_count": null,
   "metadata": {},
   "outputs": [],
   "source": [
    "import numpy as np\n",
    "import matplotlib.pyplot as plt\n",
    "np.random.seed(8888)\n",
    "\n",
    "from graspy.inference import LatentDistributionTest\n",
    "from graspy.embed import AdjacencySpectralEmbed\n",
    "from graspy.simulations import sbm, rdpg\n",
    "from graspy.utils import symmetrize\n",
    "from graspy.plot import heatmap, pairplot\n",
    "\n",
    "%matplotlib inline"
   ]
  },
  {
   "cell_type": "markdown",
   "metadata": {},
   "source": [
    "### Generate a stochastic block model graph\n",
    "\n",
    "We generate a stochastic block model graph (SBM), which is shown below."
   ]
  },
  {
   "cell_type": "code",
   "execution_count": null,
   "metadata": {},
   "outputs": [],
   "source": [
    "n_verts = 100 \n",
    "labels_sbm = n_verts * [0] + n_verts * [1] + n_verts * [2] + n_verts * [3]\n",
    "P = np.array([[0.9, 0.11, 0.13, 0.2],\n",
    "              [0, 0.7, 0.1, 0.1],\n",
    "              [0, 0, 0.8, 0.1],\n",
    "              [0, 0, 0, 0.85]])\n",
    "P = symmetrize(P)\n",
    "csize = [n_verts] * 4\n",
    "A = sbm(csize, P)\n",
    "ase = AdjacencySpectralEmbed(n_components=4)\n",
    "X = ase.fit_transform(A)\n",
    "heatmap(A, title='4-block SBM adjacency matrix', inner_hier_labels=labels_sbm)\n",
    "pairplot(X, title='4-block adjacency spectral embedding')"
   ]
  },
  {
   "cell_type": "markdown",
   "metadata": {},
   "source": [
    "### Latent distribution test where null is true\n",
    "The latent distribution test is used to determine whether two graphs have the same distribution of latent positions. This test works on two graphs where there is no known matching between the vertices of the graphs, or even if the number of vertices is different.\n",
    "\n",
    "Now, we want to know whether the two graphs were generated with the same distribution of latent positions. We know that they were, so the test should predict that the differences between SBM 1 and 2 (up to a rotation) are no greater than those differences observed by chance.\n",
    "\n",
    "In other words, we are testing\n",
    "\n",
    "\\begin{align*}\n",
    "H_0:&X_1 = X_2\\\\\n",
    "H_\\alpha:& X_1 \\neq X_2\n",
    "\\end{align*}\n",
    "\n",
    "and want to see that the p-value for the unmatched test is high (fail to reject the null)\n",
    "\n",
    "We generate a second SBM in the same way, and run an unmatched test on it, generating a distance between the two graphs as well as a null distribution of distances between permutations of the graph. We can see this below."
   ]
  },
  {
   "cell_type": "code",
   "execution_count": null,
   "metadata": {},
   "outputs": [],
   "source": [
    "n_verts1 = 150\n",
    "labels_sbm1 = n_verts1 * [0] + n_verts1 * [1] + n_verts1 * [2] + n_verts1 * [3]\n",
    "csize1 = [n_verts1] * 4\n",
    "A1 = sbm(csize1, P)\n",
    "ase1 = AdjacencySpectralEmbed(n_components=4)\n",
    "X1 = ase1.fit_transform(A1)\n",
    "heatmap(A1, title='4-block SBM adjacency matrix A1', inner_hier_labels=labels_sbm1)\n",
    "pairplot(X1, title='4-block adjacency spectral embedding A1')"
   ]
  },
  {
   "cell_type": "markdown",
   "metadata": {},
   "source": [
    "### Plot of Null Distribution\n",
    "\n",
    "We plot the null distribution shown in blue and the test statistic shown red vertical line. We see that the test static is small, resulting in p-value of 0.94. Thus, we cannot reject the null hypothesis that the two graphs come from the same generating distributions."
   ]
  },
  {
   "cell_type": "code",
   "execution_count": null,
   "metadata": {},
   "outputs": [],
   "source": [
    "ldt = LatentDistributionTest(n_components=4)\n",
    "p = ldt.fit(A, A1)\n",
    "\n",
    "fig, ax = plt.subplots(figsize=(10, 6))\n",
    "ax.hist(ldt.null_distribution_, 50)\n",
    "ax.axvline(ldt.sample_T_statistic_, color='r')\n",
    "ax.set_title(\"P-value = {}\".format(p), fontsize=20)\n",
    "plt.show();"
   ]
  },
  {
   "cell_type": "markdown",
   "metadata": {},
   "source": [
    "### Latent distribution test where null is false\n",
    "\n",
    "We generate a seconds SBM with different block probabilities, and run a latent distribution test comaring the previous graph with the new one."
   ]
  },
  {
   "cell_type": "code",
   "execution_count": null,
   "metadata": {},
   "outputs": [],
   "source": [
    "P2 = np.array([[0.8, 0.2, 0.2, 0.5],\n",
    "              [0, 0.9, 0.3, 0.2],\n",
    "              [0, 0, 0.5, 0.2],\n",
    "              [0, 0, 0, 0.5]])\n",
    "\n",
    "P2 = symmetrize(P2)\n",
    "A2 = sbm(csize1, P2)\n",
    "heatmap(A2, title='4-block SBM adjacency matrix A2', inner_hier_labels=labels_sbm1)\n",
    "ase2 = AdjacencySpectralEmbed(n_components=4)\n",
    "X2 = ase2.fit_transform(A2)\n",
    "pairplot(X2, title='4-block adjacency spectral embedding A2')"
   ]
  },
  {
   "cell_type": "markdown",
   "metadata": {},
   "source": [
    "### Plot of Null Distribution\n",
    "\n",
    "We plot the null distribution shown in blue and the test statistic shown red vertical line. We see that the test static is small, resulting in p-value of 0. Thus, we reject the null hypothesis that the two graphs come from the same generating distributions."
   ]
  },
  {
   "cell_type": "code",
   "execution_count": null,
   "metadata": {},
   "outputs": [],
   "source": [
    "ldt = LatentDistributionTest()\n",
    "p = ldt.fit(A, A2)\n",
    "\n",
    "fig, ax = plt.subplots(figsize=(10, 6))\n",
    "ax.hist(ldt.null_distribution_, 50)\n",
    "ax.axvline(ldt.sample_T_statistic_, color='r')\n",
    "ax.set_title(\"P-value = {}\".format(p), fontsize=20)\n",
    "plt.show();"
   ]
  },
  {
   "cell_type": "code",
   "execution_count": null,
   "metadata": {},
   "outputs": [],
   "source": []
  }
 ],
 "metadata": {
  "kernelspec": {
   "display_name": "Python 3",
   "language": "python",
   "name": "python3"
  },
  "language_info": {
   "codemirror_mode": {
    "name": "ipython",
    "version": 3
   },
   "file_extension": ".py",
   "mimetype": "text/x-python",
   "name": "python",
   "nbconvert_exporter": "python",
   "pygments_lexer": "ipython3",
   "version": "3.7.3"
  }
 },
 "nbformat": 4,
 "nbformat_minor": 2
}
