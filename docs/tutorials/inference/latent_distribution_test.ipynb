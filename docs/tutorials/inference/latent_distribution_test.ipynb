{
 "cells": [
  {
   "cell_type": "markdown",
   "metadata": {},
   "source": [
    "## Latent Distribution Two-Graph Testing"
   ]
  },
  {
   "cell_type": "code",
   "execution_count": null,
   "metadata": {},
   "outputs": [],
   "source": [
    "import numpy as np\n",
    "import matplotlib.pyplot as plt\n",
    "np.random.seed(8888)\n",
    "\n",
    "from graspy.inference import LatentDistributionTest\n",
    "from graspy.embed import AdjacencySpectralEmbed\n",
    "from graspy.simulations import sbm, rdpg\n",
    "from graspy.utils import symmetrize\n",
    "from graspy.plot import heatmap, pairplot\n",
    "\n",
    "%matplotlib inline"
   ]
  },
  {
   "cell_type": "markdown",
   "metadata": {},
   "source": [
    "### Generate a stochastic block model graph\n",
    "\n",
    "We generate a stochastic block model graph (SBM), which is shown below."
   ]
  },
  {
   "cell_type": "code",
   "execution_count": null,
   "metadata": {},
   "outputs": [],
   "source": [
    "n_components = 4 # the number of embedding dimensions for ASE\n",
    "P = np.array([[0.9, 0.11, 0.13, 0.2],\n",
    "              [0, 0.7, 0.1, 0.1],\n",
    "              [0, 0, 0.8, 0.1],\n",
    "              [0, 0, 0, 0.85]])\n",
    "\n",
    "P = symmetrize(P)\n",
    "csize = [50] * 4\n",
    "A = sbm(csize, P)\n",
    "X = AdjacencySpectralEmbed(n_components=n_components).fit_transform(A)\n",
    "heatmap(A, title='4-block SBM adjacency matrix')\n",
    "pairplot(X, title='4-block adjacency spectral embedding')"
   ]
  },
  {
   "cell_type": "markdown",
   "metadata": {},
   "source": [
    "### Latent distribution test where null is true\n",
    "Now, we want to know whether the above two graphs were generated from the same latent position. We know that they were, so the test should predict that the differences between SBM 1 and 2 (up to a rotation) are no greater than those differences observed by chance.\n",
    "\n",
    "In other words, we are testing\n",
    "\n",
    "\\begin{align*}\n",
    "H_0:&X_1 = X_2\\\\\n",
    "H_\\alpha:& X_1 \\neq X_2\n",
    "\\end{align*}\n",
    "\n",
    "and want to see that the p-value for the unmatched test is high (fail to reject the null)\n",
    "\n",
    "We generate a second SBM in the same way, and run an unmatched test on it, generating a distance between the two graphs as well as a null distribution of distances between permutations of the graph. We can see this below."
   ]
  },
  {
   "cell_type": "code",
   "execution_count": null,
   "metadata": {},
   "outputs": [],
   "source": [
    "A1 = sbm(csize, P)\n",
    "heatmap(A1, title='4-block SBM adjacency matrix A1')\n",
    "X1 = AdjacencySpectralEmbed(n_components=n_components).fit_transform(A1)\n",
    "pairplot(X1, title='4-block adjacency spectral embedding A1')"
   ]
  },
  {
   "cell_type": "markdown",
   "metadata": {},
   "source": [
    "### Plots of Null Distribution for Dcorr and MGC\n",
    "\n",
    "The class supports the following independence tests documented [here](https://hyppo.neurodata.io/reference/independence.html), as well as any distance function.\n",
    "\n",
    "We plot the null distribution (blue), test statistic (red), and p-value (title) of the Dcorr and MGC independence tests using euclidean distance."
   ]
  },
  {
   "cell_type": "code",
   "execution_count": null,
   "metadata": {},
   "outputs": [],
   "source": [
    "from graspy.simulations import er_np, sbm\n",
    "A1 = er_np(20, .3)\n",
    "A2 = er_np(20, .3)\n",
    "A3 = er_np(20, .5)\n",
    "B1 = sbm(csize, P)\n",
    "B2 = sbm(csize, P)"
   ]
  },
  {
   "cell_type": "code",
   "execution_count": null,
   "metadata": {},
   "outputs": [],
   "source": [
    "ldt_dcorr = LatentDistributionTest(\"dcorr\", metric=\"euclidean\", n_bootstraps=1000)\n",
    "p_dcorr = ldt_dcorr.fit(A1, A2)\n",
    "ldt_mgc = LatentDistributionTest(\"mgc\", metric=\"euclidean\", n_bootstraps=1000)\n",
    "p_mgc = ldt_mgc.fit(A1, A2)\n",
    "print(p_dcorr, p_mgc)"
   ]
  },
  {
   "cell_type": "code",
   "execution_count": null,
   "metadata": {},
   "outputs": [],
   "source": [
    "fig, ax = plt.subplots(1, 2, figsize=(10, 6))\n",
    "ax[0].hist(ldt_dcorr.null_distribution_, 50)\n",
    "ax[0].axvline(ldt_dcorr.sample_T_statistic_, color='r')\n",
    "ax[0].set_title(\"DCorr: P-value = {}\".format(p_dcorr), fontsize=20)\n",
    "ax[1].hist(ldt_mgc.null_distribution_, 50)\n",
    "ax[1].axvline(ldt_mgc.sample_T_statistic_, color='r')\n",
    "ax[1].set_title(\"MGC: P-value = {}\".format(p_mgc), fontsize=20)\n",
    "plt.show();"
   ]
  },
  {
   "cell_type": "markdown",
   "metadata": {},
   "source": [
    "We see that the test static is small, resulting in p-values above 0.05. Thus, we cannot reject the null hypothesis that the two graphs come from the same generating distributions."
   ]
  },
  {
   "cell_type": "markdown",
   "metadata": {},
   "source": [
    "### Latent distribution test where null is false\n",
    "\n",
    "We generate a seconds SBM with different block probabilities, and run a latent distribution test comaring the previous graph with the new one."
   ]
  },
  {
   "cell_type": "code",
   "execution_count": null,
   "metadata": {},
   "outputs": [],
   "source": [
    "P2 = np.array([[0.8, 0.2, 0.2, 0.5],\n",
    "              [0, 0.9, 0.3, 0.2],\n",
    "              [0, 0, 0.5, 0.2],\n",
    "              [0, 0, 0, 0.5]])\n",
    "\n",
    "P2 = symmetrize(P2)\n",
    "A2 = sbm(csize, P2)\n",
    "heatmap(A2, title='4-block SBM adjacency matrix A2')\n",
    "X2 = AdjacencySpectralEmbed(n_components=n_components).fit_transform(A2)\n",
    "pairplot(X2, title='4-block adjacency spectral embedding A2')"
   ]
  },
  {
   "cell_type": "markdown",
   "metadata": {},
   "source": [
    "### Plot of Null Distribution\n",
    "\n",
    "We plot the null distribution shown in blue and the test statistic shown red vertical line. We see that the test static is small, resulting in p-value of 0. Thus, we reject the null hypothesis that the two graphs come from the same generating distributions."
   ]
  },
  {
   "cell_type": "code",
   "execution_count": null,
   "metadata": {},
   "outputs": [],
   "source": [
    "ldt_dcorr = LatentDistributionTest(\"dcorr\", metric=\"euclidean\", n_bootstraps=1000)\n",
    "p_dcorr = ldt_dcorr.fit(A1, A2)\n",
    "ldt_mgc = LatentDistributionTest(\"mgc\", metric=\"euclidean\", n_bootstraps=1000)\n",
    "p_mgc = ldt_mgc.fit(A1, A2)\n",
    "print(p_dcorr, p_mgc)"
   ]
  },
  {
   "cell_type": "code",
   "execution_count": null,
   "metadata": {},
   "outputs": [],
   "source": [
    "fig, ax = plt.subplots(1, 2, figsize=(10, 6))\n",
    "ax[0].hist(ldt_dcorr.null_distribution_, 50)\n",
    "ax[0].axvline(ldt_dcorr.sample_T_statistic_, color='r')\n",
    "ax[0].set_title(\"DCorr: P-value = {}\".format(p_dcorr), fontsize=20)\n",
    "ax[1].hist(ldt_mgc.null_distribution_, 50)\n",
    "ax[1].axvline(ldt_mgc.sample_T_statistic_, color='r')\n",
    "ax[1].set_title(\"MGC: P-value = {}\".format(p_mgc), fontsize=20)\n",
    "plt.show();"
   ]
  },
  {
   "cell_type": "code",
   "execution_count": null,
   "metadata": {},
   "outputs": [],
   "source": []
  }
 ],
 "metadata": {
  "kernelspec": {
   "display_name": "Python 3",
   "language": "python",
   "name": "python3"
  },
  "language_info": {
   "codemirror_mode": {
    "name": "ipython",
    "version": 3
   },
   "file_extension": ".py",
   "mimetype": "text/x-python",
   "name": "python",
   "nbconvert_exporter": "python",
   "pygments_lexer": "ipython3",
   "version": "3.7.3"
  }
 },
 "nbformat": 4,
 "nbformat_minor": 2
}
