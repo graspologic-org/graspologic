{
 "cells": [
  {
   "cell_type": "markdown",
   "metadata": {},
   "source": [
    "## Latent Distribution Two-Graph Testing"
   ]
  },
  {
   "cell_type": "code",
   "execution_count": null,
   "metadata": {
    "tags": []
   },
   "outputs": [],
   "source": [
    "import numpy as np\n",
    "import matplotlib.pyplot as plt\n",
    "np.random.seed(8888)\n",
    "\n",
    "from graspologic.inference import LatentDistributionTest\n",
    "from graspologic.embed import AdjacencySpectralEmbed\n",
    "from graspologic.simulations import sbm, rdpg\n",
    "from graspologic.utils import symmetrize\n",
    "from graspologic.plot import heatmap, pairplot\n",
    "\n",
    "%matplotlib inline"
   ]
  },
  {
   "cell_type": "markdown",
   "metadata": {},
   "source": [
    "### Generate a stochastic block model graph\n",
    "\n",
    "We generate a 2-block stochastic blockmodel (SBM) graph and embed it using Adjacency Spectral Embedding (ASE)."
   ]
  },
  {
   "cell_type": "code",
   "execution_count": null,
   "metadata": {},
   "outputs": [],
   "source": [
    "n_components = 2 # the number of embedding dimensions for ASE\n",
    "P = np.array([[0.9, 0.6],\n",
    "              [0.6, 0.9]])\n",
    "csize = [50] * 2\n",
    "A1 = sbm(csize, P)\n",
    "X1 = AdjacencySpectralEmbed(n_components=n_components).fit_transform(A1)\n",
    "heatmap(A1, title='2-block SBM adjacency matrix')\n",
    "pairplot(X1, title='2-block adjacency spectral embedding', height=4.5)"
   ]
  },
  {
   "cell_type": "markdown",
   "metadata": {},
   "source": [
    "We generate a second SBM in the same way."
   ]
  },
  {
   "cell_type": "code",
   "execution_count": null,
   "metadata": {},
   "outputs": [],
   "source": [
    "A2 = sbm(csize, P)\n",
    "X2 = AdjacencySpectralEmbed(n_components=n_components).fit_transform(A2)\n",
    "\n",
    "A1 = sbm(csize, P)\n",
    "X1 = AdjacencySpectralEmbed(n_components=n_components).fit_transform(A1)\n",
    "heatmap(A2, title='2-block SBM adjacency matrix')\n",
    "pairplot(X2, title='2-block adjacency spectral embedding', height=4.5)"
   ]
  },
  {
   "cell_type": "markdown",
   "metadata": {},
   "source": [
    "### Latent distribution test where null is true\n",
    "We want to know whether the latent positions of the two graphs above were generated from the same latent distribution. In other words, we are testing\n",
    "\n",
    "$$ H_0:F_{X_1} = F_{X_2} R$$$$ H_\\alpha: F_{X_1} \\neq F_{X_2} R $$ \n",
    "\n",
    "The $R$ is an orthogonal rotation matrix present due to the orthogonal non-identifiability in the random dot product graphs.\n",
    "\n",
    "We know that in this case the graphs were actually generated from the same distribution, so the test should reject no more often than the significance level $\\alpha$, and on average the $p$-value should be high (fail to reject the null)"
   ]
  },
  {
   "cell_type": "markdown",
   "metadata": {},
   "source": [
    "### Plots of Null Distribution for Dcorr and MGC\n",
    "\n",
    "The class supports the following independence tests documented [here](https://hyppo.neurodata.io/reference/independence.html), as well as any distance function.\n",
    "\n",
    "We plot the null distribution (blue), test statistic (red), and p-value (title) of the Dcorr and MGC independence tests using euclidean distance."
   ]
  },
  {
   "cell_type": "code",
   "execution_count": null,
   "metadata": {},
   "outputs": [],
   "source": [
    "ldt_dcorr = LatentDistributionTest(\"dcorr\", metric=\"euclidean\", n_bootstraps=100)\n",
    "ldt_dcorr.fit(A1, A2)"
   ]
  },
  {
   "cell_type": "code",
   "execution_count": null,
   "metadata": {},
   "outputs": [],
   "source": [
    "ldt_mgc = LatentDistributionTest(\"mgc\", metric=\"euclidean\", n_bootstraps=100)\n",
    "ldt_mgc.fit(A1, A2)"
   ]
  },
  {
   "cell_type": "code",
   "execution_count": null,
   "metadata": {
    "tags": []
   },
   "outputs": [],
   "source": [
    "print(ldt_dcorr.p_value_, ldt_mgc.p_value_)"
   ]
  },
  {
   "cell_type": "code",
   "execution_count": null,
   "metadata": {},
   "outputs": [],
   "source": [
    "fig, ax = plt.subplots(1, 2, figsize=(10, 6))\n",
    "ax[0].hist(ldt_dcorr.null_distribution_, 50)\n",
    "ax[0].axvline(ldt_dcorr.sample_T_statistic_, color='r')\n",
    "ax[0].set_title(\"DCorr: P-value = {}\".format(ldt_dcorr.p_value_), fontsize=20)\n",
    "ax[1].hist(ldt_mgc.null_distribution_, 50)\n",
    "ax[1].axvline(ldt_mgc.sample_T_statistic_, color='r')\n",
    "ax[1].set_title(\"MGC: P-value = {}\".format(ldt_mgc.p_value_), fontsize=20)\n",
    "plt.show();"
   ]
  },
  {
   "cell_type": "markdown",
   "metadata": {},
   "source": [
    "We see that the test static is small, resulting in p-values above 0.05. Thus, we cannot reject the null hypothesis that the two graphs come from the same generating distributions."
   ]
  },
  {
   "cell_type": "markdown",
   "metadata": {},
   "source": [
    "### Latent distribution test where null is false\n",
    "\n",
    "We generate a third SBM with different interblock probability, and run a latent distribution test comaring the first graph with the new one."
   ]
  },
  {
   "cell_type": "code",
   "execution_count": null,
   "metadata": {},
   "outputs": [],
   "source": [
    "P2 = np.array([[0.9, 0.4],\n",
    "               [0.4, 0.9]])\n",
    "\n",
    "A3 = sbm(csize, P2)\n",
    "heatmap(A3, title='2-block SBM adjacency matrix A3')\n",
    "X3 = AdjacencySpectralEmbed(n_components=n_components).fit_transform(A3)\n",
    "pairplot(X3, title='2-block adjacency spectral embedding A3', height=4.5)"
   ]
  },
  {
   "cell_type": "markdown",
   "metadata": {},
   "source": [
    "### Plot of Null Distribution\n",
    "\n",
    "We plot the null distribution shown in blue and the test statistic shown red vertical line. We see that the test static is small, resulting in p-value of 0. Thus, we reject the null hypothesis that the two graphs come from the same generating distributions."
   ]
  },
  {
   "cell_type": "code",
   "execution_count": null,
   "metadata": {},
   "outputs": [],
   "source": [
    "ldt_dcorr = LatentDistributionTest(\"dcorr\", metric=\"euclidean\", n_bootstraps=100)\n",
    "ldt_dcorr.fit(A1, A3)"
   ]
  },
  {
   "cell_type": "code",
   "execution_count": null,
   "metadata": {},
   "outputs": [],
   "source": [
    "ldt_mgc = LatentDistributionTest(\"mgc\", metric=\"euclidean\", n_bootstraps=100)\n",
    "ldt_mgc.fit(A1, A3)"
   ]
  },
  {
   "cell_type": "code",
   "execution_count": null,
   "metadata": {
    "tags": []
   },
   "outputs": [],
   "source": [
    "print(ldt_dcorr.p_value_, ldt_mgc.p_value_)"
   ]
  },
  {
   "cell_type": "code",
   "execution_count": null,
   "metadata": {},
   "outputs": [],
   "source": [
    "fig, ax = plt.subplots(1, 2, figsize=(10, 6))\n",
    "ax[0].hist(ldt_dcorr.null_distribution_, 50)\n",
    "ax[0].axvline(ldt_dcorr.sample_T_statistic_, color='r')\n",
    "ax[0].set_title(\"DCorr: P-value = {}\".format(ldt_dcorr.p_value_), fontsize=20)\n",
    "ax[1].hist(ldt_mgc.null_distribution_, 50)\n",
    "ax[1].axvline(ldt_mgc.sample_T_statistic_, color='r')\n",
    "ax[1].set_title(\"MGC: P-value = {}\".format(ldt_mgc.p_value_), fontsize=20)\n",
    "plt.show();"
   ]
  }
 ],
 "metadata": {
  "kernelspec": {
   "display_name": "Python 3",
   "language": "python",
   "name": "python3"
  },
  "language_info": {
   "codemirror_mode": {
    "name": "ipython",
    "version": 3
   },
   "file_extension": ".py",
   "mimetype": "text/x-python",
   "name": "python",
   "nbconvert_exporter": "python",
   "pygments_lexer": "ipython3",
   "version": "3.7.0"
  }
 },
 "nbformat": 4,
 "nbformat_minor": 4
}
