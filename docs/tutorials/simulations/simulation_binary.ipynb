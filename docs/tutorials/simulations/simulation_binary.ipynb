{
 "cells": [
  {
   "cell_type": "markdown",
   "metadata": {},
   "source": [
    "# Simulated Graph Models"
   ]
  },
  {
   "cell_type": "code",
   "execution_count": null,
   "metadata": {},
   "outputs": [],
   "source": [
    "import graspy\n",
    "\n",
    "import matplotlib.pyplot as plt\n",
    "import numpy as np\n",
    "%matplotlib inline"
   ]
  },
  {
   "cell_type": "markdown",
   "metadata": {},
   "source": [
    "## Erdos-Renyi (ER)\n",
    "\n",
    "ER graphs are the simplest generative model. We assume that each edge is sampled independently from all the edges. As such, one can  There are two ways to parameterize the model:\n",
    "\n",
    "1. ER(n, p) - this model specifies the number of vertices, $n$, and each pair of vertices has $p$ probability of an edge existing between the two.\n",
    "2. ER(n, m) - this model specifies the number of vertices, $n$, and the total number of edges $m$.\n",
    "\n",
    "Below, we sample two graphs (undirected and no self-loops) $G_1 \\sim ER_{NP}(50, 0.3)$ and $G_2 \\sim ER_{NM}(50, 250)$."
   ]
  },
  {
   "cell_type": "code",
   "execution_count": null,
   "metadata": {},
   "outputs": [],
   "source": [
    "from graspy.simulations import er_nm, er_np\n",
    "\n",
    "n = 50\n",
    "m = 250\n",
    "p = 0.3\n",
    "\n",
    "np.random.seed(1)\n",
    "G1 = er_np(n, p)\n",
    "G2 = er_nm(n, m)"
   ]
  },
  {
   "cell_type": "markdown",
   "metadata": {},
   "source": [
    "### Visualize the graphs using heatmap"
   ]
  },
  {
   "cell_type": "code",
   "execution_count": null,
   "metadata": {},
   "outputs": [],
   "source": [
    "from graspy.plot import heatmap\n",
    "\n",
    "heatmap(G1, title = 'ER-NP(50, 0.3) Simulation')\n",
    "heatmap(G2, title='ER-NM(50, 250) Simulation')"
   ]
  },
  {
   "cell_type": "markdown",
   "metadata": {},
   "source": [
    "## Stochastic Block Model (SBM)\n",
    "\n",
    "Unlike ER models, SBM tends to produce graphs containing communities, subsets characterized by being connected with one another with particular edge densities. For example, edges may be more common within communities than between communities <sup>[1](https://en.wikipedia.org/wiki/Stochastic_block_model)</sup>.\n",
    "\n",
    "SBM is parametrized by $n$, which is the number of vertices in each community, and a block probability matrix, $P$, which has size number of communites by number of communities.\n",
    "\n",
    "Below, we sample a graph (undirected, no self-loops) with following parameters:\n",
    "\\begin{align*}\n",
    "   n &= [50, 50]\\\\\n",
    "   P &= \\begin{bmatrix} \n",
    "       0.5 & 0.2\\\\\n",
    "       0.2 & 0.05\n",
    "       \\end{bmatrix}\n",
    "\\end{align*}"
   ]
  },
  {
   "cell_type": "code",
   "execution_count": null,
   "metadata": {},
   "outputs": [],
   "source": [
    "from graspy.simulations import sbm\n",
    "\n",
    "n = [50, 50]\n",
    "P = [[0.5, 0.2],\n",
    "     [0.2, 0.05]]\n",
    "\n",
    "np.random.seed(1)\n",
    "G = sbm(n, P)"
   ]
  },
  {
   "cell_type": "markdown",
   "metadata": {},
   "source": [
    "### Visualizing the graph using heatmap"
   ]
  },
  {
   "cell_type": "code",
   "execution_count": null,
   "metadata": {},
   "outputs": [],
   "source": [
    "heatmap(G, title ='SBM Simulation')"
   ]
  },
  {
   "cell_type": "markdown",
   "metadata": {},
   "source": [
    "## Random Dot Product Graphs (RDPGs)\n",
    "\n",
    "RDPG is a latent position generative model, in which the probability of an edge existing between pairs of vertices is determined by the dot product of the associated latent position vectors. In other words, given $X \\in \\mathbb{R}^{n\\times d}$, where $n$ is the number of vertices and $d$ is the dimensionality of each vector, the probability matrix $P$ is given by:\n",
    "\n",
    "\\begin{align*}\n",
    "P = XX^T\n",
    "\\end{align*}\n",
    "\n",
    "Both ER and SBM models can be formulated as a RDPG. Below, we sample $ER_{NP}(100, 0.5)$ using RDPG formulation. In this case, we set $X \\in \\mathbb{R}^{100\\times 2}$ where all the values in $X$ is 0.5. This results in $P$ matrix where all the probabilities are also 0.5."
   ]
  },
  {
   "cell_type": "code",
   "execution_count": null,
   "metadata": {},
   "outputs": [],
   "source": [
    "from graspy.simulations import rdpg\n",
    "\n",
    "# Create a latent position matrix\n",
    "X = np.full((100, 2), 0.5)\n",
    "print(X @ X.T)"
   ]
  },
  {
   "cell_type": "code",
   "execution_count": null,
   "metadata": {},
   "outputs": [],
   "source": [
    "np.random.seed(1)\n",
    "G = rdpg(X, loops=False)"
   ]
  },
  {
   "cell_type": "markdown",
   "metadata": {},
   "source": [
    "### Visualizing the graph as heatmap"
   ]
  },
  {
   "cell_type": "code",
   "execution_count": null,
   "metadata": {},
   "outputs": [],
   "source": [
    "heatmap(G, title='ER-NP(100, 0.5) as RDPG')"
   ]
  }
 ],
 "metadata": {
  "kernelspec": {
   "display_name": "graspy",
   "language": "python",
   "name": "graspy"
  },
  "language_info": {
   "codemirror_mode": {
    "name": "ipython",
    "version": 3
   },
   "file_extension": ".py",
   "mimetype": "text/x-python",
   "name": "python",
   "nbconvert_exporter": "python",
   "pygments_lexer": "ipython3",
   "version": "3.6.5"
  }
 },
 "nbformat": 4,
 "nbformat_minor": 2
}
