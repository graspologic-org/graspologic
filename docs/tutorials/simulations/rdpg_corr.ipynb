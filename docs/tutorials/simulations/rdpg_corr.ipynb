{
 "cells": [
  {
   "cell_type": "markdown",
   "metadata": {},
   "source": [
    "# Correlated Random Dot Product Graph (RDPG) Graph Pair"
   ]
  },
  {
   "cell_type": "code",
   "execution_count": null,
   "metadata": {},
   "outputs": [],
   "source": [
    "from graspy.simulations.rdpg_corr import rdpg_corr\n",
    "import numpy as np"
   ]
  },
  {
   "cell_type": "markdown",
   "metadata": {},
   "source": [
    "RDPG is a latent position generative model, an explanation of the uncorrelated model is here. https://github.com/neurodata/graspy/blob/master/docs/tutorials/simulations/rdpg.ipynb\n",
    "\n",
    "Here, we want to generate the RDPG graph pairs with some fixed correlation. \n",
    "\n",
    "There are several parameters in this function: \"X\" and \"Y\" are the input matrices which are used to generate the probability matrix; \"r\" is the correlation between the graph pair, which should be (-1,1) (the value could be more limited in practice due to the value of \"r\").\n",
    "\n",
    "Below, we sample a RDPG graph pair (undirected and no self-loops) G1 and G2 with the following parameters:\n",
    "\\begin{align*}\n",
    "n &= [50, 50]\\\\\n",
    "r &= 0.5\n",
    "\\end{align*}"
   ]
  },
  {
   "cell_type": "code",
   "execution_count": null,
   "metadata": {},
   "outputs": [],
   "source": [
    "X = np.array([[0.5, 0.2, 0.2]] * 50 + [[0.1, 0.1, 0.1]] * 50)\n",
    "Y = None\n",
    "r = 0.3\n",
    "\n",
    "np.random.seed(1234)\n",
    "G1, G2 = rdpg_corr(X, Y, r, rescale=False, directed=False, loops=False)"
   ]
  },
  {
   "cell_type": "code",
   "execution_count": null,
   "metadata": {},
   "outputs": [],
   "source": [
    "X@X.T"
   ]
  },
  {
   "cell_type": "markdown",
   "metadata": {},
   "source": [
    "### Visualize the graphs using heatmap"
   ]
  },
  {
   "cell_type": "code",
   "execution_count": null,
   "metadata": {},
   "outputs": [],
   "source": [
    "from graspy.plot import heatmap\n",
    "%matplotlib inline\n",
    "heatmap(G1, title = 'Correlated RDPG Simulation Graph 1')\n",
    "heatmap(G2, title = 'Correlated RDPG Simulation Graph 2')\n",
    "heatmap(abs(G1-G2), title='difference between G1 and G2')\n",
    "print(\"Difference rate is \", np.sum(abs(G1-G2))/(100*100))"
   ]
  },
  {
   "cell_type": "markdown",
   "metadata": {},
   "source": [
    "### Compare it to the correlated SBM graph pair"
   ]
  },
  {
   "cell_type": "markdown",
   "metadata": {},
   "source": [
    "Below, we sample a two-block SBM graph pair (undirected and no self-loops) G1 and G2 with the following parameters:\n",
    "\n",
    "\\begin{align*}\n",
    "n &= [50, 50]\\\\\n",
    "p &= \\begin{bmatrix} \n",
    "0.33 & 0.09\\\\\n",
    "0.09 & 0.03\n",
    "\\end{bmatrix}\\\\\n",
    "r &= 0.5\n",
    "\\end{align*}\n",
    "\n",
    "And let's see the difference between the correlated RDPG and correlated SBM graph pairs."
   ]
  },
  {
   "cell_type": "code",
   "execution_count": null,
   "metadata": {},
   "outputs": [],
   "source": [
    "from graspy.simulations import sbm_corr\n",
    "np.random.seed(123)\n",
    "n = [50, 50]\n",
    "p = [[0.33, 0.09], [0.09, 0.03]]\n",
    "r = 0.3\n",
    "\n",
    "g1, g2 = sbm_corr(n, p, r, directed=False, loops=False)\n",
    "heatmap(g1, title = 'Correlated SBM Graph 1')\n",
    "heatmap(g2, title = 'Correlated SBM Graph 2')\n",
    "heatmap(abs(g1-g2), title='difference between G1 and G2')\n",
    "print(\"Difference rate is \", np.sum(abs(g1-g2))/(100*100))"
   ]
  },
  {
   "cell_type": "markdown",
   "metadata": {},
   "source": [
    "We can see the difference between G1 and G2 with both function are similar."
   ]
  },
  {
   "cell_type": "markdown",
   "metadata": {},
   "source": [
    "If we change the correlation between the graph pairs from -0.5 to 0.9:"
   ]
  },
  {
   "cell_type": "code",
   "execution_count": null,
   "metadata": {},
   "outputs": [],
   "source": [
    "X = np.random.dirichlet([10, 10], size=100)\n",
    "Y = None\n",
    "\n",
    "np.random.seed(12345)\n",
    "r = -0.5\n",
    "\n",
    "G1, G2 = rdpg_corr(X, Y, r, rescale=False, directed=False, loops=False)\n",
    "\n",
    "heatmap(G1, title = 'Correlated RDPG Simulation Graph 1')\n",
    "heatmap(G2, title = 'Correlated RDPG Simulation Graph 2')\n",
    "heatmap(abs(G1-G2), title='difference between G1 and G2')\n",
    "print(\"Difference rate when correlation = -0.5 is \", np.sum(abs(G1-G2))/(100*100))"
   ]
  },
  {
   "cell_type": "code",
   "execution_count": null,
   "metadata": {},
   "outputs": [],
   "source": [
    "np.random.seed(12345)\n",
    "r = 0.3\n",
    "\n",
    "G1, G2 = rdpg_corr(X, Y, r, rescale=False, directed=False, loops=False)\n",
    "\n",
    "heatmap(G1, title = 'Correlated RDPG Simulation Graph 1')\n",
    "heatmap(G2, title = 'Correlated RDPG Simulation Graph 2')\n",
    "heatmap(abs(G1-G2), title='difference between G1 and G2')\n",
    "print(\"Difference rate  when correlation =0.3 is \", np.sum(abs(G1-G2))/(100*100))"
   ]
  },
  {
   "cell_type": "code",
   "execution_count": null,
   "metadata": {},
   "outputs": [],
   "source": [
    "np.random.seed(12345)\n",
    "r = 0.9\n",
    "\n",
    "G1, G2 = rdpg_corr(X, Y, r, rescale=False, directed=False, loops=False)\n",
    "\n",
    "heatmap(G1, title = 'Correlated RDPG Simulation Graph 1')\n",
    "heatmap(G2, title = 'Correlated RDPG Simulation Graph 2')\n",
    "heatmap(abs(G1-G2), title='difference between G1 and G2')\n",
    "print(\"Difference rate when correlation =0.9 is \", np.sum(abs(G1-G2))/(100*100))"
   ]
  },
  {
   "cell_type": "markdown",
   "metadata": {},
   "source": [
    "We can see that the difference rate goes down as the correlation turns bigger."
   ]
  },
  {
   "cell_type": "code",
   "execution_count": null,
   "metadata": {},
   "outputs": [],
   "source": []
  }
 ],
 "metadata": {
  "kernelspec": {
   "display_name": "Python 3",
   "language": "python",
   "name": "python3"
  },
  "language_info": {
   "codemirror_mode": {
    "name": "ipython",
    "version": 3
   },
   "file_extension": ".py",
   "mimetype": "text/x-python",
   "name": "python",
   "nbconvert_exporter": "python",
   "pygments_lexer": "ipython3",
   "version": "3.6.8"
  }
 },
 "nbformat": 4,
 "nbformat_minor": 2
}
