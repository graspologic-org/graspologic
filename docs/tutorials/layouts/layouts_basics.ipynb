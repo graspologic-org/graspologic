{
 "cells": [
  {
   "cell_type": "markdown",
   "id": "altered-rubber",
   "metadata": {},
   "source": [
    "# Layouts tutorial \n",
    "\n",
    "The purpose of this turtorial is to illuminate the utility in graph layouts and offer insight into how they are produced. \n",
    "\n"
   ]
  },
  {
   "cell_type": "markdown",
   "id": "worst-maldives",
   "metadata": {},
   "source": [
    "## The Pipeline\n",
    "\n",
    "In esscence we want to go from a graph represented in matrix form into a good estimate of what it would look like with nodes and edges. \n",
    "\n",
    "This is primarily accomplished through first taking the given Graph matrix then embedding it. There are many differnt ways to embed. We will first use Node2Vec as that is supported with the currnet code. Other options include ASE and LSE. \n",
    "\n",
    "Once we have this embedded matrix which is nxd we must then down-project to two dimensions. This can be accomplished with either UMAP or TNSE which are different types of nonlinear manifold learning algorithms. \n",
    "\n",
    "We now have a matrix that is nx2. The next step would be to use sometimes to apply nooverlap(https://github.com/microsoft/graspologic/tree/dev/graspologic/layouts/nooverlap) to make sure that nodes do not appear on top of each other thus obfuscating the graph layout. \n",
    "\n",
    "This in effect creates a layout. One can optionally cluster and color the nodes using leiden. "
   ]
  },
  {
   "cell_type": "markdown",
   "id": "loved-breach",
   "metadata": {},
   "source": [
    "## About the callable functions and what they do and where they fit into above framework\n",
    "``layout_tsne`` \n",
    "\n",
    "-- Automatic graph layout generation by creating a generalized node2vec embedding, then using t-SNE for dimensionality reduction to 2d space.\n",
    "\n",
    "Show an example \n",
    "\n",
    "``layout_umap``\n",
    "\n",
    "-- Automatic graph layout generation by creating a generalized node2vec embedding, then using UMAP for dimensionality reduction to 2d space.\n",
    "\n",
    "-- Show an example  (one below?)\n",
    "\n",
    "``categorical_colors``\n",
    "\n",
    "-- Generates a node -> color mapping based on the partitions provided. The partitions are ordered by population descending, and a series of perceptually balanced, complementary colors are chosen in sequence.\n",
    "\n",
    "``sequential_colors``\n",
    "\n",
    "-- Generates a node -> color mapping where a color is chosen for the value as it maps the value range into the sequential color space.\n",
    "\n",
    "\n",
    "``show_graph``\n",
    "\n",
    "\n"
   ]
  },
  {
   "cell_type": "markdown",
   "id": "bound-placement",
   "metadata": {},
   "source": [
    "#### what is missing\n",
    "\n",
    "Need to do an example for each of the main function calls - further explanation as to how it works..\n",
    "\n",
    "Use some play data... will talk to Dwayne about getting some other data to be more intersting later\n"
   ]
  },
  {
   "cell_type": "markdown",
   "id": "noble-labor",
   "metadata": {},
   "source": [
    "# Using TSNE\n",
    " By default, this function automatically attempts to prune each graph to a maximum\n",
    "    of 10,000,000 edges by removing the lowest weight edges. This pruning is approximate\n",
    "    and will leave your graph with at most ``max_edges``, but is not guaranteed to be\n",
    "    precisely ``max_edges``.\n",
    "    In addition to pruning edges by weight, this function also only operates over the\n",
    "    largest connected component in the graph.\n",
    "    After dimensionality reduction, sizes are generated for each node based upon\n",
    "    their degree centrality, and these sizes and positions are further refined by an\n",
    "    overlap removal phase. Lastly, a global partitioning algorithm\n",
    "    (`graspologic.partition.leiden`) is executed for the largest connected\n",
    "    component and the partition ID is included with each node position.\n",
    "    \n",
    "``layout_tsne`` handles a lot of the pipeline stated about all at once. In later iterations this will be broken down into more callable functions to allow for more access to intermediate realizations"
   ]
  },
  {
   "cell_type": "markdown",
   "id": "compressed-nightlife",
   "metadata": {},
   "source": [
    "## the paramters\n",
    "\n",
    "graph : :class:`networkx.Graph` Create any graph object\n",
    "\n",
    "for other intersting graphs look here https://networkx.org/documentation/stable/reference/generators.html"
   ]
  },
  {
   "cell_type": "code",
   "execution_count": null,
   "id": "threaded-grocery",
   "metadata": {},
   "outputs": [],
   "source": [
    "direc = r'C:\\Users\\dfran\\Downloads\\download.tsv.iceland.tar.bz2'    \n",
    "import tarfile\n",
    "import os\n",
    "\n",
    "# full_dir = os.path.join(direc, 'fig' + str(i) + '.png')\n",
    "tar = tarfile.open(direc, \"r:bz2\")  \n",
    "direc = r'D:\\Hopkins\\Hopkins_senior\\Neurodata\\ndd_prac\\ndd_stuff\\sprint3\\data'\n",
    "tar.extractall(direc) \n",
    "tar.close()"
   ]
  },
  {
   "cell_type": "code",
   "execution_count": null,
   "id": "seeing-knife",
   "metadata": {},
   "outputs": [],
   "source": [
    "import networkx as nx\n",
    "Data = open('large-graph.txt', \"r\")\n",
    "next(Data, None)  # skip the first line in the input file\n",
    "Graphtype = nx.Graph()\n",
    "g = nx.parse_edgelist(Data, delimiter=',', create_using=Graphtype,\n",
    "                      nodetype=str, data=(('weight', float),))\n"
   ]
  },
  {
   "cell_type": "markdown",
   "id": "appreciated-chancellor",
   "metadata": {},
   "source": [
    "``perplexity : int``\n",
    "The perplexity is related to the number of nearest neighbors that is used in \n",
    "other manifold learning algorithms. \n",
    "Larger datasets usually require a larger perplexity. \n",
    "Perplexity is a sensitive paramter likely choice between 4 and 100; large datasets will need larger perplexity. \n",
    "\n",
    "Manifold learning helps with nonlinear projection to lower dimension\n",
    "\n",
    "``max_edges : int`` default is 10000000 \n",
    "\n",
    "``n_iter : int``\n",
    "        Maximum number of iterations for the optimization. We have found in practice\n",
    "        that larger graphs require more iterations. We hope to eventually have more\n",
    "        guidance on the number of iterations based on the size of the graph and the\n",
    "        density of the edge connections.\n",
    "        \n",
    "``random_seed : int`` set for reproducible results "
   ]
  },
  {
   "cell_type": "code",
   "execution_count": null,
   "id": "thirty-female",
   "metadata": {},
   "outputs": [],
   "source": [
    "# You will notice  that we have to relabel the nodes here to be the string form of the int\n",
    "# this is because ``leiden`` requires that all the nodes be strings \n",
    "di = {}\n",
    "for i in range(len(list(g.nodes))):\n",
    "    di[list(g.nodes)[i]] = str(list(g.nodes)[i])\n",
    "g = nx.relabel_nodes(g, di)"
   ]
  },
  {
   "cell_type": "markdown",
   "id": "subject-scholarship",
   "metadata": {},
   "source": [
    "The return type of this is a tuple of ``nx.Graph, List[NodePosition]``"
   ]
  },
  {
   "cell_type": "code",
   "execution_count": null,
   "id": "heated-framework",
   "metadata": {},
   "outputs": [],
   "source": [
    "from graspologic.layouts import layout_tsne\n",
    "import time\n",
    "ti = time.time()\n",
    "tupl = layout_tsne(g, perplexity = 3, n_iter = 250, random_seed = 23)\n",
    "print(time.time() - ti)"
   ]
  },
  {
   "cell_type": "markdown",
   "id": "younger-cigarette",
   "metadata": {},
   "source": [
    "## coloring of nodes"
   ]
  },
  {
   "cell_type": "markdown",
   "id": "transsexual-helena",
   "metadata": {},
   "source": [
    "Should you not want to color the nodes using any of the functionality in ``graspologic.layout``"
   ]
  },
  {
   "cell_type": "code",
   "execution_count": null,
   "id": "personal-drive",
   "metadata": {},
   "outputs": [],
   "source": [
    "import seaborn as sns\n",
    "nodes = list(g.nodes)\n",
    "colors = sns.color_palette(n_colors = g.number_of_nodes())\n",
    "node_to_color = dict(zip(nodes, colors))"
   ]
  },
  {
   "cell_type": "markdown",
   "id": "specialized-market",
   "metadata": {},
   "source": [
    "You can also use ``categorical_colors`` or ``sequential_colors`` but that will be discussed later"
   ]
  },
  {
   "cell_type": "markdown",
   "id": "charitable-nelson",
   "metadata": {},
   "source": [
    "## use show graph "
   ]
  },
  {
   "cell_type": "code",
   "execution_count": null,
   "id": "muslim-capitol",
   "metadata": {
    "tags": []
   },
   "outputs": [],
   "source": [
    "from graspologic.layouts import show_graph\n",
    "show_graph(tupl[0], tupl[1], node_to_color)"
   ]
  },
  {
   "cell_type": "markdown",
   "id": "signal-harbor",
   "metadata": {},
   "source": [
    "You will notice that we are using just the basic defaults for everything. In the following examples more clear examples of how to change the graph will be demonstrated. "
   ]
  },
  {
   "cell_type": "markdown",
   "id": "considerable-steal",
   "metadata": {},
   "source": [
    "# Using UMAP\n",
    "Automatic graph layout generation by creating a generalized node2vec embedding,\n",
    "    then using UMAP for dimensionality reduction to 2d space.\n",
    "    By default, this function automatically attempts to prune each graph to a maximum\n",
    "    of 10,000,000 edges by removing the lowest weight edges. This pruning is approximate\n",
    "    and will leave your graph with at most ``max_edges``, but is not guaranteed to be\n",
    "    precisely ``max_edges``.\n",
    "    In addition to pruning edges by weight, this function also only operates over the\n",
    "    largest connected component in the graph.\n",
    "    After dimensionality reduction, sizes are generated for each node based upon\n",
    "    their degree centrality, and these sizes and positions are further refined by an\n",
    "    overlap removal phase. Lastly, a global partitioning algorithm\n",
    "    (:func:`graspologic.partition.leiden`) is executed for the largest connected\n",
    "    component and the partition ID is included with each node position.\n",
    "\n",
    "## The parameterss\n",
    "\n",
    "``graph`` : :class:`networkx.Graph`\n",
    "\n",
    "\n",
    "``min_dist : float``\n",
    "    The effective minimum distance between embedded points. Default is ``0.75``.\n",
    "    Smaller values will result in a more clustered/clumped embedding where nearby\n",
    "    points on the manifold are drawn closer together, while larger values will\n",
    "    result on a more even dispersal of points. The value should be set relative to\n",
    "    the ``spread`` value, which determines the scale at which embedded points will\n",
    "    be spread out.\n",
    "    \n",
    "   \n",
    "``n_neighbors : int``\n",
    "    The size of local neighborhood (in terms of number of neighboring sample points)\n",
    "    used for manifold approximation. Default is ``25``. Larger values result in\n",
    "    more global views of the manifold, while smaller values result in more local\n",
    "    data being preserved.\n",
    "    \n",
    "\n",
    "``max_edges : int``\n",
    "    The maximum number of edges to use when generating the embedding.  Default is\n",
    "    ``10000000``. The edges with the lowest weights will be pruned until at most\n",
    "    ``max_edges`` exist. Warning: this pruning is approximate and more edges than\n",
    "    are necessary may be pruned. Running in 32 bit enviornment you will most\n",
    "    likely need to reduce this number or you will out of memory.\n",
    "    \n",
    "  \n",
    "``random_seed : int``\n",
    "    Seed to be used for reproducible results. Default is None and will produce\n",
    "    random results.\n"
   ]
  },
  {
   "cell_type": "code",
   "execution_count": null,
   "id": "concrete-geometry",
   "metadata": {},
   "outputs": [],
   "source": [
    "import networkx as nx\n",
    "from graspologic.layouts import layout_umap\n",
    "t1 = time.time()\n",
    "tupl = layout_umap(g)\n",
    "print(\"UMAP takes\" + str(time.time() - t1) + \" on \" + str(g.number_of_nodes()) + \" number of nodes\")"
   ]
  },
  {
   "cell_type": "markdown",
   "id": "stock-civilian",
   "metadata": {},
   "source": [
    "You will notice that due to the large graph there will be a 7 min wait to produce the projection. The ``n_iter`` needs to be at least 250, but ``perplexity`` can be changed to be larger with the larger graph"
   ]
  },
  {
   "cell_type": "code",
   "execution_count": null,
   "id": "comparative-tennis",
   "metadata": {
    "tags": []
   },
   "outputs": [],
   "source": [
    "from graspologic.layouts import show_graph\n",
    "show_graph(tupl[0], tupl[1], node_to_color)"
   ]
  },
  {
   "cell_type": "markdown",
   "id": "cardiovascular-invasion",
   "metadata": {},
   "source": [
    "# Graph coloring "
   ]
  },
  {
   "cell_type": "markdown",
   "id": "widespread-liberia",
   "metadata": {},
   "source": [
    "## ``categorical_colors``\n",
    "The inputs to this coloring function is a dict that maps the node to a parition list. \n",
    "\n",
    "Here we are basing the graph color based  upon the estimates community. We can treat each community as a partition and color as such "
   ]
  },
  {
   "cell_type": "code",
   "execution_count": null,
   "id": "liberal-coach",
   "metadata": {
    "tags": []
   },
   "outputs": [],
   "source": [
    "import numpy as np\n",
    "from graspologic.layouts import categorical_colors\n",
    "nodes = list(g.nodes)\n",
    "parts = [node.community for node in tupl[1]]\n",
    "cat_cols = categorical_colors(dict(zip(nodes, parts)))\n",
    "show_graph(tupl[0], tupl[1], cat_cols)"
   ]
  },
  {
   "cell_type": "markdown",
   "id": "smaller-discovery",
   "metadata": {},
   "source": [
    "You will notice this has almost identical coloring as before and that is because the community is based off a GMM. "
   ]
  },
  {
   "cell_type": "code",
   "execution_count": null,
   "id": "welcome-bones",
   "metadata": {
    "tags": []
   },
   "outputs": [],
   "source": [
    "import numpy as np\n",
    "from graspologic.layouts import categorical_colors\n",
    "import numpy as np\n",
    "from sklearn.mixture import GaussianMixture\n",
    "\n",
    "max_comps = np.max( [node.community for node in tupl[1]])\n",
    "X = np.array([[node.x, node.y] for node in tupl[1]])\n",
    "labels = GaussianMixture(n_components=max_comps, random_state=0).fit_predict(X)\n",
    "nodes = list(g.nodes)\n",
    "cat_cols = categorical_colors(dict(zip(nodes, labels)))\n",
    "show_graph(tupl[0], tupl[1], cat_cols)"
   ]
  },
  {
   "cell_type": "markdown",
   "id": "under-payday",
   "metadata": {},
   "source": [
    "## ``sequential_colors``\n",
    "\n",
    "Similar to above the aforementioned coloring function this one still takes in a dictionary. Howver the color of this is soley based on whether the given floating point value associated with the node key is within certain bounds "
   ]
  },
  {
   "cell_type": "code",
   "execution_count": null,
   "id": "linear-chapter",
   "metadata": {
    "tags": []
   },
   "outputs": [],
   "source": [
    "import numpy as np\n",
    "from graspologic.layouts import sequential_colors\n",
    "nodes = list(g.nodes)\n",
    "parts = [node.x for node in tupl[1]]\n",
    "seq_cols = sequential_colors(dict(zip(nodes, parts)))\n",
    "show_graph(tupl[0], tupl[1], seq_cols)"
   ]
  },
  {
   "cell_type": "markdown",
   "id": "finite-destination",
   "metadata": {},
   "source": [
    "# Modifications to the ``show_graph`` parameters\n",
    "\n",
    "For the graphs above we have notr really found it necessary to change the ``show_graph`` default parameters mainly because ``layouts`` handles these large graphs will larger edge weights well. If we had a smaller graph or one with edge weights that are smaller it would be necessary to edit these parameters. Let us walk through an example of this. "
   ]
  },
  {
   "cell_type": "code",
   "execution_count": null,
   "id": "downtown-sitting",
   "metadata": {},
   "outputs": [],
   "source": [
    "import seaborn as sns\n",
    "\n",
    "g1 = nx.complete_graph(100)\n",
    "\n",
    "di = {}\n",
    "for i in range(len(list(g1.nodes))):\n",
    "    di[list(g1.nodes)[i]] = str(list(g1.nodes)[i])\n",
    "g1 = nx.relabel_nodes(g1, di)\n",
    "\n",
    "nodes = list(g1.nodes)\n",
    "colors = sns.color_palette(n_colors = g1.number_of_nodes())\n",
    "node_to_color = dict(zip(nodes, colors))\n",
    "tupl = layout_umap(g1)\n",
    "show_graph(tupl[0], tupl[1], node_to_color)"
   ]
  },
  {
   "cell_type": "markdown",
   "id": "general-cycle",
   "metadata": {},
   "source": [
    "The edges are not as clear as before and the ``alpha`` of the nodes also begins to look to translucent due to the ``nooverlap``. So we shall change the parameters like below. "
   ]
  },
  {
   "cell_type": "code",
   "execution_count": null,
   "id": "exotic-locator",
   "metadata": {},
   "outputs": [],
   "source": [
    "show_graph(tupl[0], tupl[1], node_to_color, vertex_alpha = 1, edge_line_width = 1, edge_alpha = 1,)"
   ]
  },
  {
   "cell_type": "markdown",
   "id": "regulated-occupation",
   "metadata": {},
   "source": [
    "These paramters are the ones that will be most frequently changed in order to make the graph look more appropriate"
   ]
  },
  {
   "cell_type": "code",
   "execution_count": null,
   "id": "former-basic",
   "metadata": {},
   "outputs": [],
   "source": []
  }
 ],
 "metadata": {
  "kernelspec": {
   "display_name": "Python 3",
   "language": "python",
   "name": "python3"
  },
  "language_info": {
   "codemirror_mode": {
    "name": "ipython",
    "version": 3
   },
   "file_extension": ".py",
   "mimetype": "text/x-python",
   "name": "python",
   "nbconvert_exporter": "python",
   "pygments_lexer": "ipython3",
   "version": "3.8.5"
  }
 },
 "nbformat": 4,
 "nbformat_minor": 5
}
