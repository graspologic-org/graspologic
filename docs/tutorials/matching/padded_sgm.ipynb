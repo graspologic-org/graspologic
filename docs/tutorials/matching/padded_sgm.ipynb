{
 "cells": [
  {
   "cell_type": "code",
   "execution_count": null,
   "metadata": {},
   "outputs": [],
   "source": [
    "%pylab inline"
   ]
  },
  {
   "cell_type": "markdown",
   "metadata": {},
   "source": [
    "# Padded Graph Matching\n",
    "Consider the scenario where one would like to match graphs $A$ and $B$ with $n_1$ and $n_2$ nodes, respectively, where \n",
    "$n_1 < n_2$. The most straightforward fashion to 'pad' $A$, such that $A$ and $B$ have the same shape, is to add $n_2 - n_1$ isolated nodes to $A$. This padding scheme is known as $\\textit{naive padding}$, substituting $A \\oplus 0_{(n_2-n_1)x(n_2-n_1)}$ and $B$ in place of $A$ and $B$, respectively.\n",
    "\n",
    "The effect of this is that one matches $A$ to the best subgraph of $B$. That is, the isolated vertices added to $A$ through padding have an affinity to the low-density subgraphs of $B$. Since the isolated vertices and non adjacent core vertices both have the same weight, the isolated vertices carry a lot of false signal. Instead, we desire to match $A$ to the best fitting induced subgraph of $B$. This padding scheme is known as $\\textit{adopted padding}$, and is achieved by substituting $\\tilde{A} \\oplus 0_{(n_2-n_1)x(n_2-n_1)}$ and $\\tilde{B}$ in place of $A$ and $B$, respectively, where $\\tilde{A} = 2A - 1_{n_1}1_{n_1}^T$ and $\\tilde{B} = 2B - 1_{n_2}1_{n_2}^T$.\n"
   ]
  },
  {
   "cell_type": "code",
   "execution_count": null,
   "metadata": {},
   "outputs": [],
   "source": [
    "from graspy.match import GraphMatch as GMP\n",
    "from graspy.simulations import sbm_corr"
   ]
  },
  {
   "cell_type": "markdown",
   "metadata": {},
   "source": [
    "To demonstrate the difference between the two padding schemes, we sample two graph's $G_1'$ and $G_2$, each having 400 vertices, from a $0.5 \\sim SBM(4,b,\\Lambda)$, where b assigns 100 vertices to each of the k = 4 blocks, and\n",
    "\n",
    "\\begin{align*}\n",
    "\\Lambda &= \\begin{bmatrix} \n",
    "0.9 & 0.4 & 0.3 & 0.2\\\\\n",
    "0.4 & 0.9 & 0.4 & 0.3\\\\\n",
    "0.3 & 0.4 & 0.9 & 0.4\\\\\n",
    "0.2 & 0.3 & 0.4 & 0.7\n",
    "\\end{bmatrix}\\\\\n",
    "\\end{align*}\n",
    "\n",
    "We realize $G_1$ from $G_1'$ by removing 25 nodes from each block of $G_1'$, yielding a 300 node graph."
   ]
  },
  {
   "cell_type": "markdown",
   "metadata": {},
   "source": [
    "## SBM correlated graph pairs"
   ]
  },
  {
   "cell_type": "code",
   "execution_count": null,
   "metadata": {},
   "outputs": [],
   "source": [
    "\n",
    "# simulating G1', G2, deleting 25 vertices\n",
    "from graspy.plot import heatmap\n",
    "directed = False\n",
    "loops = False\n",
    "block_probs = [[0.9,0.4,0.3,0.2],\n",
    "                [0.4,0.9,0.4,0.3],\n",
    "                [0.3,0.4,0.9,0.4],\n",
    "                [0.2,0.3,0.4,0.7]]\n",
    "n =100\n",
    "n_blocks = 4\n",
    "rho = 0.5\n",
    "block_members = np.array(n_blocks * [n])\n",
    "n_verts = block_members.sum()\n",
    "G1p, G2 = sbm_corr(block_members,block_probs, rho, directed, loops)\n",
    "G1 = np.zeros((300,300))\n",
    "c = np.copy(G1p)\n",
    "keep = [np.random.randint(100*i, 100*(i+1)-1, 75) for i in range(4)]\n",
    "delete = [np.setdiff1d(np.arange(100*i, 100*(i+1)-1), keep[i]) for i in range(4)]\n",
    "\n",
    "for i in range(5):\n",
    "    stepx = 100*i\n",
    "    c[75+stepx:stepx+100,:] = -1\n",
    "    c[:, 75+stepx:stepx+100] = -1\n",
    "    for j in range(5):\n",
    "        stepy = 100*j\n",
    "        G1[(75*i):(75*(i+1)),(75*j):(75*(j+1))] = G1p[stepx:(stepx+75),stepy:(stepy+75)]\n",
    "        \n",
    "topleft_G1 = np.zeros((400,400))\n",
    "topleft_G1[:300,:300] = G1\n",
    "fig, axs = plt.subplots(1, 4, figsize=(20, 10))\n",
    "heatmap(G1p, ax=axs[0], cbar=False, title=\"G1'\")\n",
    "heatmap(G2, ax=axs[1], cbar=False, title=\"G2\")\n",
    "heatmap(c, ax=axs[2], cbar=False, title=\"G1\")\n",
    "heatmap(topleft_G1, ax=axs[3], cbar=False, title=\"G1 (to top left corner)\")"
   ]
  },
  {
   "cell_type": "markdown",
   "metadata": {},
   "source": [
    "## Naive vs Adopted Padding"
   ]
  },
  {
   "cell_type": "code",
   "execution_count": null,
   "metadata": {},
   "outputs": [],
   "source": [
    "np.random.seed(1)\n",
    "\n",
    "gmp_naive = GMP(padding='naive')\n",
    "seed1 = np.random.choice(np.arange(300),10)\n",
    "seed2 = [int(x/75)*25 + x for x in seed1]\n",
    "gmp_naive = gmp_naive.fit(G2, G1, seed2, seed1)\n",
    "G1_naive = topleft_G1[gmp_naive.perm_inds_][:, gmp_naive.perm_inds_]\n",
    "\n",
    "gmp_adopted = GMP(padding='adopted')\n",
    "gmp_adopted = gmp_adopted.fit(G2, G1, seed2, seed1)\n",
    "G1_adopted = topleft_G1[gmp_adopted.perm_inds_][:, gmp_adopted.perm_inds_]\n",
    "\n",
    "fig, axs = plt.subplots(1, 2, figsize=(14, 7))\n",
    "heatmap(G1_naive, ax=axs[0], cbar=False, title=\"Naive Padding\")\n",
    "heatmap(G1_adopted, ax=axs[1], cbar=False, title=\"Adopted Padding\")"
   ]
  },
  {
   "cell_type": "markdown",
   "metadata": {},
   "source": [
    "We observe that the two padding schemes perform as expected. The naive scheme permutes $G_1$ such that it matches a subgraph of $G_2$, specifically the subgraph of the first three blocks. Additionally, (almost) all isolated vertices of $G_1$ are permuted to the fourth block of $G_2$.\n",
    "\n",
    "On the other hand, we see that adopted padding preserves the common block structure between $G_1$ and $G_2$."
   ]
  }
 ],
 "metadata": {
  "kernelspec": {
   "display_name": "Python 3",
   "language": "python",
   "name": "python3"
  },
  "language_info": {
   "codemirror_mode": {
    "name": "ipython",
    "version": 3
   },
   "file_extension": ".py",
   "mimetype": "text/x-python",
   "name": "python",
   "nbconvert_exporter": "python",
   "pygments_lexer": "ipython3",
   "version": "3.8.5"
  }
 },
 "nbformat": 4,
 "nbformat_minor": 4
}
