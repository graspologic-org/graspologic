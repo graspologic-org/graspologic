{
 "cells": [
  {
   "cell_type": "markdown",
   "metadata": {},
   "source": [
    "# Methods for Multiscale Comparative Connectomics\n",
    "\n",
    "This demo shows you how to use methods in `graspologic` to analyze patterns\n",
    "in brain connectivity in connectomics datasets. We specifically demonstrate\n",
    "methods for identifying differences in edges and vertices across subjects. "
   ]
  },
  {
   "cell_type": "code",
   "execution_count": 1,
   "metadata": {},
   "outputs": [],
   "source": [
    "import graspologic\n",
    "\n",
    "import matplotlib.pyplot as plt\n",
    "import numpy as np\n",
    "import pandas as pd\n",
    "import seaborn as sns\n",
    "\n",
    "%matplotlib inline"
   ]
  },
  {
   "cell_type": "markdown",
   "metadata": {},
   "source": [
    "## Load the Duke mouse brain dataset\n",
    "\n",
    "Dataset of 32 mouse connectomes derived from whole-brain diffusion\n",
    "magnetic resonance imaging of four distinct mouse genotypes:\n",
    "BTBR T+ Itpr3tf/J (BTBR), C57BL/6J(B6), CAST/EiJ (CAST), and DBA/2J (DBA2).\n",
    "For each strain, connectomes were generated from eight age-matched mice\n",
    "($N = 8$ per strain), with a sex distribution of four males and four females.\n",
    "Each connectome was parcellated using asymmetric Waxholm Space, yielding a\n",
    "vertex set with a total of 332 regions of interest (ROIs) symmetrically\n",
    "distributed across the left and right hemispheres. Within a given\n",
    "hemisphere, there are seven superstructures consisting up multiple ROIs,\n",
    "resulting in a total of 14 distinct communities in each connectome."
   ]
  },
  {
   "cell_type": "code",
   "execution_count": 2,
   "metadata": {},
   "outputs": [],
   "source": [
    "# Load the full mouse dataset\n",
    "mice = graspologic.datasets.load_mice()"
   ]
  },
  {
   "cell_type": "code",
   "execution_count": 3,
   "metadata": {},
   "outputs": [],
   "source": [
    "# Stack all adjacency matrices in a 3D numpy array\n",
    "graphs = np.array(mice.graphs)\n",
    "\n",
    "# Get sample parameters\n",
    "n_subjects = graphs.shape[0]\n",
    "n_vertices = graphs.shape[1]"
   ]
  },
  {
   "cell_type": "code",
   "execution_count": 4,
   "metadata": {},
   "outputs": [],
   "source": [
    "# Split the set of graphs by genotype\n",
    "btbr = graphs[mice.labels == \"BTBR\"]\n",
    "b6 = graphs[mice.labels == \"B6\"]\n",
    "cast = graphs[mice.labels == \"CAST\"]\n",
    "dba2 = graphs[mice.labels == \"DBA2\"]\n",
    "\n",
    "connectomes = [btbr, b6, cast, dba2]"
   ]
  },
  {
   "cell_type": "markdown",
   "metadata": {},
   "source": [
    "## Identifying Signal Edges\n",
    "\n",
    "The simplest approach for comparing connectomes is to treat them as a _bag of edges_ without considering interactions between the edges.\n",
    "Serially performing univariate statistical analyses at each edge enables the discovery of _signal edges_ whose neurological connectivity differs across categorical or dimensional phenotypes.\n",
    "Here, we demonstrate the possibility of using Distance Correlation (`Dcorr`), a nonparametric universally consistent test, to detect changes in edges.\n",
    "\n",
    "In this model, we assume that each edge in the connectome is independently and\n",
    "identically sampled from some distribution $F_i$, where $i$ represents the group\n",
    "to which the given connectome belongs. In this setting the groups are the mouse\n",
    "genotypes. `Dcorr` allows us to test the following hypothesis:\n",
    "\n",
    "\\begin{align*}\n",
    "    H_0:\\ &F_1 = F_2 = \\cdots = F_k \\\\\n",
    "    H_A:\\ &\\exists \\ j \\neq j' \\text{ s.t. } F_j \\neq F_{j'}\n",
    "\\end{align*}"
   ]
  },
  {
   "cell_type": "code",
   "execution_count": 5,
   "metadata": {},
   "outputs": [],
   "source": [
    "from hyppo.ksample import KSample"
   ]
  },
  {
   "cell_type": "markdown",
   "metadata": {},
   "source": [
    "Since the connectomes in this dataset are undirected, we only need to do edge\n",
    "comparisons on the upper triangle of the adjacency matrices."
   ]
  },
  {
   "cell_type": "code",
   "execution_count": 6,
   "metadata": {},
   "outputs": [],
   "source": [
    "# Make iterator for traversing the upper triangle of the connectome\n",
    "indices = zip(*np.triu_indices(n_vertices, 1))"
   ]
  },
  {
   "cell_type": "code",
   "execution_count": 7,
   "metadata": {},
   "outputs": [],
   "source": [
    "edge_pvals = []\n",
    "\n",
    "for i, j in indices:\n",
    "    \n",
    "    # Get the (i,j)-th edge for each connectome\n",
    "    samples = [genotype[:, i, j] for genotype in connectomes]\n",
    "    \n",
    "    # Calculate the p-value for the (i,j)-th edge\n",
    "    try:\n",
    "        statistic, pvalue = KSample(\"Dcorr\").test(*samples, reps=100000)\n",
    "    except ValueError:\n",
    "        # A ValueError is thrown when any of the samples have equal edge \n",
    "        # weights (i.e. one of the inputs has 0 variance)\n",
    "        statistic = np.nan\n",
    "        pvalue = 1\n",
    "\n",
    "    edge_pvals.append([i, j, statistic, pvalue])"
   ]
  },
  {
   "cell_type": "code",
   "execution_count": 20,
   "metadata": {
    "scrolled": true
   },
   "outputs": [
    {
     "data": {
      "text/html": [
       "<div>\n",
       "<style scoped>\n",
       "    .dataframe tbody tr th:only-of-type {\n",
       "        vertical-align: middle;\n",
       "    }\n",
       "\n",
       "    .dataframe tbody tr th {\n",
       "        vertical-align: top;\n",
       "    }\n",
       "\n",
       "    .dataframe thead th {\n",
       "        text-align: right;\n",
       "    }\n",
       "</style>\n",
       "<table border=\"1\" class=\"dataframe\">\n",
       "  <thead>\n",
       "    <tr style=\"text-align: right;\">\n",
       "      <th></th>\n",
       "      <th>ROI_1</th>\n",
       "      <th>ROI_2</th>\n",
       "      <th>stat</th>\n",
       "      <th>pval</th>\n",
       "    </tr>\n",
       "  </thead>\n",
       "  <tbody>\n",
       "    <tr>\n",
       "      <th>24656</th>\n",
       "      <td>Rostral_Linear_Nucleus (L)</td>\n",
       "      <td>Secondary_Auditory_Cortex_Ventral_Part (R)</td>\n",
       "      <td>0.440752</td>\n",
       "      <td>0.000102</td>\n",
       "    </tr>\n",
       "    <tr>\n",
       "      <th>20861</th>\n",
       "      <td>Ventral_Tegmental_Area (L)</td>\n",
       "      <td>Secondary_Auditory_Cortex_Ventral_Part (R)</td>\n",
       "      <td>0.396122</td>\n",
       "      <td>0.000217</td>\n",
       "    </tr>\n",
       "    <tr>\n",
       "      <th>16722</th>\n",
       "      <td>Presubiculum (L)</td>\n",
       "      <td>Hypothalamus (L)</td>\n",
       "      <td>0.378985</td>\n",
       "      <td>0.000291</td>\n",
       "    </tr>\n",
       "    <tr>\n",
       "      <th>16723</th>\n",
       "      <td>Presubiculum (L)</td>\n",
       "      <td>Preoptic_Telencephalon (L)</td>\n",
       "      <td>0.372650</td>\n",
       "      <td>0.000324</td>\n",
       "    </tr>\n",
       "    <tr>\n",
       "      <th>23905</th>\n",
       "      <td>Substantia_Nigra (L)</td>\n",
       "      <td>Cingulate_Cortex_Area_24a_prime (R)</td>\n",
       "      <td>0.360624</td>\n",
       "      <td>0.000398</td>\n",
       "    </tr>\n",
       "    <tr>\n",
       "      <th>11717</th>\n",
       "      <td>Secondary_Visual_CortexLateral_Area (L)</td>\n",
       "      <td>Cingulate_Cortex_Area_32 (R)</td>\n",
       "      <td>0.356540</td>\n",
       "      <td>0.000427</td>\n",
       "    </tr>\n",
       "    <tr>\n",
       "      <th>33407</th>\n",
       "      <td>Cingulum (L)</td>\n",
       "      <td>Latero_Posterior_Nuclei_of_Thalamus (R)</td>\n",
       "      <td>0.355696</td>\n",
       "      <td>0.000433</td>\n",
       "    </tr>\n",
       "    <tr>\n",
       "      <th>42596</th>\n",
       "      <td>Cingulate_Cortex_Area_32 (R)</td>\n",
       "      <td>Globus_Pallidus (R)</td>\n",
       "      <td>0.352967</td>\n",
       "      <td>0.000454</td>\n",
       "    </tr>\n",
       "    <tr>\n",
       "      <th>8180</th>\n",
       "      <td>Primary_Somatosensory_Cortex_Dysgranular_Zone (L)</td>\n",
       "      <td>Accumbens (R)</td>\n",
       "      <td>0.344712</td>\n",
       "      <td>0.000523</td>\n",
       "    </tr>\n",
       "    <tr>\n",
       "      <th>16951</th>\n",
       "      <td>Presubiculum (L)</td>\n",
       "      <td>Fornix (R)</td>\n",
       "      <td>0.344061</td>\n",
       "      <td>0.000529</td>\n",
       "    </tr>\n",
       "  </tbody>\n",
       "</table>\n",
       "</div>"
      ],
      "text/plain": [
       "                                                   ROI_1  \\\n",
       "24656                         Rostral_Linear_Nucleus (L)   \n",
       "20861                         Ventral_Tegmental_Area (L)   \n",
       "16722                                   Presubiculum (L)   \n",
       "16723                                   Presubiculum (L)   \n",
       "23905                               Substantia_Nigra (L)   \n",
       "11717            Secondary_Visual_CortexLateral_Area (L)   \n",
       "33407                                       Cingulum (L)   \n",
       "42596                       Cingulate_Cortex_Area_32 (R)   \n",
       "8180   Primary_Somatosensory_Cortex_Dysgranular_Zone (L)   \n",
       "16951                                   Presubiculum (L)   \n",
       "\n",
       "                                            ROI_2      stat      pval  \n",
       "24656  Secondary_Auditory_Cortex_Ventral_Part (R)  0.440752  0.000102  \n",
       "20861  Secondary_Auditory_Cortex_Ventral_Part (R)  0.396122  0.000217  \n",
       "16722                            Hypothalamus (L)  0.378985  0.000291  \n",
       "16723                  Preoptic_Telencephalon (L)  0.372650  0.000324  \n",
       "23905         Cingulate_Cortex_Area_24a_prime (R)  0.360624  0.000398  \n",
       "11717                Cingulate_Cortex_Area_32 (R)  0.356540  0.000427  \n",
       "33407     Latero_Posterior_Nuclei_of_Thalamus (R)  0.355696  0.000433  \n",
       "42596                         Globus_Pallidus (R)  0.352967  0.000454  \n",
       "8180                                Accumbens (R)  0.344712  0.000523  \n",
       "16951                                  Fornix (R)  0.344061  0.000529  "
      ]
     },
     "execution_count": 20,
     "metadata": {},
     "output_type": "execute_result"
    }
   ],
   "source": [
    "# Convert the nested list to a dataframe\n",
    "edge_pvals = pd.DataFrame(edge_pvals, columns=[\"ROI_1\", \"ROI_2\", \"stat\", \"pval\"])\n",
    "\n",
    "# Get the top 10 strongest signal edges\n",
    "edge_pvals.sort_values(by=\"pval\", inplace=True)\n",
    "edge_pvals_10 = edge_pvals.head(10)\n",
    "\n",
    "# Replace ROI indices with actual names\n",
    "def lookup_roi_name(index):\n",
    "    hemisphere = \"R\" if index // 166 else \"L\"\n",
    "    index = index % 166\n",
    "    roi_name = mice.atlas.query(f\"ROI == {index+1}\")[\"Structure\"].item()\n",
    "    return f\"{roi_name} ({hemisphere})\"\n",
    "\n",
    "edge_pvals_10[\"ROI_1\"] = edge_pvals_10[\"ROI_1\"].apply(lookup_roi_name)\n",
    "edge_pvals_10[\"ROI_2\"] = edge_pvals_10[\"ROI_2\"].apply(lookup_roi_name)\n",
    "\n",
    "edge_pvals_10"
   ]
  },
  {
   "cell_type": "markdown",
   "metadata": {},
   "source": [
    "We can also plot the distribution of p-values.\n",
    "Note that many edges have a p-value $=1$, corresponding to all edgeweights\n",
    "in a given genotype being the same (i.e. at least one sample has zero variance)."
   ]
  },
  {
   "cell_type": "code",
   "execution_count": 10,
   "metadata": {},
   "outputs": [
    {
     "data": {
      "image/png": "[encoded data removed]",
      "text/plain": [
       "<Figure size 360x360 with 1 Axes>"
      ]
     },
     "metadata": {
      "needs_background": "light"
     },
     "output_type": "display_data"
    }
   ],
   "source": [
    "sns.displot(edge_pvals, x=\"pval\", kind=\"kde\", bw_adjust=.25)\n",
    "plt.xlabel(u\"$p$-value\")\n",
    "plt.show()"
   ]
  },
  {
   "cell_type": "markdown",
   "metadata": {},
   "source": [
    "## Identifying Signal Vertices"
   ]
  },
  {
   "cell_type": "code",
   "execution_count": null,
   "metadata": {},
   "outputs": [],
   "source": [
    "graspologic.embed.OmnibusEmbed"
   ]
  },
  {
   "cell_type": "markdown",
   "metadata": {},
   "source": [
    "## Whole-brain Comparisons"
   ]
  },
  {
   "cell_type": "code",
   "execution_count": null,
   "metadata": {},
   "outputs": [],
   "source": []
  }
 ],
 "metadata": {
  "kernelspec": {
   "display_name": "Python [conda env:graspologic]",
   "language": "python",
   "name": "conda-env-graspologic-py"
  },
  "language_info": {
   "codemirror_mode": {
    "name": "ipython",
    "version": 3
   },
   "file_extension": ".py",
   "mimetype": "text/x-python",
   "name": "python",
   "nbconvert_exporter": "python",
   "pygments_lexer": "ipython3",
   "version": "3.7.8"
  },
  "varInspector": {
   "cols": {
    "lenName": 16,
    "lenType": 16,
    "lenVar": 40
   },
   "kernels_config": {
    "python": {
     "delete_cmd_postfix": "",
     "delete_cmd_prefix": "del ",
     "library": "var_list.py",
     "varRefreshCmd": "print(var_dic_list())"
    },
    "r": {
     "delete_cmd_postfix": ") ",
     "delete_cmd_prefix": "rm(",
     "library": "var_list.r",
     "varRefreshCmd": "cat(var_dic_list()) "
    }
   },
   "types_to_exclude": [
    "module",
    "function",
    "builtin_function_or_method",
    "instance",
    "_Feature"
   ],
   "window_display": false
  }
 },
 "nbformat": 4,
 "nbformat_minor": 4
}
