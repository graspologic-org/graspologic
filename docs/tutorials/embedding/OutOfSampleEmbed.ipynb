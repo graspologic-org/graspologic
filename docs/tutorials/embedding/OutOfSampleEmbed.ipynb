{
 "cells": [
  {
   "cell_type": "markdown",
   "metadata": {},
   "source": [
    "# Out-of-Sample (OOS) Embedding"
   ]
  },
  {
   "cell_type": "markdown",
   "metadata": {},
   "source": [
    "Suppose we've embedded the nodes of a graph into Euclidean space using Adjacency Spectral Embedding.  \n",
    "Then, suppose we gain access to new nodes not seen in the original graph. We sometimes wish to determine their latent positions without the computationally-expensive task of re-embedding an entirely new adjacency matrix.\n",
    "\n",
    "More formally, suppose we have computed the embedding $\\hat{X} \\in \\textbf{R}^{n \\times d}$ from some adjacency matrix $A \\in \\textbf{R}^{n \\times n}$.  \n",
    "Suppose we then obtain some new vertex $w \\in \\textbf{R}^n$ or new vertices $W \\in \\textbf{R}^{m \\times n}$ and we want to know their latent positions.\n",
    "\n",
    "We can obtain an estimation for these out-of-sample latent positions with ASE's `predict` method.  \n",
    "Running through the Adjacency Spectral Embedding tutorial is recommended prior to this tutorial."
   ]
  },
  {
   "cell_type": "code",
   "execution_count": null,
   "metadata": {},
   "outputs": [],
   "source": [
    "from itertools import cycle\n",
    "import numpy as np\n",
    "import matplotlib.pyplot as plt\n",
    "import pandas as pd\n",
    "import seaborn as sns\n",
    "\n",
    "from numpy.random import normal, poisson\n",
    "\n",
    "from graspologic.simulations import sbm\n",
    "from graspologic.embed import AdjacencySpectralEmbed as ASE\n",
    "from graspologic.plot import heatmap, pairplot\n",
    "from graspologic.utils import remove_vertices\n",
    "\n",
    "np.random.seed(9002)\n",
    "import warnings\n",
    "warnings.filterwarnings('ignore')"
   ]
  },
  {
   "cell_type": "markdown",
   "metadata": {},
   "source": [
    "## Undirected out-of-sample prediction"
   ]
  },
  {
   "cell_type": "markdown",
   "metadata": {},
   "source": [
    "Here, we embed an undirected two-block stochastic block model with ASE. We then use its predict method to find an out-of-sample prediction for both a single vertex and multiple vertices.  \n",
    "\n",
    "We begin by generating data."
   ]
  },
  {
   "cell_type": "code",
   "execution_count": null,
   "metadata": {},
   "outputs": [],
   "source": [
    "# Generate parameters\n",
    "nodes_per_community = 100\n",
    "labels = [1]*nodes_per_community + [2]*nodes_per_community\n",
    "P = np.array([[0.8, 0.2],\n",
    "              [0.2, 0.8]])\n",
    "\n",
    "# Generate a directed and undirected Stochastic Block Model (SBM)\n",
    "undirected = sbm(2*[nodes_per_community], P)\n",
    "\n",
    "# Grab out-of-sample vertices\n",
    "oos_idx = 0\n",
    "oos_labels = labels.pop(oos_idx)\n",
    "A, a = remove_vertices(undirected, indices=oos_idx, return_removed=True)\n",
    "\n",
    "# plot our SBMs\n",
    "heatmap(A, title=f'2-block SBM (undirected), shape {A.shape}', inner_hier_labels=labels);"
   ]
  },
  {
   "cell_type": "markdown",
   "metadata": {},
   "source": [
    "### Embedding"
   ]
  },
  {
   "cell_type": "markdown",
   "metadata": {},
   "source": [
    "We then generate an embedding with ASE, and we use its predict method to determine our best estimate for the latent position of the out-of-sample vertex."
   ]
  },
  {
   "cell_type": "code",
   "execution_count": null,
   "metadata": {},
   "outputs": [],
   "source": [
    "# Generate an embedding with ASE\n",
    "ase = ASE(n_components=2)\n",
    "X_hat = ase.fit_transform(A)\n",
    "\n",
    "# predicted latent positions\n",
    "w = ase.predict(a)\n",
    "w"
   ]
  },
  {
   "cell_type": "markdown",
   "metadata": {},
   "source": [
    "#### Plotting out-of-sample embedding"
   ]
  },
  {
   "cell_type": "markdown",
   "metadata": {},
   "source": [
    "Here, we plot the original latent positions as well as the out-of-sample vertices. Note that the out-of-sample vertices are near their expected latent positions despite not having been run through the original embedding."
   ]
  },
  {
   "cell_type": "code",
   "execution_count": null,
   "metadata": {},
   "outputs": [],
   "source": [
    "def plot_oos(X_hat, oos_vertices, n_verts, labels, oos_labels, title):\n",
    "    # collect data\n",
    "    d = {'Community': labels, 'Dimension 1': X_hat[:, 0], 'Dimension 2': X_hat[:, 1]}\n",
    "    df = pd.DataFrame(data=d)\n",
    "    unique_labels = list(df[\"Community\"].unique())\n",
    "    \n",
    "    # add out-of-sample points to data\n",
    "    oos_vertices = np.atleast_2d(oos_vertices)\n",
    "    d = {'Community': oos_labels, 'Dimension 1': oos_vertices[:, 0], 'Dimension 2': oos_vertices[:, 1]}\n",
    "    oos_df = pd.DataFrame(d)\n",
    "    df = df.append(oos_df)\n",
    "\n",
    "    # Create PairGrid plot for data\n",
    "    is_len, oos_len = len(unique_labels), len(oos_labels)\n",
    "    colors_is = sns.color_palette(\"pastel\", n_colors=is_len)\n",
    "    colors_oos = sns.color_palette(\"bright\", n_colors=oos_len)\n",
    "    kws = lambda a, b: [a for i in range(is_len)] + [b for i in range(oos_len)]\n",
    "    g = sns.PairGrid(df, hue=\"Community\",\n",
    "                     hue_order=unique_labels + oos_labels,\n",
    "                     palette=colors_is + colors_oos,\n",
    "                     hue_kws={\"s\": kws(20, 300),\n",
    "                              \"marker\": kws(\"o\", \"*\"),\n",
    "                              \"alpha\": kws(.5, 1),\n",
    "                             },\n",
    "                     layout_pad=1)\n",
    "\n",
    "    # Add data to plot and change figure settings\n",
    "    g.map_offdiag(plt.scatter, linewidth=.5, edgecolor=\"w\")\n",
    "    g.map_diag(sns.kdeplot);\n",
    "    g.add_legend();\n",
    "    plt.subplots_adjust(top=0.9);\n",
    "    g.fig.suptitle(title);\n",
    "    \n",
    "plot_oos(X_hat, w, nodes_per_community, labels, oos_labels=[\"Out-of-sample\"],\n",
    "         title=\"Out-of-Sample Embeddings (2-block SBM)\");"
   ]
  },
  {
   "cell_type": "markdown",
   "metadata": {},
   "source": [
    "### Passing in multiple out-of-sample vertices"
   ]
  },
  {
   "cell_type": "markdown",
   "metadata": {},
   "source": [
    "You can pass a 2d numpy array into `predict`. The rows are the out-of-sample vertices, and the columns are their edges to the in-sample vertices."
   ]
  },
  {
   "cell_type": "code",
   "execution_count": null,
   "metadata": {},
   "outputs": [],
   "source": [
    "# Grab out-of-sample vertices\n",
    "labels = [0]*nodes_per_community + [1]*nodes_per_community\n",
    "oos_idx = [0, -1]\n",
    "oos_labels = [labels.pop(i) for i in oos_idx]\n",
    "A, a = remove_vertices(undirected, indices=oos_idx, return_removed=True)\n",
    "\n",
    "# our out-of-sample array is m x n\n",
    "print(f\"a is {type(a)} with shape {a.shape}\")"
   ]
  },
  {
   "cell_type": "code",
   "execution_count": null,
   "metadata": {},
   "outputs": [],
   "source": [
    "# Generate an embedding with ASE\n",
    "ase = ASE(n_components=2)\n",
    "X_hat = ase.fit_transform(A)\n",
    "\n",
    "# predicted latent positions\n",
    "w = ase.predict(a)\n",
    "print(f\"The out-of-sample prediction output has dimensions {w.shape}\\n\")\n",
    "\n",
    "oos_labels = [f\"Out-of-sample {i}\" for i in range(len(oos_idx))]\n",
    "plot_oos(X_hat, w, nodes_per_community, labels, oos_labels=oos_labels,\n",
    "         title=\"Out-of-Sample Embeddings (2-block SBM)\");"
   ]
  },
  {
   "cell_type": "markdown",
   "metadata": {},
   "source": [
    "## Directed out-of-sample prediction"
   ]
  },
  {
   "cell_type": "markdown",
   "metadata": {},
   "source": [
    "Not all graphs are undirected. When finding out-of-sample latent positions for directed graphs, $A \\in \\textbf{R}^{n \\times n}$ is not symmetric. $A_{i,j}$ represents the edge from node $i$ to node $j$, whereas $A_{j, i}$ represents the edge from node $j$ to node $i$.\n",
    "\n",
    "To account for this, we pass a tuple (left_oos, right_oos) into the predict method. It then outputs a tuple of (left_latent_prediction, right_latent_prediction)."
   ]
  },
  {
   "cell_type": "code",
   "execution_count": null,
   "metadata": {},
   "outputs": [],
   "source": [
    "# a is a tuple of (oos_left, oos_right)\n",
    "directed = sbm(2*[nodes_per_community], P, directed=True)\n",
    "oos_idx = [0, -1]\n",
    "A, a = remove_vertices(directed, indices=oos_idx, return_removed=True)\n",
    "heatmap(directed);"
   ]
  },
  {
   "cell_type": "code",
   "execution_count": null,
   "metadata": {},
   "outputs": [],
   "source": [
    "# Fit a directed graph\n",
    "X_hat, Y_hat = ase.fit_transform(A)\n",
    "\n",
    "# predicted latent positions\n",
    "w = ase.predict(a)\n",
    "print(f\"output of `ase.predict(a)` is {type(w)}\", \"\\n\")\n",
    "print(f\"left latent positions: \\n{w[0]}\\n\")\n",
    "print(f\"right latent positions: \\n{w[1]}\")"
   ]
  },
  {
   "cell_type": "markdown",
   "metadata": {},
   "source": [
    "#### Plotting directed latent predictions"
   ]
  },
  {
   "cell_type": "code",
   "execution_count": null,
   "metadata": {},
   "outputs": [],
   "source": [
    "plot_oos(X_hat, w[0], nodes_per_community, labels, oos_labels=oos_labels, title=\"Left Latent Predictions\")\n",
    "plot_oos(Y_hat, w[1], nodes_per_community, labels, oos_labels=oos_labels, title=\"Right Latent Predictions\")"
   ]
  },
  {
   "cell_type": "markdown",
   "metadata": {},
   "source": [
    "## Weighted out-of-sample prediction"
   ]
  },
  {
   "cell_type": "markdown",
   "metadata": {},
   "source": [
    "Weighted graphs work as well. Here, we generate a directed, weighted graph and estimate the latent positions for multiple out-of-sample vertices."
   ]
  },
  {
   "cell_type": "code",
   "execution_count": null,
   "metadata": {},
   "outputs": [],
   "source": [
    "# Generate a weighted graph and out-of-sample vertices\n",
    "wt = [[normal, poisson],\n",
    "      [poisson, normal]]\n",
    "wtargs = [[dict(loc=3, scale=1), dict(lam=5)],\n",
    "          [dict(lam=5), dict(loc=3, scale=1)]]\n",
    "weighted = sbm(2*[nodes_per_community], P, wt=wt, wtargs=wtargs, directed=True)\n",
    "oos_idx = [0, -1]\n",
    "A, a = remove_vertices(weighted, indices=oos_idx, return_removed=True)\n",
    "heatmap(A)"
   ]
  },
  {
   "cell_type": "code",
   "execution_count": null,
   "metadata": {},
   "outputs": [],
   "source": [
    "# Embed and predict\n",
    "X_hat, Y_hat = ase.fit_transform(A)\n",
    "w = ase.predict(a)\n",
    "\n",
    "# Plot\n",
    "plot_oos(X_hat, w[0], nodes_per_community, labels, \n",
    "         oos_labels=oos_labels, title=\"Left Latent Predictions\")\n",
    "plot_oos(Y_hat, w[1], nodes_per_community, labels,\n",
    "         oos_labels=oos_labels, title=\"Right Latent Predictions\")"
   ]
  }
 ],
 "metadata": {
  "kernelspec": {
   "display_name": "Python 3",
   "language": "python",
   "name": "python3"
  },
  "language_info": {
   "codemirror_mode": {
    "name": "ipython",
    "version": 3
   },
   "file_extension": ".py",
   "mimetype": "text/x-python",
   "name": "python",
   "nbconvert_exporter": "python",
   "pygments_lexer": "ipython3",
   "version": "3.7.0"
  }
 },
 "nbformat": 4,
 "nbformat_minor": 4
}
