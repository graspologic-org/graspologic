{
 "cells": [
  {
   "cell_type": "markdown",
   "metadata": {},
   "source": [
    "# Nomination Tutorial\n",
    "\n",
    "This class implements Vertex Nomination via Seeded Graph Matching\n",
    "(VNviaSGM) with the algorithm described in [1].\n",
    "\n",
    "VNviaSGM is a nomination algorithm, so instead of completely matching two graphs `A` and `B`, it proposes a nomination list of potential matches in graph `B` to a vertex of interest (voi) in graph `A` with associated probabilities. \n",
    "\n",
    "Let $A_L(a)$ be the induced subgraph derived from `A`, and centered about vertex `a` with a maximum distance from `a` of `L`. \n",
    "\n",
    "VNviaSGM first find the seeds that are contained a subgraph around voi $close\\_seeds\\_A = A_{order\\_voi\\_subgraph}(voi)$. If no seeds are in this subgraph, the algorithm stops early and returns a nomination list of None. \n",
    "\n",
    "Two subgraphs are then generated around $close\\_seeds\\_A$ for graph A and the associated seeds for graph B ($close\\_seeds\\_B$). \n",
    "\n",
    "$SG1 = A_{order\\_seeds\\_subgraph}(close\\_seeds\\_A)$ and $SG2 = B_{order\\_seeds\\_subgraph}(close\\_seeds\\_B)$\n",
    "\n",
    "These subgraphs ($SG1$ and $SG2$) are matched using graspy's graph matching algorithm. The probabilities returned by the algorithm are used to generate a nomination list sorted by probability. \n",
    "\n",
    "\n",
    "\n",
    "[1] Patsolic, HG, Park, Y, Lyzinski, V, Priebe, CE. Vertex nomination via seeded graph matching. Stat Anal Data Min: The ASA Data Sci Journal. 2020; 13: 229– 244. https://doi.org/10.1002/sam.11454\n"
   ]
  },
  {
   "cell_type": "code",
   "execution_count": null,
   "metadata": {},
   "outputs": [],
   "source": [
    "from graspologic.nominate import VNviaSGM\n",
    "from graspologic.simulations import er_np\n",
    "from graspologic.plot import heatmap\n",
    "import numpy as np\n",
    "import matplotlib.pyplot as plt\n",
    "\n",
    "np.set_printoptions(suppress=True)"
   ]
  },
  {
   "cell_type": "code",
   "execution_count": null,
   "metadata": {},
   "outputs": [],
   "source": [
    "# Define parameters\n",
    "n = 50\n",
    "p = 0.3\n",
    "num_seeds = 4"
   ]
  },
  {
   "cell_type": "code",
   "execution_count": null,
   "metadata": {},
   "outputs": [],
   "source": [
    "np.random.seed(2)\n",
    "G1 = er_np(n=n, p=p)\n",
    "node_shuffle_input = np.random.permutation(n)\n",
    "\n",
    "G2 = G1[np.ix_(node_shuffle_input, node_shuffle_input)]\n",
    "\n",
    "heatmap(G1, title = \"Origional ER Graph (unshuffled)\")\n",
    "heatmap(G2, title = \"Shuffled ER graph\")"
   ]
  },
  {
   "cell_type": "code",
   "execution_count": null,
   "metadata": {},
   "outputs": [],
   "source": [
    "kklst= [(xx, yy) for xx, yy in zip(node_shuffle_input, np.arange(len(node_shuffle_input)))]\n",
    "kklst.sort(key=lambda x:x[0])\n",
    "print(\"Association from (node G1, node G2): \", kklst)\n",
    "kklst = np.array(kklst)\n",
    "\n",
    "kklst_dict = {}\n",
    "for kk in kklst:\n",
    "    kklst_dict[kk[0]]=kk[1]"
   ]
  },
  {
   "cell_type": "code",
   "execution_count": null,
   "metadata": {},
   "outputs": [],
   "source": [
    "voi = 5 # choose a vertex of interest\n",
    "\n",
    "VNalg = VNviaSGM()\n",
    "print(VNalg.fit_predict(G1, G2, voi, [kklst[0:num_seeds, 0], kklst[0:num_seeds, 1]]))"
   ]
  },
  {
   "cell_type": "markdown",
   "metadata": {},
   "source": [
    "The algorithm produces a nomination list in the following format (index j in G2, probability that j matches voi). Note: the output is sorted with the largest probability coming first in the output lsit. As seen, the actual correspondence is 5--37 and the model predicts that 5 (in graph G1) matches with 37 (in graph G2) with >90% confidence. "
   ]
  }
 ],
 "metadata": {
  "kernelspec": {
   "display_name": "Python 3",
   "language": "python",
   "name": "python3"
  },
  "language_info": {
   "codemirror_mode": {
    "name": "ipython",
    "version": 3
   },
   "file_extension": ".py",
   "mimetype": "text/x-python",
   "name": "python",
   "nbconvert_exporter": "python",
   "pygments_lexer": "ipython3",
   "version": "3.7.6"
  }
 },
 "nbformat": 4,
 "nbformat_minor": 2
}
