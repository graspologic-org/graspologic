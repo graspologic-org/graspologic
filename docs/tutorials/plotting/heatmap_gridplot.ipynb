{
 "cells": [
  {
   "cell_type": "markdown",
   "metadata": {},
   "source": [
    "# Visualizing Graphs\n",
    "\n",
    "This example provides how to visualize graphs using the heatmap and gridplot functions."
   ]
  },
  {
   "cell_type": "code",
   "execution_count": null,
   "metadata": {},
   "outputs": [],
   "source": [
    "import graspy\n",
    "\n",
    "import numpy as np\n",
    "%matplotlib inline"
   ]
  },
  {
   "cell_type": "markdown",
   "metadata": {},
   "source": [
    "## Plotting graphs using heatmap\n",
    "\n",
    "### Simulate graphs using weighted stochastic block models\n",
    "The 2-block model is defined as below:\n",
    "\\begin{align*}\n",
    "    P = \\begin{bmatrix}\n",
    "        0.8 & 0.2 \\\\\n",
    "        0.2 & 0.8 \n",
    "    \\end{bmatrix}\n",
    "\\end{align*}\n",
    "\n",
    "We generate two weight SBMs where the weights are distributed from a Poisson(3) and Normal(5, 1)."
   ]
  },
  {
   "cell_type": "code",
   "execution_count": null,
   "metadata": {},
   "outputs": [],
   "source": [
    "from graspy.simulations import sbm\n",
    "\n",
    "n_communities = [50, 50]\n",
    "p = [[0.8, 0.2], \n",
    "     [0.2, 0.8]]\n",
    "\n",
    "wt = np.random.poisson\n",
    "wtargs = dict(lam=3)\n",
    "A_poisson= sbm(n_communities, p, wt=wt, wtargs=wtargs)\n",
    "\n",
    "wt = np.random.normal\n",
    "wtargs = dict(loc=5, scale=1)\n",
    "A_normal = sbm(n_communities, p, wt=wt, wtargs=wtargs)"
   ]
  },
  {
   "cell_type": "markdown",
   "metadata": {},
   "source": [
    "## Plot the simulated weighted SBMs"
   ]
  },
  {
   "cell_type": "code",
   "execution_count": null,
   "metadata": {},
   "outputs": [],
   "source": [
    "from graspy.plot import heatmap\n",
    "\n",
    "title = 'Weighted Stochastic Block Model with Poisson(3)'\n",
    "\n",
    "fig= heatmap(A_poisson, title=title)"
   ]
  },
  {
   "cell_type": "code",
   "execution_count": null,
   "metadata": {},
   "outputs": [],
   "source": [
    "title = 'Weighted Stochastic Block Model with Normal(5, 1)'\n",
    "\n",
    "fig= heatmap(A_normal, title=title)"
   ]
  },
  {
   "cell_type": "markdown",
   "metadata": {},
   "source": [
    "### You can also change color maps\n",
    "\n",
    "See [here](https://matplotlib.org/tutorials/colors/colormaps.html) for a list of colormaps"
   ]
  },
  {
   "cell_type": "code",
   "execution_count": null,
   "metadata": {},
   "outputs": [],
   "source": [
    "title = 'Weighted Stochastic Block Model with Poisson(3)'\n",
    "\n",
    "fig= heatmap(A_poisson, title=title, transform=None, cmap=\"binary\", center=None)"
   ]
  },
  {
   "cell_type": "markdown",
   "metadata": {},
   "source": [
    "## Data transformations\n",
    "\n",
    "When your graphs have values that span a large range, it is often useful to transform the data in order to visualize the data properly. Below, we use a real graph that is estimated from the a structural MRI scan. The data is provided by [HNU1](http://dx.doi.org/10.15387/fcp_indi.corr.hnu1). \n",
    "\n",
    "The data ranges from 0 to 44813, and visuzliating without transformation will emphsize the large weights. Both log and pass-to-ranks transform provide a better visualization of the graph."
   ]
  },
  {
   "cell_type": "code",
   "execution_count": null,
   "metadata": {},
   "outputs": [],
   "source": [
    "G = np.load('./data/sub-0025427_ses-1_dwi_desikan.npy')\n",
    "\n",
    "print((np.min(G), np.max(G)))"
   ]
  },
  {
   "cell_type": "markdown",
   "metadata": {},
   "source": [
    "### Without transform"
   ]
  },
  {
   "cell_type": "code",
   "execution_count": null,
   "metadata": {},
   "outputs": [],
   "source": [
    "title = 'Without Transformation'\n",
    "fig= heatmap(G, title=title, transform=None)"
   ]
  },
  {
   "cell_type": "markdown",
   "metadata": {},
   "source": [
    "### With log transform"
   ]
  },
  {
   "cell_type": "code",
   "execution_count": null,
   "metadata": {},
   "outputs": [],
   "source": [
    "title = 'Log Transform'\n",
    "fig= heatmap(G, title=title, transform='log')"
   ]
  },
  {
   "cell_type": "markdown",
   "metadata": {},
   "source": [
    "### With pass to ranks"
   ]
  },
  {
   "cell_type": "code",
   "execution_count": null,
   "metadata": {},
   "outputs": [],
   "source": [
    "title = 'Pass-to-ranks (zero-boost) Transform'\n",
    "fig= heatmap(G, title=title, transform='zero-boost')"
   ]
  },
  {
   "cell_type": "markdown",
   "metadata": {},
   "source": [
    "## Overlaying two sparse graphs using gridplot\n",
    "\n",
    "### Simulate more graphs using weighted stochastic block models\n",
    "The 2-block model is defined as below:\n",
    "\\begin{align*}\n",
    "    P = \\begin{bmatrix}\n",
    "        0.25 & 0.05 \\\\\n",
    "        0.05 & 0.25\n",
    "    \\end{bmatrix}\n",
    "\\end{align*}\n",
    "\n",
    "We generate two weighted SBMs where the weights are distributed from a discrete uniform(1, 10) and discrete uniform(2, 5)."
   ]
  },
  {
   "cell_type": "code",
   "execution_count": null,
   "metadata": {},
   "outputs": [],
   "source": [
    "n_communities = [50, 50]\n",
    "p = np.array([[0.25, 0.05], [0.05, 0.25]])\n",
    "wt = np.random.randint\n",
    "wtargs = dict(low=1, high=10)\n",
    "\n",
    "np.random.seed(1)\n",
    "A_unif1= sbm(n_communities, p, wt=wt, wtargs=wtargs)\n",
    "\n",
    "wtargs = dict(low=2, high=5)\n",
    "A_unif2= sbm(n_communities, p, wt=wt, wtargs=wtargs)"
   ]
  },
  {
   "cell_type": "markdown",
   "metadata": {},
   "source": [
    "## Visualizing both graphs"
   ]
  },
  {
   "cell_type": "code",
   "execution_count": null,
   "metadata": {},
   "outputs": [],
   "source": [
    "from graspy.plot import gridplot\n",
    "\n",
    "X = [A_unif1, A_unif2]\n",
    "labels = [\"Uniform(1, 10)\", \"Uniform(2, 5)\"]\n",
    "\n",
    "f = gridplot(X=X, labels=labels, \n",
    "                   title='Two Weighted Stochastic Block Models', height=12, font_scale=1.5)"
   ]
  }
 ],
 "metadata": {
  "kernelspec": {
   "display_name": "graspy",
   "language": "python",
   "name": "graspy"
  },
  "language_info": {
   "codemirror_mode": {
    "name": "ipython",
    "version": 3
   },
   "file_extension": ".py",
   "mimetype": "text/x-python",
   "name": "python",
   "nbconvert_exporter": "python",
   "pygments_lexer": "ipython3",
   "version": "3.6.5"
  }
 },
 "nbformat": 4,
 "nbformat_minor": 2
}
