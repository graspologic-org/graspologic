{
 "cells": [
  {
   "cell_type": "markdown",
   "source": [
    "# Spectral Vertex Nomination\n",
    "\n",
    "This demo shows how to use the Spectral Vertex Nomination (SVN) class. We will use SVN to nominate vertices in a Stochastic Block Model (SBM)"
   ],
   "metadata": {
    "collapsed": false
   }
  },
  {
   "cell_type": "code",
   "execution_count": null,
   "outputs": [],
   "source": [
    "# imports\n",
    "import numpy as np\n",
    "from graspologic.nominate import SpectralVertexNominator\n",
    "from graspologic.simulations import sbm\n",
    "from graspologic.plot import heatmap\n",
    "from matplotlib import pyplot as plt\n",
    "\n",
    "%matplotlib inline"
   ],
   "metadata": {
    "collapsed": false,
    "pycharm": {
     "name": "#%%\n"
    }
   }
  },
  {
   "cell_type": "markdown",
   "source": [
    "# What is Spectral Vertex Nomination?\n",
    "Given a graph G=(V,E) and a subset of V called S (the \"seed\"), Single Graph Vertex Nomination is the problem of ranking all V ordered by degree of relation to members of S.\n",
    "Spectral Vertex Nomination (SVN) solves the Vertex Nomination problem by embedding a graph's adjacency matrix into a low dimensional euclidean space, then using distance based methods to establish relationship between vertices. (See embedding tutorials)\n",
    "\n",
    "SVN has the advantage of being extremely efficient on very large graphs, and requires very little prior knowledge of a graph's properties or structure. However, it does somewhat conflate the notion of community membership with vertex similarity.\n",
    "This might not be appropriate for all vertex nomination use cases. Synthetic SBM data, with inherently defined communities, is therefore a good setting for demonstrating SVN."
   ],
   "metadata": {
    "collapsed": false,
    "pycharm": {
     "name": "#%% md\n"
    }
   }
  },
  {
   "cell_type": "code",
   "execution_count": null,
   "outputs": [],
   "source": [
    "# construct graph from sbm\n",
    "n_verts = 100\n",
    "p = np.array([[0.5, 0.35, 0.2],\n",
    "              [0.35, 0.6, 0.3],\n",
    "              [0.2, 0.3, 0.65]])\n",
    "labels = np.array([0] * n_verts + [1] * n_verts + [2] * n_verts)\n",
    "adj = sbm(3 * [n_verts], p)\n",
    "fig = heatmap(adj, title='3-block SBM (undirected)', inner_hier_labels=labels)"
   ],
   "metadata": {
    "collapsed": false,
    "pycharm": {
     "name": "#%%\n"
    }
   }
  },
  {
   "cell_type": "markdown",
   "source": [
    "There are two cases of single graph vertex nomination. In the unattributed case, the seed S is simply a list of any number of vertices in the graph G. For each seed vertex s, SVN will return a list of the other vertices in order of euclidean distance to s.\n",
    "Here, we select a seed of 5 random vertices."
   ],
   "metadata": {
    "collapsed": false,
    "pycharm": {
     "name": "#%% md\n"
    }
   }
  },
  {
   "cell_type": "code",
   "execution_count": null,
   "outputs": [],
   "source": [
    "# define the seed as a random sample of 5 vertices from V.\n",
    "seed = np.random.choice(3 * n_verts, size=5, replace=False).astype(np.int)\n",
    "# instantiate a default SVN\n",
    "svn = SpectralVertexNominator()\n",
    "# fit to the adjacency matrix\n",
    "svn.fit(X=adj, y=seed)"
   ],
   "metadata": {
    "collapsed": false,
    "pycharm": {
     "name": "#%%\n"
    }
   }
  },
  {
   "cell_type": "markdown",
   "source": [
    "The predict method does not require any arguments since this is single graph VN. It generates the nomination list, and returns a tuple of the nomination list itself and the associated distance matrix. The top 5 vertices for each seed are plotted along the first two dimensions of the embedded space."
   ],
   "metadata": {
    "collapsed": false,
    "pycharm": {
     "name": "#%% md\n"
    }
   }
  },
  {
   "cell_type": "code",
   "execution_count": null,
   "outputs": [],
   "source": [
    "nomination_matrix, distance_matrix = svn.predict()\n",
    "color = ['red', 'green', 'yellow', 'cyan', 'pink']\n",
    "plt.scatter(svn.embedding[seed, 0], svn.embedding[seed, 1], c='black')\n",
    "for i in range(nomination_matrix.shape[1]):\n",
    "    plt.scatter(svn.embedding[nomination_matrix[1:6, i], 0],\n",
    "                svn.embedding[nomination_matrix[1:6, i], 1],\n",
    "                c=color[i])\n",
    "    plt.xticks([], [])\n",
    "    plt.yticks([], [])\n",
    "    plt.title('Top 5 Nominees For Each Seed (black) in First Two Embeded Dimensions')"
   ],
   "metadata": {
    "collapsed": false,
    "pycharm": {
     "name": "#%%\n"
    }
   }
  },
  {
   "cell_type": "markdown",
   "source": [
    "In the attributed case, seed vertices are labelled with an attribute id. Here this is achieved by passing the seed as a two dimensional array of seed indices and attributes.\n",
    "Now, instead of nominating for each seed vertex, we want to nominate for each attribute in the seed set.\n",
    "\n",
    "To demonstrate the effectiveness of vertex nomination, we will nominate 100 times on different instance of the sbm with different seeds, and then visualize probability of correctness at each position of the nomination list"
   ],
   "metadata": {
    "collapsed": false
   }
  },
  {
   "cell_type": "code",
   "execution_count": null,
   "outputs": [],
   "source": [
    "n_verts = 100\n",
    "group1_correct = np.zeros(3 * n_verts)\n",
    "group2_correct = np.zeros(3 * n_verts)\n",
    "group3_correct = np.zeros(3 * n_verts)\n",
    "labels = np.array([0] * n_verts + [1] * n_verts + [2] * n_verts)\n",
    "for i in range(100):\n",
    "    adj = sbm(3 * [n_verts], p)\n",
    "    seed = np.random.choice(3 * n_verts, size=30, replace=False).astype(np.int)\n",
    "    seed = np.concatenate([seed.reshape(-1,1), labels[seed].reshape(-1, 1)], axis=1)\n",
    "    nomination_matrix, _ = svn.fit_transform(adj, seed)\n",
    "    group1_correct[np.argwhere(labels[nomination_matrix.T[0]] == 0)] += 1\n",
    "    group2_correct[np.argwhere(labels[nomination_matrix.T[1]] == 1)] += 1\n",
    "    group3_correct[np.argwhere(labels[nomination_matrix.T[2]] == 2)] += 1\n",
    "g1_correct_prob = group1_correct / 100\n",
    "g2_correct_prob = group2_correct / 100\n",
    "g3_correct_prob = group3_correct / 100\n",
    "# define the seed as a random sample of 30 vertices from V.\n",
    "# attribute them according to block membership in the sbm"
   ],
   "metadata": {
    "collapsed": false,
    "pycharm": {
     "name": "#%%\n"
    }
   }
  },
  {
   "cell_type": "code",
   "execution_count": null,
   "outputs": [],
   "source": [
    "from matplotlib import pyplot as plt\n",
    "plt.scatter(np.arange(g1_correct_prob.shape[0]), g1_correct_prob, s=1, color='green')\n",
    "plt.scatter(np.arange(g2_correct_prob.shape[0]), g2_correct_prob, s=1, color='blue')\n",
    "plt.scatter(np.arange(g3_correct_prob.shape[0]), g3_correct_prob, s=1, color='red')\n",
    "plt.xlabel('Position in nomination list')\n",
    "plt.ylabel('Observed probability of correct attribute')\n",
    "plt.title('Spectral Nomination Correctness:')\n",
    "plt.show()\n"
   ],
   "metadata": {
    "collapsed": false,
    "pycharm": {
     "name": "#%%\n"
    }
   }
  },
  {
   "cell_type": "markdown",
   "source": [
    "The top 100 nominees for attribute 3 (red) are always in block 3 in the sbm! The others aren't perfect, but still have very high probability of effectiveness.\n"
   ],
   "metadata": {
    "collapsed": false,
    "pycharm": {
     "name": "#%% md\n"
    }
   }
  }
 ],
 "metadata": {
  "kernelspec": {
   "display_name": "Python 3",
   "language": "python",
   "name": "python3"
  },
  "language_info": {
   "codemirror_mode": {
    "name": "ipython",
    "version": 2
   },
   "file_extension": ".py",
   "mimetype": "text/x-python",
   "name": "python",
   "nbconvert_exporter": "python",
   "pygments_lexer": "ipython2",
   "version": "2.7.6"
  }
 },
 "nbformat": 4,
 "nbformat_minor": 0
}