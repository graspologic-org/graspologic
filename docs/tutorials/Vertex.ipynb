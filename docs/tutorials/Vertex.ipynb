{
 "cells": [
  {
   "cell_type": "markdown",
   "metadata": {},
   "source": [
    "# Vertex Clustering Using Adjacency Spectral Embedding and K-Means\n",
    "\n",
    "When you are given a graph, it may be interesting to see which nodes forms clusters. It can be difficult to visualize clusters, or blocks given an adjacency matrix. As such, in this tutorial, we will examine how we can use adjacency spectral embedding combined with k-means to cluster vertices of a graph. We will also explore why it is useful to use adjacency spectral embedding prior to clustering to get optimal results."
   ]
  },
  {
   "cell_type": "code",
   "execution_count": 2,
   "metadata": {},
   "outputs": [],
   "source": [
    "import numpy as np\n",
    "\n",
    "import graspy\n",
    "from graspy.embed import AdjacencySpectralEmbed\n",
    "from graspy.simulations import binary_sbm\n",
    "\n",
    "%matplotlib inline"
   ]
  },
  {
   "cell_type": "markdown",
   "metadata": {},
   "source": [
    "## Generate synthetic data\n",
    "In this example, we will work primarily with undirected graphs with no self loops. We will sample three binary stochastic block models with two blocks each with 50 vertices each, and with the following three probability blocks:\n",
    "\n",
    "\\begin{align*}\n",
    "P_1 = \n",
    "\\begin{bmatrix}0.5 & 0.5\\\\\n",
    "0.5 & 0.5\n",
    "\\end{bmatrix},~\n",
    "P_2 = \\begin{bmatrix}0.6 & 0.5\\\\\n",
    "0.5 & 0.6\n",
    "\\end{bmatrix}, ~\n",
    "P_3 = \\begin{bmatrix}0.7 & 0.5\\\\\n",
    "0.5 & 0.7\n",
    "\\end{bmatrix}\n",
    "\\end{align*}\n",
    "\n",
    "We will also generate labels for each vertices. In this case, the first 50 vertices correspond to the first block, which we will denote as 0, and the second 50 correspond to the second block, which we will denote as 1. We know the truth labels since we are using synthetic data, but we emphasize that the true block labeling is usually not known in real datasets."
   ]
  },
  {
   "cell_type": "code",
   "execution_count": 493,
   "metadata": {},
   "outputs": [],
   "source": [
    "# Set parameters\n",
    "n = [60, 40]\n",
    "\n",
    "P1 =  np.array([[0.42, 0.42], [0.42, 0.5]])\n",
    "P2 = np.array([[0.15, 0.1], \n",
    "               [0.1, 0.15]])\n",
    "P3 = np.array([[0.4, 0.2], \n",
    "               [0.2, 0.4]])\n",
    "\n",
    "#truth = np.repeat([0, 1], 50)\n",
    "n = 100\n",
    "n_ = [int(j) for j in rho * n]\n",
    "truth = [0] * int((rho[0]) * n) + [1] * int((rho[1]) * n)"
   ]
  },
  {
   "cell_type": "code",
   "execution_count": 494,
   "metadata": {},
   "outputs": [],
   "source": [
    "A = binary_sbm(n_, P1)"
   ]
  },
  {
   "cell_type": "code",
   "execution_count": 495,
   "metadata": {},
   "outputs": [
    {
     "data": {
      "text/plain": [
       "0.01369257950530042"
      ]
     },
     "execution_count": 495,
     "metadata": {},
     "output_type": "execute_result"
    }
   ],
   "source": [
    "km = KMeans(2)\n",
    "ARI(truth, km.fit_predict(A))"
   ]
  },
  {
   "cell_type": "code",
   "execution_count": 497,
   "metadata": {},
   "outputs": [
    {
     "data": {
      "text/plain": [
       "array([1, 1, 1, 1, 1, 1, 1, 1, 0, 0, 1, 0, 0, 1, 0, 1, 1, 0, 0, 1, 0, 1,\n",
       "       0, 1, 1, 0, 1, 1, 1, 0, 1, 1, 0, 0, 1, 1, 1, 0, 0, 0, 1, 1, 1, 1,\n",
       "       1, 0, 0, 1, 1, 0, 1, 1, 0, 1, 1, 0, 0, 1, 0, 1, 1, 1, 0, 0, 1, 0,\n",
       "       1, 0, 0, 0, 1, 0, 0, 1, 0, 0, 0, 0, 1, 1, 1, 1, 0, 0, 0, 0, 1, 1,\n",
       "       1, 1, 1, 1, 0, 0, 1, 0, 1, 0, 0, 1], dtype=int32)"
      ]
     },
     "execution_count": 497,
     "metadata": {},
     "output_type": "execute_result"
    }
   ],
   "source": [
    "km.fit_predict(A)"
   ]
  },
  {
   "cell_type": "code",
   "execution_count": 496,
   "metadata": {},
   "outputs": [
    {
     "data": {
      "text/plain": [
       "0.0056061667834618745"
      ]
     },
     "execution_count": 496,
     "metadata": {},
     "output_type": "execute_result"
    }
   ],
   "source": [
    "ase = AdjacencySpectralEmbed(k=1)\n",
    "Xhat = ase.fit_transform(A)\n",
    "km = KMeans(2)\n",
    "ARI(truth, km.fit_predict(Xhat))"
   ]
  },
  {
   "cell_type": "code",
   "execution_count": 431,
   "metadata": {},
   "outputs": [],
   "source": [
    "P = np.array([[0.42, 0.42], [0.42, 0.5]])\n",
    "rho = np.array([0.6, 0.4])\n",
    "n = [500, 1000]\n",
    "\n",
    "truth = np.repeat([0, 1], 50)"
   ]
  },
  {
   "cell_type": "code",
   "execution_count": 452,
   "metadata": {},
   "outputs": [
    {
     "name": "stdout",
     "output_type": "stream",
     "text": [
      "run 0\n",
      "run 1\n",
      "run 2\n",
      "run 3\n",
      "run 4\n",
      "run 5\n",
      "run 6\n",
      "run 7\n",
      "run 8\n",
      "run 9\n",
      "run 0\n",
      "run 1\n",
      "run 2\n",
      "run 3\n",
      "run 4\n",
      "run 5\n",
      "run 6\n",
      "run 7\n",
      "run 8\n",
      "run 9\n"
     ]
    }
   ],
   "source": [
    "kmeans_error = []\n",
    "embed_error = []\n",
    "for i in n:\n",
    "\n",
    "    truth = [0] * int((rho[0]) * i) + [1] * int((rho[1]) * i)\n",
    "    for z in range(10):\n",
    "        print('run {}'.format(z))\n",
    "        km = KMeans(2)\n",
    "        com = []\n",
    "        A = binary_sbm([int(j) for j in rho * i], P)\n",
    "        kmeans_error.append(ARI(truth, km.fit_predict(A)))\n",
    "        \n",
    "        ase = AdjacencySpectralEmbed(k=2)\n",
    "        Xhat = ase.fit_transform(A)\n",
    "        km = KMeans(2)\n",
    "        embed_error.append(ARI(truth, km.fit_predict(Xhat)))"
   ]
  },
  {
   "cell_type": "code",
   "execution_count": 453,
   "metadata": {},
   "outputs": [
    {
     "data": {
      "text/plain": [
       "[1.1565343176952035e-05,\n",
       " -0.0013895651662113127,\n",
       " -0.0019373412240537731,\n",
       " -0.0017101945095662728,\n",
       " -0.0019515007406964103,\n",
       " -0.0018854482257356195,\n",
       " -0.0024900311957896993,\n",
       " 0.0002246596335863257,\n",
       " 0.0005267066124463585,\n",
       " -0.002108104460489895,\n",
       " -0.0006430095503303557,\n",
       " -0.0007666517735804298,\n",
       " -0.0007813504419500414,\n",
       " -0.0010787087992766454,\n",
       " 0.00019507036835290727,\n",
       " 8.529246222457228e-05,\n",
       " -0.0010244718919542968,\n",
       " -0.00029883261773893896,\n",
       " -0.0007281635580399341,\n",
       " 0.2145235251657943]"
      ]
     },
     "execution_count": 453,
     "metadata": {},
     "output_type": "execute_result"
    }
   ],
   "source": [
    "embed_error"
   ]
  },
  {
   "cell_type": "code",
   "execution_count": 454,
   "metadata": {},
   "outputs": [
    {
     "data": {
      "text/plain": [
       "[0.015481353330745311,\n",
       " 0.03341318181366926,\n",
       " 0.0012047342780248595,\n",
       " 0.01997021071895575,\n",
       " 0.026714809872701785,\n",
       " -0.0024141123225673577,\n",
       " 0.06099672954397681,\n",
       " 0.00013676136491442827,\n",
       " 0.01998935378968367,\n",
       " 0.04414391058877757,\n",
       " 0.0419388028471526,\n",
       " 0.34442566955184395,\n",
       " 0.37113027154774053,\n",
       " 0.2973722273577886,\n",
       " 0.07976651834472266,\n",
       " 0.03362373841992601,\n",
       " 0.33094877139864987,\n",
       " 0.24322970357841717,\n",
       " 0.3566360328290683,\n",
       " 0.0726387078855726]"
      ]
     },
     "execution_count": 454,
     "metadata": {},
     "output_type": "execute_result"
    }
   ],
   "source": [
    "kmeans_error"
   ]
  },
  {
   "cell_type": "code",
   "execution_count": null,
   "metadata": {},
   "outputs": [],
   "source": []
  }
 ],
 "metadata": {
  "kernelspec": {
   "display_name": "graspy",
   "language": "python",
   "name": "graspy"
  },
  "language_info": {
   "codemirror_mode": {
    "name": "ipython",
    "version": 3
   },
   "file_extension": ".py",
   "mimetype": "text/x-python",
   "name": "python",
   "nbconvert_exporter": "python",
   "pygments_lexer": "ipython3",
   "version": "3.6.5"
  }
 },
 "nbformat": 4,
 "nbformat_minor": 2
}
