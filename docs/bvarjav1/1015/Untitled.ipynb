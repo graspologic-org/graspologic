{
 "cells": [
  {
   "cell_type": "code",
   "execution_count": 8,
   "metadata": {},
   "outputs": [],
   "source": [
    "import numpy as np\n",
    "import matplotlib.pyplot as plt"
   ]
  },
  {
   "cell_type": "markdown",
   "metadata": {},
   "source": [
    "We generate latent positions following a dirichlet distribution such that we can get valid RDPGs.\n",
    "\n",
    "Note that we have $n$ $X_i$s and each $X_i \\in \\mathbb{R}^K$.\n",
    "\n",
    "$$[X]^{n,k} = X_1, \\dots, X_n \\overset{iid}{\\sim} Dir(\\alpha)$$\n",
    "Where\n",
    "$$\\alpha = [\\alpha_1, \\dots, \\alpha_K]$$\n",
    "$$\\alpha_0 = \\sum_{j=1}^K \\alpha_j,$$\n",
    "The marginal distributions are Beta distributions\n",
    "$$X_{ij} \\sim Beta(\\alpha_j, \\alpha_0-\\alpha_j)$$\n",
    "$$E[X_{ij}] = \\frac{\\alpha_j}{\\alpha_0}, Var[X_j] = \\frac{\\alpha_j(\\alpha_0-\\alpha_j)}{\\alpha_0^2(\\alpha_0+1)}.$$"
   ]
  },
  {
   "cell_type": "code",
   "execution_count": 128,
   "metadata": {},
   "outputs": [],
   "source": [
    "def gen_alpha_uniform(k):\n",
    "    '''\n",
    "    Generates values alpha_1, ..., alpha_k which sum to 1 from a uniform\n",
    "    '''\n",
    "    alpha = np.random.uniform(0,1,k) # generate uniform alphas\n",
    "    alpha /= np.sum(alpha) # should sum to 1\n",
    "    return alpha\n",
    "\n",
    "def gen_x_dirichlet_alpha(n, alpha):\n",
    "    '''\n",
    "    Creates n Xi's from a set of alpha parameters\n",
    "    '''\n",
    "    X = np.random.dirichlet(alpha, n)\n",
    "    return X\n",
    "\n",
    "def gen_x_dirichlet(n,k):\n",
    "    '''\n",
    "    Creates n Xi's each of dimension K, iid from a Dir(alpha)\n",
    "    '''\n",
    "    alpha = gen_alpha_uniform(k)\n",
    "    X = np.random.dirichlet(alpha, n)\n",
    "    return X\n",
    "\n",
    "def create_RDPG(X):\n",
    "    '''\n",
    "    Creates RDPG matrix from a set of latent positions\n",
    "    '''\n",
    "    rdpg = np.dot(X,X.T)\n",
    "    return rdpg\n",
    "\n",
    "def create_adj(rdpg):\n",
    "    '''\n",
    "    Samples an adjacency matrix from an RDPG\n",
    "    '''\n",
    "    A = np.random.binomial(1,rdpg)\n",
    "    return A"
   ]
  },
  {
   "cell_type": "code",
   "execution_count": 129,
   "metadata": {},
   "outputs": [],
   "source": [
    "def adj(X):\n",
    "    '''\n",
    "    Samples adjacency matrix of RDPG from a set of latent positions\n",
    "    '''\n",
    "    rdpg = create_RDPG(X)\n",
    "    A = create_adj(rdpg)\n",
    "    return A"
   ]
  },
  {
   "cell_type": "code",
   "execution_count": 130,
   "metadata": {},
   "outputs": [],
   "source": [
    "alpha = gen_alpha_uniform(10) # 5-dimensional alpha\n",
    "X = gen_x_dirichlet_alpha(1000, alpha) # generated latent positions of shape (100,5) "
   ]
  },
  {
   "cell_type": "code",
   "execution_count": 132,
   "metadata": {},
   "outputs": [
    {
     "data": {
      "image/png": "[encoded data removed]",
      "text/plain": [
       "<Figure size 432x288 with 1 Axes>"
      ]
     },
     "metadata": {
      "needs_background": "light"
     },
     "output_type": "display_data"
    }
   ],
   "source": [
    "plt.plot(np.mean(X, axis=0), '.', label='avg Yj across X')\n",
    "plt.plot(alpha, '.', label='E[Yj] = alphaj/alpha0')\n",
    "plt.xlabel('Yi')\n",
    "plt.legend(loc=0)\n",
    "plt.show()"
   ]
  },
  {
   "cell_type": "code",
   "execution_count": null,
   "metadata": {},
   "outputs": [],
   "source": []
  }
 ],
 "metadata": {
  "kernelspec": {
   "display_name": "datasci",
   "language": "python",
   "name": "datasci"
  },
  "language_info": {
   "codemirror_mode": {
    "name": "ipython",
    "version": 3
   },
   "file_extension": ".py",
   "mimetype": "text/x-python",
   "name": "python",
   "nbconvert_exporter": "python",
   "pygments_lexer": "ipython3",
   "version": "3.7.0"
  },
  "toc": {
   "nav_menu": {},
   "number_sections": true,
   "sideBar": true,
   "skip_h1_title": false,
   "toc_cell": false,
   "toc_position": {},
   "toc_section_display": "block",
   "toc_window_display": false
  }
 },
 "nbformat": 4,
 "nbformat_minor": 2
}
