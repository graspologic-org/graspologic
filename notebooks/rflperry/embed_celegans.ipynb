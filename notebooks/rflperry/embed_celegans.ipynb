{
 "cells": [
  {
   "cell_type": "code",
   "execution_count": 1,
   "metadata": {},
   "outputs": [],
   "source": [
    "import numpy as np\n",
    "import pandas as pd\n",
    "from graspy.utils import * \n",
    "from graspy.plot import heatmap, pairplot, gridplot\n",
    "from graspy.embed import *\n",
    "import seaborn as sns\n",
    "import matplotlib.pyplot as plt\n",
    "import re\n",
    "import scipy\n",
    "import networkx as nx\n",
    "from pathlib import Path\n",
    "from sklearn.utils.graph_shortest_path import graph_shortest_path\n",
    "%matplotlib inline"
   ]
  },
  {
   "cell_type": "code",
   "execution_count": 3,
   "metadata": {},
   "outputs": [],
   "source": [
    "basedir = Path('../../../eleGraSPy')\n",
    "basedir = basedir / 'Cook et al revised Supplementary Information'\n",
    "matdir = basedir / 'SI 5 Connectome adjacency matrices Pedigo.xlsx'\n",
    "celldir = basedir / 'herm_cell_list_pedigo.xlsx'\n",
    "si3_path = basedir / 'SI 3 Synapse lists.xlsx'"
   ]
  },
  {
   "cell_type": "code",
   "execution_count": 4,
   "metadata": {},
   "outputs": [],
   "source": [
    "herm = pd.read_excel(si3_path, sheet_name=0)\n",
    "male = pd.read_excel(si3_path, sheet_name=1)\n",
    "new_labels = ['num_contin', 'em_series', 'pre', 'all_post', 'type', 'sections',\n",
    " 'num_post', 'post1', 'post2', 'post3', 'post4']\n",
    "herm.columns = new_labels\n",
    "male.columns = new_labels\n",
    "herm_chem = herm.loc[herm['type'] == 'chemical']\n",
    "herm_elec = herm.loc[herm['type'] == 'electrical']\n",
    "male_chem = male.loc[male['type'] == 'chemical']\n",
    "male_elec = male.loc[male['type'] == 'electrical']"
   ]
  },
  {
   "cell_type": "code",
   "execution_count": 5,
   "metadata": {},
   "outputs": [],
   "source": [
    "def get_pre_post(row):\n",
    "    pre = row.pre\n",
    "    post_names = re.split('[, .]', row.all_post)\n",
    "    pre = re.sub('[\\[\\] \\\\-#]', '', pre)\n",
    "    post_names = [re.sub('[\\[\\] \\\\-#]', '', post) for post in post_names]\n",
    "    return pre, post_names\n",
    "\n",
    "def get_cells(df):\n",
    "    names = set()\n",
    "    for i, row in df.iterrows():\n",
    "        pre, post_names = get_pre_post(row)\n",
    "        names.add(pre)\n",
    "        [names.add(post) for post in post_names]\n",
    "    if '' in names:\n",
    "        names.remove('')\n",
    "    cell_ids = np.unique(list(names))\n",
    "    inds = range(len(cell_ids))\n",
    "    cell_id_map = dict(zip(cell_ids,inds))\n",
    "    return cell_ids, cell_id_map\n",
    "\n",
    "def df_to_adjacency(df, nodelist, weight=1, directed=True):\n",
    "    rows = []\n",
    "    for i, row in df.iterrows():\n",
    "        pre, post_names = get_pre_post(row)\n",
    "        for a in post_names:\n",
    "            # pre | post | weight\n",
    "            rows.append([pre, a, weight])\n",
    "    \n",
    "    df_split = pd.DataFrame(rows, columns=['source', 'target', 'weight'])\n",
    "    if directed:\n",
    "        g = nx.MultiDiGraph()\n",
    "    else:\n",
    "        g = nx.MultiGraph()\n",
    "    g = nx.from_pandas_edgelist(df_split, create_using=g)\n",
    "    return nx.to_numpy_array(g, nodelist=nodelist)"
   ]
  },
  {
   "cell_type": "code",
   "execution_count": 6,
   "metadata": {},
   "outputs": [],
   "source": [
    "herm_cells, herm_cell_map = get_cells(herm_chem)\n",
    "male_cells, male_cell_map = get_cells(male_chem)"
   ]
  },
  {
   "cell_type": "code",
   "execution_count": null,
   "metadata": {},
   "outputs": [],
   "source": []
  }
 ],
 "metadata": {
  "kernelspec": {
   "display_name": "Python 3",
   "language": "python",
   "name": "python3"
  },
  "language_info": {
   "codemirror_mode": {
    "name": "ipython",
    "version": 3
   },
   "file_extension": ".py",
   "mimetype": "text/x-python",
   "name": "python",
   "nbconvert_exporter": "python",
   "pygments_lexer": "ipython3",
   "version": "3.7.1"
  }
 },
 "nbformat": 4,
 "nbformat_minor": 2
}
