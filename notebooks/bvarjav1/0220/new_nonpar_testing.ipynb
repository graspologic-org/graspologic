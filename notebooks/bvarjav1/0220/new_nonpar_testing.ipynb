{
 "cells": [
  {
   "cell_type": "code",
   "execution_count": 1,
   "metadata": {},
   "outputs": [],
   "source": [
    "import numpy as np\n",
    "import networkx as nx\n",
    "from sklearn.decomposition import TruncatedSVD as TSVD\n",
    "from graspy.embed import AdjacencySpectralEmbed\n",
    "\n",
    "from tqdm import tqdm_notebook as tqdm"
   ]
  },
  {
   "cell_type": "code",
   "execution_count": 2,
   "metadata": {},
   "outputs": [],
   "source": [
    "def gaussian_covariance(X, Y, bandwidth = 0.5):\n",
    "    diffs = np.expand_dims(X, 1) - np.expand_dims(Y, 0)\n",
    "    return np.exp(-0.5 * np.sum(diffs**2, axis=2) / bandwidth**2)"
   ]
  },
  {
   "cell_type": "code",
   "execution_count": 128,
   "metadata": {},
   "outputs": [],
   "source": [
    "def statistic(X, Y):\n",
    "    N, _ = X.shape\n",
    "    M, _ = Y.shape\n",
    "    x_stat = np.sum(gaussian_covariance(X, X, 0.5) - np.eye(N))/(N*(N-1))\n",
    "    y_stat = np.sum(gaussian_covariance(Y, Y, 0.5) - np.eye(M))/(M*(M-1))\n",
    "    xy_stat = np.sum(gaussian_covariance(X, Y, 0.5))/(N*M)\n",
    "    return x_stat - xy_stat + x_stat\n",
    "\n",
    "def statistic2(m, N):\n",
    "    x_stat = m[:N,:N]\n",
    "    y_stat = m[N:,N:]\n",
    "    xy_stat = m[:N,N:]\n",
    "    return np.sum(x_stat) - 2*np.sum(xy_stat) + np.sum(x_stat)\n",
    "\n",
    "def gen_stat(X, Y):\n",
    "    N, _ = X.shape\n",
    "    M, _ = Y.shape\n",
    "    x_stat = gaussian_covariance(X, X, 0.5) - np.eye(N)/(N*(N-1))\n",
    "    y_stat = gaussian_covariance(Y, Y, 0.5) - np.eye(M)/(M*(M-1))\n",
    "    xy_stat = gaussian_covariance(X, Y, 0.5)/(N*M)\n",
    "    return x_stat, y_stat, xy_stat"
   ]
  },
  {
   "cell_type": "code",
   "execution_count": 185,
   "metadata": {},
   "outputs": [],
   "source": [
    "def ASE2(A):\n",
    "    tsvd = TSVD()\n",
    "    vecs, vals = tsvd.fit(A).components_, tsvd.singular_values_\n",
    "    vecs_2 = np.array([vecs[0, :], vecs[1, :]]) \n",
    "    X_hat = vecs_2.T @ np.diag(vals[:2]**(1/2))\n",
    "    return X_hat\n",
    "\n",
    "def ASE(A): #too SLOW! Takes like 100 hrs... can't validate using this.\n",
    "    ase = AdjacencySpectralEmbed(algorithm='randomized')\n",
    "    X_hat = ase.fit_transform(A)\n",
    "    return X_hat"
   ]
  },
  {
   "cell_type": "code",
   "execution_count": 186,
   "metadata": {},
   "outputs": [
    {
     "name": "stdout",
     "output_type": "stream",
     "text": [
      "[7 3 6 8 5 4 0 2 1 9]\n",
      "[ 30 100  60  40  10  90  70  50  20  80]\n",
      "[  5  20  60   3   2   9 100  10  90  40]\n"
     ]
    }
   ],
   "source": [
    "N = 10\n",
    "x = np.array([0,1,2,3,4,5,6,7,8,9])\n",
    "y = np.array([10,20,30,40,50,60,70,80,90,100])\n",
    "z = np.concatenate((x,y))\n",
    "print(x[np.random.choice(np.arange(0,N), size = int(N), replace = False)])\n",
    "print(y[np.random.choice(np.arange(0,N), size = int(N), replace = False)])\n",
    "print(z[np.random.choice(np.arange(0,2*N), size = int(2*N), replace = False)][:N])"
   ]
  },
  {
   "cell_type": "code",
   "execution_count": 187,
   "metadata": {},
   "outputs": [],
   "source": [
    "def bootstrap(X, Y, M = 200, alpha = 0.05):\n",
    "    N, _ = X.shape\n",
    "    M2, _ = Y.shape\n",
    "    Z = np.concatenate((X,Y))\n",
    "    print(Z.shape)\n",
    "    \n",
    "    statistics = np.zeros(M)\n",
    "    #swap x and y\n",
    "    for i in range(M):\n",
    "        # bs_X = X[np.random.choice(np.arange(0,N), size = int(N/2), replace = False)]\n",
    "        # bs_Y = Y[np.random.choice(np.arange(0,M2), size = int(M2/2), replace = False)]\n",
    "        bs_Z = Z[np.random.choice(np.arange(0,N+M2), size = int(N+M2), replace = False)]\n",
    "        bs_X2 = bs_Z[:N,:]\n",
    "        bs_Y2 = bs_Z[N:,:]\n",
    "        statistics[i] = statistic(bs_X2, bs_Y2)\n",
    "        \n",
    "    sorted_ = np.sort(statistics)\n",
    "    rej_ind = int(np.ceil(((1 - alpha)*M)))\n",
    "    return sorted_[rej_ind]\n",
    "\n",
    "def bootstrap2(X, Y, M = 200, alpha = 0.05):\n",
    "    N, _ = X.shape\n",
    "    M2, _ = Y.shape\n",
    "    \n",
    "    xm, ym, xym = gen_stat(X, Y)\n",
    "    m = np.concatenate((np.concatenate((xm,xym)),np.concatenate((xym,ym))), axis=1)\n",
    "    statistics = np.zeros(M)\n",
    "    #swap x and y\n",
    "    for i in range(M):\n",
    "        ind = np.random.choice(np.arange(0,N+M2), size = int(N+M2), replace = False)\n",
    "        statistics[i] = statistic2(m[ind,:][:,ind],N)\n",
    "        \n",
    "    sorted_ = np.sort(statistics)\n",
    "    rej_ind = int(np.ceil(((1 - alpha)*M)))\n",
    "    return sorted_[rej_ind]"
   ]
  },
  {
   "cell_type": "code",
   "execution_count": 188,
   "metadata": {},
   "outputs": [],
   "source": [
    "def gen_data(n, eps):\n",
    "    pi = [0.4, 0.6]\n",
    "    sizes = [int(pi[0]*n), int(pi[1]*n)]\n",
    "\n",
    "    probsA = np.array([\n",
    "        [0.5, 0.2],\n",
    "        [0.2, 0.5]])\n",
    "    \n",
    "    probsB = np.array([\n",
    "        [0.5 + eps, 0.2],\n",
    "        [0.2, 0.5 + eps]])\n",
    "    \n",
    "    G1 = nx.stochastic_block_model(sizes, probsA)\n",
    "    A1 = nx.to_numpy_array(G1)\n",
    "\n",
    "    G2 = nx.stochastic_block_model(sizes, probsA)\n",
    "    A2 = nx.to_numpy_array(G2)\n",
    "    return sizes, probsA, probsB, A1, A2"
   ]
  },
  {
   "cell_type": "code",
   "execution_count": 189,
   "metadata": {},
   "outputs": [],
   "source": [
    "def median_heuristic(X1, X2):\n",
    "    X1_medians = np.median(X1, axis=0)\n",
    "    X2_medians = np.median(X2, axis=0)\n",
    "    val = np.multiply(X1_medians, X2_medians)\n",
    "    t = (val>0)*2-1\n",
    "    X1 = np.multiply(t.reshape(-1,1).T,X1)\n",
    "    return X1, X2"
   ]
  },
  {
   "cell_type": "code",
   "execution_count": 190,
   "metadata": {},
   "outputs": [
    {
     "ename": "NameError",
     "evalue": "name 'AdjacencySpectralEmbed' is not defined",
     "output_type": "error",
     "traceback": [
      "\u001b[0;31m---------------------------------------------------------------------------\u001b[0m",
      "\u001b[0;31mNameError\u001b[0m                                 Traceback (most recent call last)",
      "\u001b[0;32m<ipython-input-190-c0fd27cf2eeb>\u001b[0m in \u001b[0;36m<module>\u001b[0;34m()\u001b[0m\n\u001b[1;32m      4\u001b[0m \u001b[0msizes\u001b[0m\u001b[0;34m,\u001b[0m \u001b[0mprobsA\u001b[0m\u001b[0;34m,\u001b[0m \u001b[0mprobsB\u001b[0m\u001b[0;34m,\u001b[0m \u001b[0mA1\u001b[0m\u001b[0;34m,\u001b[0m \u001b[0mA2\u001b[0m \u001b[0;34m=\u001b[0m \u001b[0mgen_data\u001b[0m\u001b[0;34m(\u001b[0m\u001b[0mn\u001b[0m\u001b[0;34m,\u001b[0m \u001b[0meps\u001b[0m\u001b[0;34m)\u001b[0m\u001b[0;34m\u001b[0m\u001b[0;34m\u001b[0m\u001b[0m\n\u001b[1;32m      5\u001b[0m \u001b[0miters\u001b[0m \u001b[0;34m=\u001b[0m \u001b[0;36m1000\u001b[0m\u001b[0;34m\u001b[0m\u001b[0;34m\u001b[0m\u001b[0m\n\u001b[0;32m----> 6\u001b[0;31m \u001b[0mX1_hat\u001b[0m \u001b[0;34m=\u001b[0m \u001b[0mASE\u001b[0m\u001b[0;34m(\u001b[0m\u001b[0mA1\u001b[0m\u001b[0;34m)\u001b[0m\u001b[0;34m\u001b[0m\u001b[0;34m\u001b[0m\u001b[0m\n\u001b[0m\u001b[1;32m      7\u001b[0m \u001b[0mX2_hat\u001b[0m \u001b[0;34m=\u001b[0m \u001b[0mASE\u001b[0m\u001b[0;34m(\u001b[0m\u001b[0mA2\u001b[0m\u001b[0;34m)\u001b[0m\u001b[0;34m\u001b[0m\u001b[0;34m\u001b[0m\u001b[0m\n\u001b[1;32m      8\u001b[0m \u001b[0mX1_hat\u001b[0m\u001b[0;34m,\u001b[0m \u001b[0mX2_hat\u001b[0m \u001b[0;34m=\u001b[0m \u001b[0mmedian_heuristic\u001b[0m\u001b[0;34m(\u001b[0m\u001b[0mX1_hat\u001b[0m\u001b[0;34m,\u001b[0m \u001b[0mX2_hat\u001b[0m\u001b[0;34m)\u001b[0m\u001b[0;34m\u001b[0m\u001b[0;34m\u001b[0m\u001b[0m\n",
      "\u001b[0;32m<ipython-input-185-d85fe8017184>\u001b[0m in \u001b[0;36mASE\u001b[0;34m(A)\u001b[0m\n\u001b[1;32m      7\u001b[0m \u001b[0;34m\u001b[0m\u001b[0m\n\u001b[1;32m      8\u001b[0m \u001b[0;32mdef\u001b[0m \u001b[0mASE\u001b[0m\u001b[0;34m(\u001b[0m\u001b[0mA\u001b[0m\u001b[0;34m)\u001b[0m\u001b[0;34m:\u001b[0m \u001b[0;31m#too SLOW! Takes like 100 hrs... can't validate using this.\u001b[0m\u001b[0;34m\u001b[0m\u001b[0;34m\u001b[0m\u001b[0m\n\u001b[0;32m----> 9\u001b[0;31m     \u001b[0mase\u001b[0m \u001b[0;34m=\u001b[0m \u001b[0mAdjacencySpectralEmbed\u001b[0m\u001b[0;34m(\u001b[0m\u001b[0malgorithm\u001b[0m\u001b[0;34m=\u001b[0m\u001b[0;34m'randomized'\u001b[0m\u001b[0;34m)\u001b[0m\u001b[0;34m\u001b[0m\u001b[0;34m\u001b[0m\u001b[0m\n\u001b[0m\u001b[1;32m     10\u001b[0m     \u001b[0mX_hat\u001b[0m \u001b[0;34m=\u001b[0m \u001b[0mase\u001b[0m\u001b[0;34m.\u001b[0m\u001b[0mfit_transform\u001b[0m\u001b[0;34m(\u001b[0m\u001b[0mA\u001b[0m\u001b[0;34m)\u001b[0m\u001b[0;34m\u001b[0m\u001b[0;34m\u001b[0m\u001b[0m\n\u001b[1;32m     11\u001b[0m     \u001b[0;32mreturn\u001b[0m \u001b[0mX_hat\u001b[0m\u001b[0;34m\u001b[0m\u001b[0;34m\u001b[0m\u001b[0m\n",
      "\u001b[0;31mNameError\u001b[0m: name 'AdjacencySpectralEmbed' is not defined"
     ]
    }
   ],
   "source": [
    "#np.random.seed(1)\n",
    "n = 100\n",
    "eps = 0.1\n",
    "sizes, probsA, probsB, A1, A2 = gen_data(n, eps)\n",
    "iters = 1000\n",
    "X1_hat = ASE(A1)\n",
    "X2_hat = ASE(A2)\n",
    "X1_hat, X2_hat = median_heuristic(X1_hat, X2_hat)\n",
    "critical_value = bootstrap2(X1_hat, X2_hat)\n",
    "print(critical_value)"
   ]
  },
  {
   "cell_type": "code",
   "execution_count": 191,
   "metadata": {},
   "outputs": [],
   "source": [
    "def estimated_power(n, eps, M, alpha, iters):\n",
    "    sizes, probsA, probsB, A1, A2 = gen_data(n, eps)\n",
    "    \n",
    "    X1_hat = ASE(A1)\n",
    "    X2_hat = ASE(A2)\n",
    "    X1_hat, X2_hat = median_heuristic(X1_hat, X2_hat)\n",
    "    critical_value = bootstrap(X1_hat, X2_hat, M, alpha)\n",
    "    \n",
    "    rejections = 0\n",
    "    for i in range(iters):\n",
    "        G3 = nx.stochastic_block_model(sizes, probsA)\n",
    "        A = nx.to_numpy_array(G3)\n",
    "        G4 = nx.stochastic_block_model(sizes, probsB)\n",
    "        B = nx.to_numpy_array(G4)\n",
    "        X_hat = ASE(A)\n",
    "        Y_hat = ASE(B)\n",
    "        X_hat, Y_hat = median_heuristic(X_hat, Y_hat)\n",
    "        U = statistic(X_hat, Y_hat)\n",
    "        if U > critical_value:\n",
    "            rejections += 1\n",
    "    return rejections/iters"
   ]
  },
  {
   "cell_type": "code",
   "execution_count": 192,
   "metadata": {},
   "outputs": [],
   "source": [
    "def estimated_power2(n, eps, M, alpha, iters):\n",
    "    rejections = 0\n",
    "    for i in range(iters):\n",
    "        sizes, probsA, probsB, A1, A2 = gen_data(n, eps)\n",
    "\n",
    "        G3 = nx.stochastic_block_model(sizes, probsA)\n",
    "        A = nx.to_numpy_array(G3)\n",
    "        G4 = nx.stochastic_block_model(sizes, probsB)\n",
    "        B = nx.to_numpy_array(G4)\n",
    "        X_hat = ASE(A)\n",
    "        Y_hat = ASE(B)\n",
    "        X_hat, Y_hat = median_heuristic(X_hat, Y_hat)\n",
    "        critical_value = bootstrap(X_hat, Y_hat, M, alpha)\n",
    "        \n",
    "        U = statistic(X1_hat, X2_hat)\n",
    "        if U > critical_value:\n",
    "            rejections += 1\n",
    "    return rejections/iters"
   ]
  },
  {
   "cell_type": "code",
   "execution_count": 193,
   "metadata": {},
   "outputs": [],
   "source": [
    "def monte_carlo(ns, eps, M = 200, alpha = 0.05, iters = 1000):\n",
    "    powers = np.zeros(shape = (len(ns),len(eps)))\n",
    "    for i in tqdm(range(len(ns))):\n",
    "        for j in range(len(eps)):\n",
    "            powers[i,j] = np.array(estimated_power(ns[i], eps[j], M, alpha, iters))\n",
    "    return powers"
   ]
  },
  {
   "cell_type": "code",
   "execution_count": null,
   "metadata": {},
   "outputs": [],
   "source": []
  },
  {
   "cell_type": "code",
   "execution_count": null,
   "metadata": {},
   "outputs": [],
   "source": []
  },
  {
   "cell_type": "code",
   "execution_count": 1,
   "metadata": {},
   "outputs": [
    {
     "ename": "NameError",
     "evalue": "name 'monte_carlo' is not defined",
     "output_type": "error",
     "traceback": [
      "\u001b[0;31m---------------------------------------------------------------------------\u001b[0m",
      "\u001b[0;31mNameError\u001b[0m                                 Traceback (most recent call last)",
      "\u001b[0;32m<ipython-input-1-b363296b5d11>\u001b[0m in \u001b[0;36m<module>\u001b[0;34m\u001b[0m\n\u001b[1;32m      2\u001b[0m \u001b[0mmonte_ns\u001b[0m \u001b[0;34m=\u001b[0m \u001b[0;34m[\u001b[0m\u001b[0;36m100\u001b[0m\u001b[0;34m]\u001b[0m\u001b[0;34m\u001b[0m\u001b[0;34m\u001b[0m\u001b[0m\n\u001b[1;32m      3\u001b[0m \u001b[0mmonte_eps\u001b[0m \u001b[0;34m=\u001b[0m \u001b[0;34m[\u001b[0m\u001b[0;36m0.02\u001b[0m\u001b[0;34m]\u001b[0m\u001b[0;34m\u001b[0m\u001b[0;34m\u001b[0m\u001b[0m\n\u001b[0;32m----> 4\u001b[0;31m \u001b[0mpower_table\u001b[0m \u001b[0;34m=\u001b[0m \u001b[0mmonte_carlo\u001b[0m\u001b[0;34m(\u001b[0m\u001b[0mns\u001b[0m \u001b[0;34m=\u001b[0m \u001b[0mmonte_ns\u001b[0m\u001b[0;34m,\u001b[0m \u001b[0meps\u001b[0m \u001b[0;34m=\u001b[0m \u001b[0mmonte_eps\u001b[0m\u001b[0;34m)\u001b[0m\u001b[0;34m\u001b[0m\u001b[0;34m\u001b[0m\u001b[0m\n\u001b[0m",
      "\u001b[0;31mNameError\u001b[0m: name 'monte_carlo' is not defined"
     ]
    }
   ],
   "source": [
    "# monte_ns = [100, 200, 500, 1000]\n",
    "monte_ns = [100]\n",
    "monte_eps = [0.02]\n",
    "power_table = monte_carlo(ns = monte_ns, eps = monte_eps)"
   ]
  },
  {
   "cell_type": "code",
   "execution_count": 2,
   "metadata": {},
   "outputs": [
    {
     "name": "stdout",
     "output_type": "stream",
     "text": [
      "Paper results\n",
      "[[0.06 0.09 0.27]\n",
      " [0.09 0.17 0.83]\n",
      " [0.1  0.43 1.  ]\n",
      " [0.14 1.   1.  ]]\n",
      "Sim results\n"
     ]
    },
    {
     "ename": "NameError",
     "evalue": "name 'power_table' is not defined",
     "output_type": "error",
     "traceback": [
      "\u001b[0;31m---------------------------------------------------------------------------\u001b[0m",
      "\u001b[0;31mNameError\u001b[0m                                 Traceback (most recent call last)",
      "\u001b[0;32m<ipython-input-2-2ace5ae94118>\u001b[0m in \u001b[0;36m<module>\u001b[0;34m\u001b[0m\n\u001b[1;32m      2\u001b[0m \u001b[0mprint\u001b[0m\u001b[0;34m(\u001b[0m\u001b[0mnp\u001b[0m\u001b[0;34m.\u001b[0m\u001b[0marray\u001b[0m\u001b[0;34m(\u001b[0m\u001b[0;34m[\u001b[0m\u001b[0;34m[\u001b[0m\u001b[0;36m.06\u001b[0m\u001b[0;34m,\u001b[0m\u001b[0;36m.09\u001b[0m\u001b[0;34m,\u001b[0m\u001b[0;36m.27\u001b[0m\u001b[0;34m]\u001b[0m\u001b[0;34m,\u001b[0m\u001b[0;34m[\u001b[0m\u001b[0;36m.09\u001b[0m\u001b[0;34m,\u001b[0m\u001b[0;36m.17\u001b[0m\u001b[0;34m,\u001b[0m\u001b[0;36m.83\u001b[0m\u001b[0;34m]\u001b[0m\u001b[0;34m,\u001b[0m\u001b[0;34m[\u001b[0m\u001b[0;36m.1\u001b[0m\u001b[0;34m,\u001b[0m\u001b[0;36m.43\u001b[0m\u001b[0;34m,\u001b[0m\u001b[0;36m1\u001b[0m\u001b[0;34m]\u001b[0m\u001b[0;34m,\u001b[0m\u001b[0;34m[\u001b[0m\u001b[0;36m.14\u001b[0m\u001b[0;34m,\u001b[0m\u001b[0;36m1\u001b[0m\u001b[0;34m,\u001b[0m\u001b[0;36m1\u001b[0m\u001b[0;34m]\u001b[0m\u001b[0;34m]\u001b[0m\u001b[0;34m)\u001b[0m\u001b[0;34m)\u001b[0m\u001b[0;34m\u001b[0m\u001b[0;34m\u001b[0m\u001b[0m\n\u001b[1;32m      3\u001b[0m \u001b[0mprint\u001b[0m\u001b[0;34m(\u001b[0m\u001b[0;34m\"Sim results\"\u001b[0m\u001b[0;34m)\u001b[0m\u001b[0;34m\u001b[0m\u001b[0;34m\u001b[0m\u001b[0m\n\u001b[0;32m----> 4\u001b[0;31m \u001b[0mprint\u001b[0m\u001b[0;34m(\u001b[0m\u001b[0mround\u001b[0m\u001b[0;34m(\u001b[0m\u001b[0mpower_table\u001b[0m\u001b[0;34m,\u001b[0m\u001b[0;36m2\u001b[0m\u001b[0;34m)\u001b[0m\u001b[0;34m)\u001b[0m\u001b[0;34m\u001b[0m\u001b[0;34m\u001b[0m\u001b[0m\n\u001b[0m",
      "\u001b[0;31mNameError\u001b[0m: name 'power_table' is not defined"
     ]
    }
   ],
   "source": [
    "print(\"Paper results\")\n",
    "print(np.array([[.06,.09,.27],[.09,.17,.83],[.1,.43,1],[.14,1,1]]))\n",
    "print(\"Sim results\")\n",
    "print(round(power_table,2))"
   ]
  },
  {
   "cell_type": "code",
   "execution_count": null,
   "metadata": {},
   "outputs": [],
   "source": []
  },
  {
   "cell_type": "code",
   "execution_count": null,
   "metadata": {},
   "outputs": [],
   "source": []
  },
  {
   "cell_type": "code",
   "execution_count": null,
   "metadata": {},
   "outputs": [],
   "source": []
  },
  {
   "cell_type": "code",
   "execution_count": null,
   "metadata": {},
   "outputs": [],
   "source": []
  }
 ],
 "metadata": {
  "kernelspec": {
   "display_name": "Python 3",
   "language": "python",
   "name": "python3"
  },
  "language_info": {
   "codemirror_mode": {
    "name": "ipython",
    "version": 3
   },
   "file_extension": ".py",
   "mimetype": "text/x-python",
   "name": "python",
   "nbconvert_exporter": "python",
   "pygments_lexer": "ipython3",
   "version": "3.6.7"
  }
 },
 "nbformat": 4,
 "nbformat_minor": 2
}
