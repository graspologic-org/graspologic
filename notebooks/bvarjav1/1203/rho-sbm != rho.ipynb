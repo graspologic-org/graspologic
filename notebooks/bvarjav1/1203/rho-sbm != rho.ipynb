{
 "cells": [
  {
   "cell_type": "code",
   "execution_count": 13,
   "metadata": {},
   "outputs": [],
   "source": [
    "import numpy as np\n",
    "import matplotlib.pyplot as plt\n",
    "from mpl_toolkits import mplot3d\n",
    "from graspy.simulations import binary_sbm\n",
    "from graspy.utils import symmetrize\n",
    "from tqdm import tqdm_notebook as tqdm\n",
    "import warnings\n",
    "warnings.filterwarnings(\"ignore\")"
   ]
  },
  {
   "cell_type": "code",
   "execution_count": 73,
   "metadata": {},
   "outputs": [],
   "source": [
    "def rho_sbm(rho,k,L,n=100):\n",
    "    \"\"\"\n",
    "    Generates 2 adjacency matrices A,B of graphs G1, G2.\n",
    "    (G1,G2) are sampled from a rho-SBM(k,b,L) by the method described in [1].\n",
    "    The block membership function assumes the first n//k belong to block 1, and so on.\n",
    "    \n",
    "    Parameters\n",
    "    ----------\n",
    "    rho : float, int\n",
    "        correlation between graphs.\n",
    "        0.0 <= rho <= 1.0\n",
    "    k : int\n",
    "        number of blocks of the rho-SBM.\n",
    "        k >= 1\n",
    "    L : array-like\n",
    "        edge probability matrix, each entry a float between 0 and 1.\n",
    "        L should be of size k by k.\n",
    "    n : int, optional, default = 100\n",
    "        number of vertices for each graph\n",
    "    \n",
    "    Returns\n",
    "    -------\n",
    "    A : array-like\n",
    "        The adjacency matrix of graph G1\n",
    "    B : array-like\n",
    "        The adjacency matrix of graph G2\n",
    "\n",
    "    References\n",
    "    ----------\n",
    "    .. [1] Fishkind et. al (2012).\n",
    "        Seeded Graph Matching\n",
    "        arXiv:1209.0367v4\n",
    "    \"\"\"\n",
    "    L = symmetrize(L)\n",
    "    A = binary_sbm([int(n/k)]*k, L)\n",
    "    BL = np.repeat(np.repeat(L,n//k,0),n//k,1)\n",
    "    B = np.random.binomial(1,(1-rho)*BL + rho*A)\n",
    "    np.fill_diagonal(B,0)\n",
    "    return A,B\n",
    "\n",
    "def rho_h(nvec,pvec):\n",
    "    mu = np.sum(np.multiply(nvec,pvec))/np.sum(nvec)\n",
    "    var1 = np.square(np.subtract(pvec,mu))\n",
    "    var = np.sum(np.multiply(nvec,var1))/np.sum(nvec)\n",
    "    return var/(mu*(1-mu))\n",
    "\n",
    "def corr(A,B):\n",
    "    A = A.ravel()\n",
    "    B = B.ravel()\n",
    "    x = np.vstack((A.ravel(),B.ravel()))\n",
    "    return np.corrcoef(x)[0,1]"
   ]
  },
  {
   "cell_type": "code",
   "execution_count": 46,
   "metadata": {},
   "outputs": [],
   "source": [
    "def gen_ER_data(MONTE_ITER=100):\n",
    "    allL = []\n",
    "    for L in tqdm(np.linspace(0,1,11)):\n",
    "        someL = []\n",
    "        for rho in np.linspace(0,1,101):\n",
    "            monte = []\n",
    "            for _ in range(MONTE_ITER):\n",
    "                A,B = rho_sbm(rho, 1, np.array([[L]]))\n",
    "                c = corr(A,B)\n",
    "                monte.append(c)\n",
    "            y = np.mean(monte)\n",
    "            yerr = np.std(monte)\n",
    "            someL.append((y,yerr))\n",
    "        allL.append(someL)\n",
    "    return np.array(allL)"
   ]
  },
  {
   "cell_type": "code",
   "execution_count": 48,
   "metadata": {},
   "outputs": [
    {
     "data": {
      "application/vnd.jupyter.widget-view+json": {
       "model_id": "96f789cd1bbb4a20a30a7fe17f177c60",
       "version_major": 2,
       "version_minor": 0
      },
      "text/plain": [
       "HBox(children=(IntProgress(value=0, max=11), HTML(value='')))"
      ]
     },
     "metadata": {},
     "output_type": "display_data"
    }
   ],
   "source": [
    "x = np.linspace(0,1,11)\n",
    "y = np.linspace(0,1,101)\n",
    "z = gen_ER_data()"
   ]
  },
  {
   "cell_type": "code",
   "execution_count": 70,
   "metadata": {},
   "outputs": [
    {
     "data": {
      "application/vnd.jupyter.widget-view+json": {
       "model_id": "bdc9ff6196dd433f9e5c298fd685d748",
       "version_major": 2,
       "version_minor": 0
      },
      "text/plain": [
       "HBox(children=(IntProgress(value=0, max=101), HTML(value='')))"
      ]
     },
     "metadata": {},
     "output_type": "display_data"
    }
   ],
   "source": [
    "def rho_h_t(rho_e, rho_h):\n",
    "    return 1-(1-rho_e)*(1-rho_h)\n",
    "\n",
    "def rho_t(nvec,pvec,rho_e):\n",
    "    h = rho_h(nvec,pvec)\n",
    "    return rho_h_t(rho_e,h)\n",
    "\n",
    "rhoh = []\n",
    "for i in tqdm(y):\n",
    "    rhoh.append(rho_t([int(100/1)]*1, np.diag(np.array([L])), i))"
   ]
  },
  {
   "cell_type": "code",
   "execution_count": 57,
   "metadata": {},
   "outputs": [
    {
     "data": {
      "text/html": [
       "<iframe id=\"igraph\" scrolling=\"no\" style=\"border:none;\" seamless=\"seamless\" src=\"https://plot.ly/~howdosheeplamp/304.embed\" height=\"750px\" width=\"750px\"></iframe>"
      ],
      "text/plain": [
       "<plotly.tools.PlotlyDisplay object>"
      ]
     },
     "execution_count": 57,
     "metadata": {},
     "output_type": "execute_result"
    }
   ],
   "source": [
    "import plotly.plotly as py\n",
    "import plotly.graph_objs as go\n",
    "\n",
    "data = [\n",
    "    go.Surface(\n",
    "        x=y,\n",
    "        y=x,\n",
    "        z=z[:,:,0]\n",
    "    ),\n",
    "    go.Surface(\n",
    "        x=y,\n",
    "        y=x,\n",
    "        z=z[:,:,0]+z[:,:,1],\n",
    "        showscale=False, opacity=0.8\n",
    "    ),\n",
    "    go.Surface(\n",
    "        x=y,\n",
    "        y=x,\n",
    "        z=z[:,:,0]-z[:,:,1],\n",
    "        showscale=False, opacity=0.8\n",
    "    ),\n",
    "]\n",
    "\n",
    "layout = go.Layout(\n",
    "    title='rho-ER',\n",
    "    autosize=False,\n",
    "    scene = dict(\n",
    "        xaxis = dict(\n",
    "            title='rho parameter'),\n",
    "        yaxis = dict(\n",
    "            title='edge probability'),\n",
    "        zaxis = dict(\n",
    "            title='calculated rho') \n",
    "    ),\n",
    "    width=750,\n",
    "    height=750,\n",
    "    margin=dict(\n",
    "        l=65,\n",
    "        r=50,\n",
    "        b=65,\n",
    "        t=90\n",
    "    )\n",
    ")\n",
    "\n",
    "fig = go.Figure(data=data, layout=layout)\n",
    "py.iplot(fig)"
   ]
  },
  {
   "cell_type": "code",
   "execution_count": null,
   "metadata": {},
   "outputs": [],
   "source": [
    "plt.errorbar(np.linspace(0,1,101),y,yerr=yerr)\n",
    "plt.title('rho of of rho-sbms (100 monte)')\n",
    "plt.xlabel(r\"$\\rho$ input\")\n",
    "plt.ylabel(r'$\\rho$ output')\n",
    "plt.show()"
   ]
  },
  {
   "cell_type": "code",
   "execution_count": 47,
   "metadata": {},
   "outputs": [],
   "source": [
    "def gen_z(L,rho,MONTE_ITER=100):\n",
    "    monte = []\n",
    "    for _ in range(MONTE_ITER):\n",
    "        A,B = rho_sbm(rho, 1, np.array([[L]]))\n",
    "        c = corr(A,B)\n",
    "        monte.append(c)\n",
    "    y = np.mean(monte)\n",
    "    yerr = np.std(monte)"
   ]
  }
 ],
 "metadata": {
  "kernelspec": {
   "display_name": "datasci",
   "language": "python",
   "name": "datasci"
  },
  "language_info": {
   "codemirror_mode": {
    "name": "ipython",
    "version": 3
   },
   "file_extension": ".py",
   "mimetype": "text/x-python",
   "name": "python",
   "nbconvert_exporter": "python",
   "pygments_lexer": "ipython3",
   "version": "3.7.0"
  },
  "toc": {
   "nav_menu": {},
   "number_sections": true,
   "sideBar": true,
   "skip_h1_title": false,
   "toc_cell": false,
   "toc_position": {},
   "toc_section_display": "block",
   "toc_window_display": false
  }
 },
 "nbformat": 4,
 "nbformat_minor": 2
}
