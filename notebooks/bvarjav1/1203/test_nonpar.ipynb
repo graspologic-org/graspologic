{
 "cells": [
  {
   "cell_type": "code",
   "execution_count": 16,
   "metadata": {},
   "outputs": [
    {
     "ename": "ModuleNotFoundError",
     "evalue": "No module named 'graspy.inference'",
     "output_type": "error",
     "traceback": [
      "\u001b[0;31m---------------------------------------------------------------------------\u001b[0m",
      "\u001b[0;31mModuleNotFoundError\u001b[0m                       Traceback (most recent call last)",
      "\u001b[0;32m<ipython-input-16-013ad18d386c>\u001b[0m in \u001b[0;36m<module>\u001b[0;34m()\u001b[0m\n\u001b[1;32m      9\u001b[0m \u001b[0;32mfrom\u001b[0m \u001b[0mtqdm\u001b[0m \u001b[0;32mimport\u001b[0m \u001b[0mtqdm_notebook\u001b[0m \u001b[0;32mas\u001b[0m \u001b[0mtqdm\u001b[0m\u001b[0;34m\u001b[0m\u001b[0m\n\u001b[1;32m     10\u001b[0m \u001b[0;34m\u001b[0m\u001b[0m\n\u001b[0;32m---> 11\u001b[0;31m \u001b[0;32mfrom\u001b[0m \u001b[0mgraspy\u001b[0m\u001b[0;34m.\u001b[0m\u001b[0minference\u001b[0m \u001b[0;32mimport\u001b[0m \u001b[0mNonParametricTest\u001b[0m\u001b[0;34m\u001b[0m\u001b[0m\n\u001b[0m\u001b[1;32m     12\u001b[0m \u001b[0;34m\u001b[0m\u001b[0m\n\u001b[1;32m     13\u001b[0m \u001b[0mwarnings\u001b[0m\u001b[0;34m.\u001b[0m\u001b[0mfilterwarnings\u001b[0m\u001b[0;34m(\u001b[0m\u001b[0;34m\"ignore\"\u001b[0m\u001b[0;34m)\u001b[0m\u001b[0;34m\u001b[0m\u001b[0m\n",
      "\u001b[0;31mModuleNotFoundError\u001b[0m: No module named 'graspy.inference'"
     ]
    }
   ],
   "source": [
    "import numpy as np\n",
    "import matplotlib.pyplot as plt\n",
    "#from graspy.inference import SemiparametricTest\n",
    "from graspy.embed import AdjacencySpectralEmbed\n",
    "import seaborn as sns\n",
    "import warnings\n",
    "from graspy.simulations import binary_sbm#, rdpg\n",
    "from graspy.utils import symmetrize\n",
    "from tqdm import tqdm_notebook as tqdm\n",
    "\n",
    "from graspy.inference import NonParametricTest\n",
    "\n",
    "warnings.filterwarnings(\"ignore\")\n",
    "FONTSIZE = 30"
   ]
  },
  {
   "cell_type": "code",
   "execution_count": 2,
   "metadata": {},
   "outputs": [],
   "source": [
    "def double_plot(A, B):\n",
    "    fig, ax = plt.subplots(1, 2, figsize=(20,10))\n",
    "    sns.heatmap(A, ax=ax[0], xticklabels=False, yticklabels=False, cbar=False, cmap='Blues')\n",
    "    sns.heatmap(B, ax=ax[1], xticklabels=False, yticklabels=False, cbar=False, cmap='Blues')\n",
    "    ax[0].set_title('Adjacency matrix A', fontsize=FONTSIZE)\n",
    "    ax[1].set_title('Adjacency matrix B',fontsize=FONTSIZE)\n",
    "    return ax"
   ]
  },
  {
   "cell_type": "code",
   "execution_count": 3,
   "metadata": {},
   "outputs": [],
   "source": [
    "n = 100\n",
    "k = 4\n",
    "L = np.array([\n",
    "    [0.9, 0.11, 0.13, 0.2],\n",
    "    [0, 0.7, 0.1, 0.1], \n",
    "    [0, 0, 0.8, 0.1],\n",
    "    [0, 0, 0, 0.85]\n",
    "])\n",
    "L = symmetrize(L)"
   ]
  },
  {
   "cell_type": "code",
   "execution_count": 4,
   "metadata": {},
   "outputs": [],
   "source": [
    "def sbm(rho,k,L,n=100):\n",
    "    L = symmetrize(L)\n",
    "    A = binary_sbm([int(n/k)]*k, L)\n",
    "    B = binary_sbm([int(n/k)]*k, L)\n",
    "    A = symmetrize(A)\n",
    "    B = symmetrize(B)\n",
    "    #np.fill_diagonal(B,0)\n",
    "    return A,B"
   ]
  },
  {
   "cell_type": "code",
   "execution_count": 5,
   "metadata": {},
   "outputs": [
    {
     "data": {
      "image/png": "[encoded data removed]",
      "text/plain": [
       "<Figure size 1440x720 with 2 Axes>"
      ]
     },
     "metadata": {},
     "output_type": "display_data"
    }
   ],
   "source": [
    "A,B = sbm(.9,k,L,n)\n",
    "double_plot(A,B)\n",
    "plt.show()"
   ]
  },
  {
   "cell_type": "code",
   "execution_count": 6,
   "metadata": {},
   "outputs": [],
   "source": [
    "Xhat1 = AdjacencySpectralEmbed(k=4).fit(A).X\n",
    "Xhat2 = AdjacencySpectralEmbed(k=4).fit(B).X"
   ]
  },
  {
   "cell_type": "code",
   "execution_count": 7,
   "metadata": {},
   "outputs": [
    {
     "name": "stdout",
     "output_type": "stream",
     "text": [
      "(100, 4) (100, 4)\n"
     ]
    }
   ],
   "source": [
    "print(Xhat1.shape, Xhat2.shape)"
   ]
  },
  {
   "cell_type": "code",
   "execution_count": 8,
   "metadata": {},
   "outputs": [
    {
     "name": "stdout",
     "output_type": "stream",
     "text": [
      "[[1 2 3]\n",
      " [4 5 6]]\n",
      "[[3 2 1]\n",
      " [6 5 4]]\n"
     ]
    }
   ],
   "source": [
    "x = np.array([[1,2,3],[4,5,6]])\n",
    "print(x)\n",
    "x2 = np.random.shuffle(np.transpose(x))\n",
    "print(x[x2][0])"
   ]
  },
  {
   "cell_type": "code",
   "execution_count": 9,
   "metadata": {},
   "outputs": [],
   "source": [
    "from scipy.spatial.distance import pdist\n",
    "Y = pdist(x.T, 'euclidean')"
   ]
  },
  {
   "cell_type": "code",
   "execution_count": 10,
   "metadata": {},
   "outputs": [
    {
     "data": {
      "text/plain": [
       "array([1.41421356, 2.82842712, 1.41421356])"
      ]
     },
     "execution_count": 10,
     "metadata": {},
     "output_type": "execute_result"
    }
   ],
   "source": [
    "Y"
   ]
  },
  {
   "cell_type": "code",
   "execution_count": 11,
   "metadata": {},
   "outputs": [],
   "source": [
    "Y = pdist(x[x2][0].T, 'euclidean')"
   ]
  },
  {
   "cell_type": "code",
   "execution_count": 12,
   "metadata": {},
   "outputs": [
    {
     "data": {
      "text/plain": [
       "array([1.41421356, 2.82842712, 1.41421356])"
      ]
     },
     "execution_count": 12,
     "metadata": {},
     "output_type": "execute_result"
    }
   ],
   "source": [
    "Y"
   ]
  },
  {
   "cell_type": "code",
   "execution_count": 13,
   "metadata": {},
   "outputs": [
    {
     "data": {
      "text/plain": [
       "array([1.41421356, 4.24264069, 9.89949494, 2.82842712, 8.48528137,\n",
       "       5.65685425])"
      ]
     },
     "execution_count": 13,
     "metadata": {},
     "output_type": "execute_result"
    }
   ],
   "source": [
    "x = np.array([[1,2,4,8],[1,2,4,8]])\n",
    "Y = pdist(x.T, 'euclidean')\n",
    "Y"
   ]
  },
  {
   "cell_type": "code",
   "execution_count": 14,
   "metadata": {},
   "outputs": [
    {
     "data": {
      "text/plain": [
       "array([[2.71828183e+00, 7.38905610e+00, 5.45981500e+01, 2.98095799e+03],\n",
       "       [2.71828183e+00, 7.38905610e+00, 5.45981500e+01, 2.98095799e+03]])"
      ]
     },
     "execution_count": 14,
     "metadata": {},
     "output_type": "execute_result"
    }
   ],
   "source": [
    "np.exp(x)"
   ]
  },
  {
   "cell_type": "code",
   "execution_count": 15,
   "metadata": {},
   "outputs": [
    {
     "name": "stdout",
     "output_type": "stream",
     "text": [
      "[1, 2, 3, 6, 7, 11]\n",
      "[[ 0  1  2  3]\n",
      " [ 0  0  6  7]\n",
      " [ 0  0  0 11]\n",
      " [ 0  0  0  0]]\n"
     ]
    }
   ],
   "source": [
    "ind = np.triu_indices(4,k=1)\n",
    "values = np.arange(16).reshape(4,4)[ind]\n",
    "values = [1,2,3,6,7,11]\n",
    "result = np.zeros((4,4),int)\n",
    "result[ind]=values\n",
    "print(values)\n",
    "print(result)"
   ]
  },
  {
   "cell_type": "code",
   "execution_count": null,
   "metadata": {},
   "outputs": [],
   "source": []
  }
 ],
 "metadata": {
  "kernelspec": {
   "display_name": "datasci",
   "language": "python",
   "name": "datasci"
  },
  "language_info": {
   "codemirror_mode": {
    "name": "ipython",
    "version": 3
   },
   "file_extension": ".py",
   "mimetype": "text/x-python",
   "name": "python",
   "nbconvert_exporter": "python",
   "pygments_lexer": "ipython3",
   "version": "3.7.0"
  },
  "toc": {
   "nav_menu": {},
   "number_sections": true,
   "sideBar": true,
   "skip_h1_title": false,
   "toc_cell": false,
   "toc_position": {},
   "toc_section_display": "block",
   "toc_window_display": false
  }
 },
 "nbformat": 4,
 "nbformat_minor": 2
}
