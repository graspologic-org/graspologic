{
 "cells": [
  {
   "cell_type": "code",
   "execution_count": 1,
   "metadata": {},
   "outputs": [],
   "source": [
    "import numpy as np\n",
    "import matplotlib.pyplot as plt\n",
    "from mpl_toolkits import mplot3d\n",
    "import seaborn as sns\n",
    "import plotly.plotly as py\n",
    "import plotly.graph_objs as go\n",
    "from graspy.simulations import binary_sbm\n",
    "from graspy.utils import symmetrize\n",
    "from tqdm import tqdm_notebook as tqdm\n",
    "import warnings\n",
    "warnings.filterwarnings(\"ignore\")"
   ]
  },
  {
   "cell_type": "markdown",
   "metadata": {},
   "source": [
    "$$(G_1, G_2) \\sim \\rho SBM(k,b,\\Lambda)$$\n",
    "$$b: V \\to \\{1,\\dots,n\\}, \\Lambda \\in \\mathbb{R}^{kxk}$$\n",
    "First, evaluate for ER random graphs:\n",
    "$$|V_1|=|V_2|=100$$\n",
    "$$k = 1, b = V \\to 1$$\n",
    "And sweep over values of $\\Lambda$ from $[0] \\to [1]$ and $\\rho$ from $0$ to $1$"
   ]
  },
  {
   "cell_type": "code",
   "execution_count": 2,
   "metadata": {},
   "outputs": [],
   "source": [
    "def rho_ER(rho,p,n=100):\n",
    "    \"\"\"\n",
    "    Parameters\n",
    "    ----------\n",
    "    rho : float, int\n",
    "        edge correlation between ER random graphs\n",
    "    p : float, int\n",
    "        probability of edge within graph\n",
    "    n : int, optional\n",
    "        number of vertices in graph\n",
    "        \n",
    "    Returns\n",
    "    -------\n",
    "    A : array-like\n",
    "        The adjacency matrix of graph G1\n",
    "    B : array-like\n",
    "        The adjacency matrix of graph G2\n",
    "    \"\"\"\n",
    "    nvec = [100]\n",
    "    pvec = np.array([[p]])\n",
    "    L = np.repeat(np.repeat(pvec,100,0),100,1)\n",
    "\n",
    "    A = binary_sbm(nvec, pvec)\n",
    "    B = np.random.binomial(1,(1-rho)*L + rho*A)\n",
    "    np.fill_diagonal(B,0)\n",
    "    \n",
    "    return A,B"
   ]
  },
  {
   "cell_type": "code",
   "execution_count": 222,
   "metadata": {},
   "outputs": [],
   "source": [
    "def rho_sbm(k,rho,L,n=100):\n",
    "    \"\"\"\n",
    "    Generates 2 adjacency matrices A,B of graphs G1, G2.\n",
    "    (G1,G2) are sampled from a rho-SBM(k,b,L) by the method described in [1].\n",
    "    The block membership function assumes the first n//k belong to block 1, and so on.\n",
    "    \n",
    "    Parameters\n",
    "    ----------\n",
    "    rho : float, int\n",
    "        correlation between graphs.\n",
    "        0.0 <= rho <= 1.0\n",
    "    k : int\n",
    "        number of blocks of the rho-SBM.\n",
    "        k >= 1\n",
    "    L : array-like\n",
    "        edge probability matrix, each entry a float between 0 and 1.\n",
    "        L should be of size k by k.\n",
    "    n : int, optional, default = 100\n",
    "        number of vertices for each graph\n",
    "    \n",
    "    Returns\n",
    "    -------\n",
    "    A : array-like\n",
    "        The adjacency matrix of graph G1\n",
    "    B : array-like\n",
    "        The adjacency matrix of graph G2\n",
    "\n",
    "    References\n",
    "    ----------\n",
    "    .. [1] Fishkind et. al (2012).\n",
    "        Seeded Graph Matching\n",
    "        arXiv:1209.0367v4\n",
    "    \"\"\"\n",
    "    L = symmetrize(L)\n",
    "    A = binary_sbm([int(n/k)]*k, L)\n",
    "    BL = np.repeat(np.repeat(L,n//k,0),n//k,1)\n",
    "    B = np.random.binomial(1,(1-rho)*BL + rho*A)\n",
    "    np.fill_diagonal(B,0)\n",
    "    return A,B"
   ]
  },
  {
   "cell_type": "code",
   "execution_count": 223,
   "metadata": {},
   "outputs": [],
   "source": [
    "def double_plot(A, B):\n",
    "    fig, ax = plt.subplots(1, 2, figsize=(12,6))\n",
    "    sns.heatmap(A, ax=ax[0], xticklabels=False, yticklabels=False, cbar=False, cmap='Blues')\n",
    "    sns.heatmap(B, ax=ax[1], xticklabels=False, yticklabels=False, cbar=False, cmap='Blues')\n",
    "    ax[0].set_title('Adjacency matrix A', fontsize=20)\n",
    "    ax[1].set_title('Adjacency matrix B',fontsize=20)\n",
    "    plt.show()\n",
    "    return"
   ]
  },
  {
   "cell_type": "markdown",
   "metadata": {},
   "source": [
    "### Visualizing $A,B \\sim \\rho ER(p)$ with $\\rho=0.9, p=0.8$"
   ]
  },
  {
   "cell_type": "code",
   "execution_count": 224,
   "metadata": {},
   "outputs": [
    {
     "data": {
      "image/png": "[encoded data removed]",
      "text/plain": [
       "<Figure size 864x432 with 2 Axes>"
      ]
     },
     "metadata": {},
     "output_type": "display_data"
    }
   ],
   "source": [
    "A,B = rho_ER(0.9,0.9)\n",
    "double_plot(A,B)"
   ]
  },
  {
   "cell_type": "code",
   "execution_count": 245,
   "metadata": {},
   "outputs": [
    {
     "data": {
      "image/png": "[encoded data removed]",
      "text/plain": [
       "<Figure size 864x432 with 2 Axes>"
      ]
     },
     "metadata": {},
     "output_type": "display_data"
    }
   ],
   "source": [
    "A2,B2 = rho_sbm(2,0.9,np.array([[0.9,.1],[.1,.9]]))\n",
    "double_plot(A2,B2)"
   ]
  },
  {
   "cell_type": "code",
   "execution_count": 204,
   "metadata": {},
   "outputs": [],
   "source": [
    "def triu_no_diag(A):\n",
    "    n = A.shape[0]\n",
    "    iu1 = np.triu_indices(n,1)\n",
    "    return A[iu1]"
   ]
  },
  {
   "cell_type": "code",
   "execution_count": 246,
   "metadata": {},
   "outputs": [],
   "source": [
    "def rho_h(nvec, pvec):\n",
    "    mu = np.sum(np.multiply(nvec,pvec))/np.sum(nvec)\n",
    "    var1 = np.square(np.subtract(pvec,mu))\n",
    "    var = np.sum(np.multiply(nvec,var1))/np.sum(nvec)\n",
    "    rhoh = np.nan_to_num(var/(mu*(1-mu)))\n",
    "    return rhoh \n",
    "\n",
    "def rho_t(nvec, pvec, rhoe):\n",
    "    \"\"\"\n",
    "    Parameters\n",
    "    ----------\n",
    "    nvec : array-like(int)\n",
    "        list of block sizes\n",
    "    pvec : array-like(float)\n",
    "        list of block probabilities\n",
    "    rhoe : float\n",
    "        edge correlation between two graphs\n",
    "        \n",
    "    Returns\n",
    "    -------\n",
    "    rhot : frac\n",
    "        total correlation between graphs\n",
    "    \"\"\"\n",
    "    rhoh = rho_h(nvec,pvec)\n",
    "    rhot = 1-(1-rhoe)*(1-rhoh)\n",
    "    return rhot\n",
    "\n",
    "def rho_e(nvec, pvec, rhot):\n",
    "    \"\"\"\n",
    "    Parameters\n",
    "    ----------\n",
    "    nvec : array-like(int)\n",
    "        list of block sizes\n",
    "    pvec : array-like(float)\n",
    "        list of block probabilities\n",
    "    rhot : float\n",
    "        total correlation between two graphs\n",
    "        \n",
    "    Returns\n",
    "    -------\n",
    "    rhoe : frac\n",
    "        edge correlation between graphs\n",
    "    \"\"\"\n",
    "    rhoh = rho_h(nvec,pvec)\n",
    "    rhoe = 1 - (1-rhot)/(1-rhoh)\n",
    "    return rhoe\n",
    "\n",
    "def corr(A,B):\n",
    "    A2 = triu_no_diag(A)\n",
    "    B2 = triu_no_diag(B)\n",
    "    x = np.vstack((A2,B2))\n",
    "    return np.corrcoef(x)[0,1]"
   ]
  },
  {
   "cell_type": "code",
   "execution_count": 213,
   "metadata": {},
   "outputs": [],
   "source": [
    "def d(A,B):\n",
    "    n = A.shape[0]\n",
    "    count = 0\n",
    "    diffs = []\n",
    "    for l in combinations(range(n),2):\n",
    "        Al = A[l[0],l[1]]\n",
    "        Bl = B[l[0],l[1]]\n",
    "        diff = np.abs(np.subtract(Al,Bl))\n",
    "        diffs.append(diff)\n",
    "    return np.sum(diffs)\n",
    "\n",
    "def d2(A,B):\n",
    "    A2 = triu_no_diag(A)\n",
    "    B2 = triu_no_diag(B)\n",
    "    C = np.sum(np.abs(A2-B2))\n",
    "    return C\n",
    "\n",
    "def alignment_strength(A,B,phi=np.eye(A.shape[0])):\n",
    "    n = A.shape[0]\n",
    "    #B2 = np.matmul(B,phi)\n",
    "    nfact = n*(n-1)//2\n",
    "    dg = np.sum(A)/nfact\n",
    "    dh = np.sum(B)/nfact\n",
    "    strength = 1-(d(A,B)/nfact)/(dg*(1-dh)+dh*(1-dg))\n",
    "    return strength\n",
    "\n",
    "def alignment_strength2(A,B,phi=np.eye(A.shape[0])):\n",
    "    n = A.shape[0]\n",
    "    #B2 = np.matmul(B,phi)\n",
    "    nfact = n*(n-1)//2\n",
    "    dg = np.sum(A)/nfact\n",
    "    dh = np.sum(B)/nfact\n",
    "    strength = 1-(d2(A,B)/nfact)/(dg*(1-dh)+dh*(1-dg))\n",
    "    return strength\n",
    "\n",
    "def estimate_rhoe(A,B,nvec,pvec,phi=np.eye(A.shape[0])):\n",
    "    rhot = alignment_strength(A,B,phi)\n",
    "    rhoe = rho_e(nvec,pvec,rhot)\n",
    "    return rhoe\n",
    "\n",
    "def estimate_rhoe2(A,B,nvec,pvec,phi=np.eye(A.shape[0])):\n",
    "    rhot = alignment_strength2(A,B,phi)\n",
    "    rhoe = rho_e(nvec,pvec,rhot)\n",
    "    return rhoe"
   ]
  },
  {
   "cell_type": "code",
   "execution_count": 215,
   "metadata": {},
   "outputs": [],
   "source": [
    "def plotly_plot(x,y,z):\n",
    "    data = []\n",
    "    for z_item in z:\n",
    "        data.append(\n",
    "            go.Surface(\n",
    "                x=x,\n",
    "                y=y,\n",
    "                z=z_item,\n",
    "                opacity=0.7,\n",
    "                showscale=False)\n",
    "        )\n",
    "\n",
    "    layout = go.Layout(\n",
    "        title='rho-ER',\n",
    "        autosize=False,\n",
    "        scene = dict(\n",
    "            xaxis = dict(\n",
    "                title='rho_e'),\n",
    "            yaxis = dict(\n",
    "                title='p'),\n",
    "            zaxis = dict(\n",
    "                title='hat(rho_e)') \n",
    "        ),\n",
    "        width=750,\n",
    "        height=750,\n",
    "        margin=dict(\n",
    "            l=65,\n",
    "            r=50,\n",
    "            b=65,\n",
    "            t=90\n",
    "        )\n",
    "    )\n",
    "\n",
    "    return go.Figure(data=data, layout=layout)"
   ]
  },
  {
   "cell_type": "code",
   "execution_count": 208,
   "metadata": {},
   "outputs": [],
   "source": [
    "def gen_surface(func, rho_n=11, p_n=11):\n",
    "    \"\"\"\n",
    "    Parameters\n",
    "    ----------\n",
    "    func : function\n",
    "        should take adjacency matrices A and B and return a scalar value\n",
    "    rho_n : int, optional, default = 11\n",
    "        the number of values of rho between 0 and 1\n",
    "    p_n : int, optional, default = 11\n",
    "        the number of values of p between 0 and 1\n",
    "    \"\"\"\n",
    "    z = z_err = np.zeros((rho_n,p_n))\n",
    "    for i,rho in enumerate(np.linspace(0,1,rho_n)):\n",
    "        for j,p in enumerate(np.linspace(0,1,p_n)):\n",
    "            monte = []\n",
    "            for _ in range(100):\n",
    "                A,B = rho_ER(rho,p)\n",
    "                monte.append(np.nan_to_num(corr(A,B)))\n",
    "            z[i,j] = np.mean(monte)\n",
    "            z_err[i,j] = np.std(monte)\n",
    "    return z, z_err\n",
    "\n",
    "def gen_rhoehat(p_n=11,rho_n=11):\n",
    "    \"\"\"\n",
    "    Parameters\n",
    "    ----------\n",
    "    rho_n : int, optional, default = 11\n",
    "        the number of values of rho between 0 and 1\n",
    "    p_n : int, optional, default = 11\n",
    "        the number of values of p between 0 and 1\n",
    "    \"\"\"\n",
    "    x = np.linspace(0,1,p_n)\n",
    "    y = np.linspace(0,1,rho_n)\n",
    "    z = np.zeros((p_n,rho_n))\n",
    "    z2 = np.zeros((p_n,rho_n))\n",
    "    for i,p in tqdm(enumerate(x)):\n",
    "        for j,rho in enumerate(y):\n",
    "            monte = []\n",
    "            monte2 = []\n",
    "            for _ in range(10):\n",
    "                A,B = rho_ER(rho,p)\n",
    "                monte.append(estimate_rhoe(A,B,[100],[p]))\n",
    "                monte2.append(rho_t([100],[p],rho))\n",
    "            z[i,j] = np.mean(monte)\n",
    "            z2[i,j] = np.mean(monte2)\n",
    "    fig = plotly_plot(y,x,[z,z2])\n",
    "    return fig"
   ]
  },
  {
   "cell_type": "code",
   "execution_count": 209,
   "metadata": {},
   "outputs": [],
   "source": [
    "def gen_ER_surf(func,p_n=11,rho_n=11):\n",
    "    \"\"\"\n",
    "    Parameters\n",
    "    ----------\n",
    "    rho_n : int, optional, default = 11\n",
    "        the number of values of rho between 0 and 1\n",
    "    p_n : int, optional, default = 11\n",
    "        the number of values of p between 0 and 1\n",
    "    \"\"\"\n",
    "    x = np.linspace(0,1,p_n)\n",
    "    y = np.linspace(0,1,rho_n)\n",
    "    z = np.zeros((p_n,rho_n))\n",
    "    zerr = np.zeros((p_n,rho_n))\n",
    "    z2 = np.zeros((p_n,rho_n))\n",
    "    for i,p in tqdm(enumerate(x)):\n",
    "        for j,rho in enumerate(y):\n",
    "            monte = []\n",
    "            monte2 = []\n",
    "            for _ in range(10):\n",
    "                A,B = rho_ER(rho,p)\n",
    "                monte.append(func(A,B))\n",
    "                monte2.append(rho_t([100],[p],rho))\n",
    "            z[i,j] = np.mean(monte)\n",
    "            zerr[i,j] = np.std(monte)\n",
    "            z2[i,j] = np.mean(monte2)\n",
    "    fig = plotly_plot(y,x,[z,z2])\n",
    "    print(np.linalg.norm(np.nan_to_num(zerr)))\n",
    "    return fig"
   ]
  },
  {
   "cell_type": "code",
   "execution_count": 249,
   "metadata": {},
   "outputs": [],
   "source": [
    "def gen_SBM_surf(func,p_n=11,rho_n=11):\n",
    "    \"\"\"\n",
    "    Parameters\n",
    "    ----------\n",
    "    rho_n : int, optional, default = 11\n",
    "        the number of values of rho between 0 and 1\n",
    "    p_n : int, optional, default = 11\n",
    "        the number of values of p between 0 and 1\n",
    "    \"\"\"\n",
    "    x = np.linspace(0,1,p_n)\n",
    "    y = np.linspace(0,1,rho_n)\n",
    "    z = np.zeros((p_n,rho_n))\n",
    "    zerr = np.zeros((p_n,rho_n))\n",
    "    z2 = np.zeros((p_n,rho_n))\n",
    "    for i,p in tqdm(enumerate(x)):\n",
    "        for j,rho in enumerate(y):\n",
    "            monte = []\n",
    "            monte2 = []\n",
    "            for _ in range(10):\n",
    "                L = np.array([[p,.1],[.1,p]])\n",
    "                A,B = rho_sbm(2,rho,L)\n",
    "                monte.append(func(A,B))\n",
    "                #monte2.append(rho_e([50,50],np.array([[p,.1],[.1,.25+p/2]]),rho))\n",
    "                rhoh = rho_h([50,50],[.9,.9])\n",
    "                monte2.append(1-(1-rho)*(1-rhoh))\n",
    "            z[i,j] = np.mean(monte)\n",
    "            zerr[i,j] = np.std(monte)\n",
    "            z2[i,j] = np.mean(monte2)\n",
    "    fig = plotly_plot(y,x,[z,z2])\n",
    "    print(np.linalg.norm(np.nan_to_num(zerr)))\n",
    "    return fig"
   ]
  },
  {
   "cell_type": "code",
   "execution_count": 250,
   "metadata": {
    "scrolled": false
   },
   "outputs": [
    {
     "data": {
      "application/vnd.jupyter.widget-view+json": {
       "model_id": "840eda9a1d29448694aaaa08f205f3f7",
       "version_major": 2,
       "version_minor": 0
      },
      "text/plain": [
       "HBox(children=(IntProgress(value=1, bar_style='info', max=1), HTML(value='')))"
      ]
     },
     "metadata": {},
     "output_type": "display_data"
    },
    {
     "name": "stdout",
     "output_type": "stream",
     "text": [
      "0.14437134804829543\n"
     ]
    },
    {
     "data": {
      "text/html": [
       "<iframe id=\"igraph\" scrolling=\"no\" style=\"border:none;\" seamless=\"seamless\" src=\"https://plot.ly/~howdosheeplamp/460.embed\" height=\"750px\" width=\"750px\"></iframe>"
      ],
      "text/plain": [
       "<plotly.tools.PlotlyDisplay object>"
      ]
     },
     "execution_count": 250,
     "metadata": {},
     "output_type": "execute_result"
    }
   ],
   "source": [
    "fig = gen_SBM_surf(corr,11,11)\n",
    "py.iplot(fig)"
   ]
  },
  {
   "cell_type": "code",
   "execution_count": 239,
   "metadata": {},
   "outputs": [
    {
     "data": {
      "application/vnd.jupyter.widget-view+json": {
       "model_id": "62d28773c982469e9813aa405eb876c3",
       "version_major": 2,
       "version_minor": 0
      },
      "text/plain": [
       "HBox(children=(IntProgress(value=1, bar_style='info', max=1), HTML(value='')))"
      ]
     },
     "metadata": {},
     "output_type": "display_data"
    },
    {
     "name": "stdout",
     "output_type": "stream",
     "text": [
      "0.13717325519465512\n"
     ]
    },
    {
     "data": {
      "text/html": [
       "<iframe id=\"igraph\" scrolling=\"no\" style=\"border:none;\" seamless=\"seamless\" src=\"https://plot.ly/~howdosheeplamp/450.embed\" height=\"750px\" width=\"750px\"></iframe>"
      ],
      "text/plain": [
       "<plotly.tools.PlotlyDisplay object>"
      ]
     },
     "execution_count": 239,
     "metadata": {},
     "output_type": "execute_result"
    }
   ],
   "source": [
    "fig = gen_ER_surf(corr,11,11)\n",
    "py.iplot(fig)"
   ]
  },
  {
   "cell_type": "code",
   "execution_count": 164,
   "metadata": {},
   "outputs": [
    {
     "name": "stdout",
     "output_type": "stream",
     "text": [
      "0.02132476\n",
      "rho: 0.5 p: 0.99\n",
      "vector estimated corr:\n",
      "mean and std of covariances: 0.7501590345100072 0.02189550388548202\n",
      "mean and var of var(A): 0.01961584846484648 0.0014371525689139085\n",
      "mean and var of var(B): 0.019559654725472556 0.0010568395782958795\n",
      "mean and std of true calculated corr: 0.5 0.0\n",
      "pero!\n",
      "0.008919\n",
      "rho: 0.5 p: 0.01\n",
      "vector estimated corr:\n",
      "mean and std of covariances: 0.4997913200577259 0.04645690082936522\n",
      "mean and var of var(A): 0.009827494269426943 0.0014331309829958782\n",
      "mean and var of var(B): 0.009836390079007901 0.00119127880885188\n",
      "mean and std of true calculated corr: 0.5 0.0\n"
     ]
    }
   ],
   "source": [
    "#why isn't it symmetric?\n",
    "rho = 0.5\n",
    "p = 0.99\n",
    "cs = []\n",
    "sxs = []\n",
    "sys = []\n",
    "ts = []\n",
    "for _ in range(250):\n",
    "    A,B = rho_ER(rho,p,n=500)\n",
    "    A = A.ravel()\n",
    "    B = B.ravel()\n",
    "    x = np.vstack((A.ravel(),B.ravel()))\n",
    "    cs.append(np.corrcoef(x)[0,1])\n",
    "    sxs.append(np.cov(x)[0,0])\n",
    "    sys.append(np.cov(x)[1,1])\n",
    "    ts.append(rho_t([500],[p],rho))\n",
    "print(np.var(A.ravel()))\n",
    "print('rho:', rho, 'p:', p)\n",
    "print('vector estimated corr:')\n",
    "print('mean and std of covariances:', np.mean(cs), np.std(cs))\n",
    "print('mean and var of var(A):', np.mean(sxs), np.std(sxs))\n",
    "print('mean and var of var(B):', np.mean(sys), np.std(sys))\n",
    "print('mean and std of true calculated corr:', np.mean(ts), np.std(ts))\n",
    "\n",
    "print('pero!')\n",
    "\n",
    "rho = 0.5\n",
    "p = 0.01\n",
    "cs = []\n",
    "sxs = []\n",
    "sys = []\n",
    "ts = []\n",
    "for _ in range(250):\n",
    "    A,B = rho_ER(rho,p,n=500)\n",
    "    A = A.ravel()\n",
    "    B = B.ravel()\n",
    "    x = np.vstack((A.ravel(),B.ravel()))\n",
    "    cs.append(np.corrcoef(x)[0,1])\n",
    "    sxs.append(np.cov(x)[0,0])\n",
    "    sys.append(np.cov(x)[1,1])\n",
    "    ts.append(rho_t([500],[p],rho))\n",
    "print(np.var(A.ravel()))\n",
    "print('rho:', rho, 'p:', p)\n",
    "print('vector estimated corr:')\n",
    "print('mean and std of covariances:', np.mean(cs), np.std(cs))\n",
    "print('mean and var of var(A):', np.mean(sxs), np.std(sxs))\n",
    "print('mean and var of var(B):', np.mean(sys), np.std(sys))\n",
    "print('mean and std of true calculated corr:', np.mean(ts), np.std(ts))"
   ]
  },
  {
   "cell_type": "code",
   "execution_count": 214,
   "metadata": {},
   "outputs": [
    {
     "data": {
      "application/vnd.jupyter.widget-view+json": {
       "model_id": "8f483ca4209c4dfa8f7892fbe475445a",
       "version_major": 2,
       "version_minor": 0
      },
      "text/plain": [
       "HBox(children=(IntProgress(value=1, bar_style='info', max=1), HTML(value='')))"
      ]
     },
     "metadata": {},
     "output_type": "display_data"
    },
    {
     "name": "stdout",
     "output_type": "stream",
     "text": [
      "192632.767366717\n"
     ]
    },
    {
     "data": {
      "text/html": [
       "<iframe id=\"igraph\" scrolling=\"no\" style=\"border:none;\" seamless=\"seamless\" src=\"https://plot.ly/~howdosheeplamp/436.embed\" height=\"750px\" width=\"750px\"></iframe>"
      ],
      "text/plain": [
       "<plotly.tools.PlotlyDisplay object>"
      ]
     },
     "execution_count": 214,
     "metadata": {},
     "output_type": "execute_result"
    }
   ],
   "source": [
    "fig = gen_ER_surf(alignment_strength2,101,101)\n",
    "py.iplot(fig)"
   ]
  },
  {
   "cell_type": "code",
   "execution_count": 133,
   "metadata": {},
   "outputs": [
    {
     "data": {
      "application/vnd.jupyter.widget-view+json": {
       "model_id": "da85f9e61ca743f6a43e6a3e5a9b8fe7",
       "version_major": 2,
       "version_minor": 0
      },
      "text/plain": [
       "HBox(children=(IntProgress(value=1, bar_style='info', max=1), HTML(value='')))"
      ]
     },
     "metadata": {},
     "output_type": "display_data"
    },
    {
     "name": "stdout",
     "output_type": "stream",
     "text": [
      "31459.467050623152\n"
     ]
    },
    {
     "data": {
      "text/html": [
       "<iframe id=\"igraph\" scrolling=\"no\" style=\"border:none;\" seamless=\"seamless\" src=\"https://plot.ly/~howdosheeplamp/430.embed\" height=\"750px\" width=\"750px\"></iframe>"
      ],
      "text/plain": [
       "<plotly.tools.PlotlyDisplay object>"
      ]
     },
     "execution_count": 133,
     "metadata": {},
     "output_type": "execute_result"
    }
   ],
   "source": [
    "fig = gen_ER_surf(alignment_strength,101,101)\n",
    "py.iplot(fig)"
   ]
  },
  {
   "cell_type": "code",
   "execution_count": 134,
   "metadata": {},
   "outputs": [
    {
     "data": {
      "application/vnd.jupyter.widget-view+json": {
       "model_id": "8a25fb986758419eb69d66302367883d",
       "version_major": 2,
       "version_minor": 0
      },
      "text/plain": [
       "HBox(children=(IntProgress(value=1, bar_style='info', max=1), HTML(value='')))"
      ]
     },
     "metadata": {},
     "output_type": "display_data"
    },
    {
     "data": {
      "text/html": [
       "<iframe id=\"igraph\" scrolling=\"no\" style=\"border:none;\" seamless=\"seamless\" src=\"https://plot.ly/~howdosheeplamp/432.embed\" height=\"750px\" width=\"750px\"></iframe>"
      ],
      "text/plain": [
       "<plotly.tools.PlotlyDisplay object>"
      ]
     },
     "execution_count": 134,
     "metadata": {},
     "output_type": "execute_result"
    }
   ],
   "source": [
    "fig2 = gen_rhoehat(101,101)\n",
    "py.iplot(fig2)"
   ]
  },
  {
   "cell_type": "code",
   "execution_count": null,
   "metadata": {},
   "outputs": [],
   "source": []
  }
 ],
 "metadata": {
  "kernelspec": {
   "display_name": "datasci",
   "language": "python",
   "name": "datasci"
  },
  "language_info": {
   "codemirror_mode": {
    "name": "ipython",
    "version": 3
   },
   "file_extension": ".py",
   "mimetype": "text/x-python",
   "name": "python",
   "nbconvert_exporter": "python",
   "pygments_lexer": "ipython3",
   "version": "3.7.0"
  },
  "toc": {
   "nav_menu": {},
   "number_sections": true,
   "sideBar": true,
   "skip_h1_title": false,
   "toc_cell": false,
   "toc_position": {},
   "toc_section_display": "block",
   "toc_window_display": false
  }
 },
 "nbformat": 4,
 "nbformat_minor": 2
}
