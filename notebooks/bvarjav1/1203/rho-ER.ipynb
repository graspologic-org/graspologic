{
 "cells": [
  {
   "cell_type": "code",
   "execution_count": 1,
   "metadata": {},
   "outputs": [],
   "source": [
    "import numpy as np\n",
    "import matplotlib.pyplot as plt\n",
    "from mpl_toolkits import mplot3d\n",
    "import seaborn as sns\n",
    "import plotly.plotly as py\n",
    "import plotly.graph_objs as go\n",
    "from graspy.simulations import binary_sbm\n",
    "from graspy.utils import symmetrize\n",
    "from tqdm import tqdm_notebook as tqdm\n",
    "import warnings\n",
    "warnings.filterwarnings(\"ignore\")"
   ]
  },
  {
   "cell_type": "markdown",
   "metadata": {},
   "source": [
    "$$(G_1, G_2) \\sim \\rho SBM(k,b,\\Lambda)$$\n",
    "$$b: V \\to \\{1,\\dots,n\\}, \\Lambda \\in \\mathbb{R}^{kxk}$$\n",
    "First, evaluate for ER random graphs:\n",
    "$$|V_1|=|V_2|=100$$\n",
    "$$k = 1, b = V \\to 1$$\n",
    "And sweep over values of $\\Lambda$ from $[0] \\to [1]$ and $\\rho$ from $0$ to $1$"
   ]
  },
  {
   "cell_type": "code",
   "execution_count": 2,
   "metadata": {},
   "outputs": [],
   "source": [
    "def rho_ER(rho,p,n=100):\n",
    "    \"\"\"\n",
    "    Parameters\n",
    "    ----------\n",
    "    rho : float, int\n",
    "        edge correlation between ER random graphs\n",
    "    p : float, int\n",
    "        probability of edge within graph\n",
    "    n : int, optional\n",
    "        number of vertices in graph\n",
    "        \n",
    "    Returns\n",
    "    -------\n",
    "    A : array-like\n",
    "        The adjacency matrix of graph G1\n",
    "    B : array-like\n",
    "        The adjacency matrix of graph G2\n",
    "    \"\"\"\n",
    "    nvec = [100]\n",
    "    pvec = np.array([[p]])\n",
    "    L = np.repeat(np.repeat(pvec,100,0),100,1)\n",
    "\n",
    "    A = binary_sbm(nvec, pvec)\n",
    "    B = np.random.binomial(1,(1-rho)*L + rho*A)\n",
    "    np.fill_diagonal(B,0)\n",
    "    \n",
    "    return A,B"
   ]
  },
  {
   "cell_type": "code",
   "execution_count": 3,
   "metadata": {},
   "outputs": [],
   "source": [
    "def double_plot(A, B):\n",
    "    fig, ax = plt.subplots(1, 2, figsize=(12,6))\n",
    "    sns.heatmap(A, ax=ax[0], xticklabels=False, yticklabels=False, cbar=False, cmap='Blues')\n",
    "    sns.heatmap(B, ax=ax[1], xticklabels=False, yticklabels=False, cbar=False, cmap='Blues')\n",
    "    ax[0].set_title('Adjacency matrix A', fontsize=20)\n",
    "    ax[1].set_title('Adjacency matrix B',fontsize=20)\n",
    "    plt.show()\n",
    "    return"
   ]
  },
  {
   "cell_type": "markdown",
   "metadata": {},
   "source": [
    "### Visualizing $A,B \\sim \\rho ER(p)$ with $\\rho=0.9, p=0.8$"
   ]
  },
  {
   "cell_type": "code",
   "execution_count": 4,
   "metadata": {},
   "outputs": [
    {
     "data": {
      "image/png": "[encoded data removed]",
      "text/plain": [
       "<Figure size 864x432 with 2 Axes>"
      ]
     },
     "metadata": {},
     "output_type": "display_data"
    }
   ],
   "source": [
    "A,B = rho_ER(0.9,0.9)\n",
    "double_plot(A,B)"
   ]
  },
  {
   "cell_type": "code",
   "execution_count": 5,
   "metadata": {},
   "outputs": [],
   "source": [
    "def rho_h(nvec, pvec):\n",
    "    mu = np.sum(np.multiply(nvec,pvec))/np.sum(nvec)\n",
    "    var1 = np.square(np.subtract(pvec,mu))\n",
    "    var = np.sum(np.multiply(nvec,var1))/np.sum(nvec)\n",
    "    rhoh = np.nan_to_num(var/(mu*(1-mu)))\n",
    "    return rhoh\n",
    "\n",
    "def rho_t(nvec, pvec, rho):\n",
    "    \"\"\"\n",
    "    Parameters\n",
    "    ----------\n",
    "    nvec : array-like(int)\n",
    "        list of block sizes\n",
    "    pvec : array-like(float)\n",
    "        list of block probabilities\n",
    "    rho : float\n",
    "        edge correlation between two graphs\n",
    "        \n",
    "    Returns\n",
    "    -------\n",
    "    rhot : frac\n",
    "        the total correlation between graphs\n",
    "    \"\"\"\n",
    "    rhoh = rho_h(nvec,pvec)\n",
    "    rhot = 1-(1-rho)*(1-rhoh)\n",
    "    return rhot\n",
    "\n",
    "def corr(A,B):\n",
    "    A = A.ravel()\n",
    "    B = B.ravel()\n",
    "    x = np.vstack((A.ravel(),B.ravel()))\n",
    "    return np.corrcoef(x)[0,1]"
   ]
  },
  {
   "cell_type": "code",
   "execution_count": 6,
   "metadata": {},
   "outputs": [],
   "source": [
    "def plotly_plot(x,y,z):\n",
    "    data = []\n",
    "    for z_item in z:\n",
    "        data.append(\n",
    "            go.Surface(\n",
    "                x=x,\n",
    "                y=y,\n",
    "                z=z_item,\n",
    "                opacity=0.7)\n",
    "        )\n",
    "\n",
    "    layout = go.Layout(\n",
    "        title='rho-ER',\n",
    "        autosize=False,\n",
    "        scene = dict(\n",
    "            xaxis = dict(\n",
    "                title='rho_e'),\n",
    "            yaxis = dict(\n",
    "                title='p'),\n",
    "            zaxis = dict(\n",
    "                title='hat(rho_t)') \n",
    "        ),\n",
    "        width=750,\n",
    "        height=750,\n",
    "        margin=dict(\n",
    "            l=65,\n",
    "            r=50,\n",
    "            b=65,\n",
    "            t=90\n",
    "        )\n",
    "    )\n",
    "\n",
    "    return go.Figure(data=data, layout=layout)"
   ]
  },
  {
   "cell_type": "code",
   "execution_count": 15,
   "metadata": {},
   "outputs": [],
   "source": [
    "def gen_surface(func, rho_n=11, p_n=11):\n",
    "    \"\"\"\n",
    "    Parameters\n",
    "    ----------\n",
    "    func : function\n",
    "        should take adjacency matrices A and B and return a scalar value\n",
    "    rho_n : int, optional, default = 11\n",
    "        the number of values of rho between 0 and 1\n",
    "    p_n : int, optional, default = 11\n",
    "        the number of values of p between 0 and 1\n",
    "    \"\"\"\n",
    "    z = z_err = np.zeros((rho_n,p_n))\n",
    "    for i,rho in enumerate(np.linspace(0,1,rho_n)):\n",
    "        for j,p in enumerate(np.linspace(0,1,p_n)):\n",
    "            monte = []\n",
    "            for _ in range(100):\n",
    "                A,B = rho_ER(rho,p)\n",
    "                monte.append(np.nan_to_num(corr(A,B)))\n",
    "            z[i,j] = np.mean(monte)\n",
    "            z_err[i,j] = np.std(monte)\n",
    "    return z, z_err"
   ]
  },
  {
   "cell_type": "code",
   "execution_count": 16,
   "metadata": {},
   "outputs": [],
   "source": [
    "def gen_ER_surf(rho_n=11,p_n=11):\n",
    "    \"\"\"\n",
    "    Parameters\n",
    "    ----------\n",
    "    rho_n : int, optional, default = 11\n",
    "        the number of values of rho between 0 and 1\n",
    "    p_n : int, optional, default = 11\n",
    "        the number of values of p between 0 and 1\n",
    "    \"\"\"\n",
    "    x = np.linspace(0,1,p_n)\n",
    "    y = np.linspace(0,1,rho_n)\n",
    "    z = np.zeros((rho_n,p_n))\n",
    "    z2 = np.zeros((rho_n,p_n))\n",
    "    for i,p in enumerate(x):\n",
    "        for j,rho in enumerate(y):\n",
    "            monte = []\n",
    "            monte2 = []\n",
    "            for _ in range(10):\n",
    "                A,B = rho_ER(rho,p)\n",
    "                monte.append(corr(A,B))\n",
    "                monte2.append(rho_t([100],[p],rho))\n",
    "            z[i,j] = np.mean(monte)\n",
    "            z2[i,j] = np.mean(monte2)\n",
    "    fig = plotly_plot(x,y,[z,z2])\n",
    "    return fig"
   ]
  },
  {
   "cell_type": "code",
   "execution_count": 17,
   "metadata": {},
   "outputs": [
    {
     "data": {
      "text/html": [
       "<iframe id=\"igraph\" scrolling=\"no\" style=\"border:none;\" seamless=\"seamless\" src=\"https://plot.ly/~howdosheeplamp/378.embed\" height=\"750px\" width=\"750px\"></iframe>"
      ],
      "text/plain": [
       "<plotly.tools.PlotlyDisplay object>"
      ]
     },
     "execution_count": 17,
     "metadata": {},
     "output_type": "execute_result"
    }
   ],
   "source": [
    "fig = gen_ER_surf()\n",
    "py.iplot(fig)"
   ]
  },
  {
   "cell_type": "code",
   "execution_count": null,
   "metadata": {},
   "outputs": [],
   "source": []
  }
 ],
 "metadata": {
  "kernelspec": {
   "display_name": "datasci",
   "language": "python",
   "name": "datasci"
  },
  "language_info": {
   "codemirror_mode": {
    "name": "ipython",
    "version": 3
   },
   "file_extension": ".py",
   "mimetype": "text/x-python",
   "name": "python",
   "nbconvert_exporter": "python",
   "pygments_lexer": "ipython3",
   "version": "3.7.0"
  },
  "toc": {
   "nav_menu": {},
   "number_sections": true,
   "sideBar": true,
   "skip_h1_title": false,
   "toc_cell": false,
   "toc_position": {},
   "toc_section_display": "block",
   "toc_window_display": false
  }
 },
 "nbformat": 4,
 "nbformat_minor": 2
}
