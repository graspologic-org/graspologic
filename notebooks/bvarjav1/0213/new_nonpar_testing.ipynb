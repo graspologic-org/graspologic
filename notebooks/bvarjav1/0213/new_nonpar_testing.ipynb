{
 "cells": [
  {
   "cell_type": "code",
   "execution_count": 1,
   "metadata": {},
   "outputs": [],
   "source": [
    "import numpy as np\n",
    "import networkx as nx\n",
    "from sklearn.decomposition import TruncatedSVD as TSVD\n",
    "#from graspy.embed import AdjacencySpectralEmbed\n",
    "\n",
    "from tqdm import tqdm_notebook as tqdm"
   ]
  },
  {
   "cell_type": "code",
   "execution_count": 2,
   "metadata": {},
   "outputs": [],
   "source": [
    "def gaussian_covariance(X, Y, bandwidth = 0.5):\n",
    "    diffs = np.expand_dims(X, 1) - np.expand_dims(Y, 0)\n",
    "    return np.exp(-0.5 * np.sum(diffs**2, axis=2) / bandwidth**2)"
   ]
  },
  {
   "cell_type": "code",
   "execution_count": 3,
   "metadata": {},
   "outputs": [],
   "source": [
    "def statistic(X, Y):\n",
    "    N, _ = X.shape\n",
    "    M, _ = Y.shape\n",
    "    x_stat = np.sum(gaussian_covariance(X, X, 0.5) - np.eye(N))/(N*(N-1))\n",
    "    y_stat = np.sum(gaussian_covariance(Y, Y, 0.5) - np.eye(M))/(M*(M-1))\n",
    "    xy_stat = np.sum(gaussian_covariance(X, Y, 0.5))/(N*M)\n",
    "    return x_stat - 2*xy_stat + x_stat"
   ]
  },
  {
   "cell_type": "code",
   "execution_count": 4,
   "metadata": {},
   "outputs": [],
   "source": [
    "def ASE(A):\n",
    "    tsvd = TSVD()\n",
    "    vecs, vals = tsvd.fit(A).components_, tsvd.singular_values_\n",
    "    vecs_2 = np.array([vecs[0, :], vecs[1, :]])\n",
    "    if vecs_2[0,0] < 0:\n",
    "        vecs_2 *= -1  \n",
    "    X_hat = vecs_2.T @ np.diag(vals[:2]**(1/2))\n",
    "    return X_hat\n",
    "\n",
    "def ASE_graspy(A): #too SLOW! Takes like 100 hrs... can't validate using this.\n",
    "    ase = AdjacencySpectralEmbed(algorithm='randomized')\n",
    "    X_hat = ase.fit_transform(A)\n",
    "    return X_hat"
   ]
  },
  {
   "cell_type": "code",
   "execution_count": 5,
   "metadata": {},
   "outputs": [],
   "source": [
    "def bootstrap(X, Y, M, alpha = 0.05):\n",
    "    N, _ = X.shape\n",
    "    M, _ = Y.shape\n",
    "    \n",
    "    statistics = np.zeros(M)\n",
    "    for i in range(M):\n",
    "        bs_X = X[np.random.choice(np.arange(0,N), size = int(N/2), replace = False)]\n",
    "        bs_Y = Y[np.random.choice(np.arange(0,M), size = int(M/2), replace = False)]\n",
    "        statistics[i] = statistic(bs_X, bs_Y)\n",
    "        \n",
    "    sorted_ = np.sort(statistics)\n",
    "    rej_ind = int(np.ceil(((1 - alpha)*M)))\n",
    "    return sorted_[rej_ind]"
   ]
  },
  {
   "cell_type": "code",
   "execution_count": 6,
   "metadata": {},
   "outputs": [],
   "source": [
    "def gen_data(n, eps):\n",
    "    pi = [0.4, 0.6]\n",
    "    sizes = [int(pi[0]*n), int(pi[1]*n)]\n",
    "\n",
    "    probsA = np.array([\n",
    "        [0.5, 0.2],\n",
    "        [0.2, 0.5]])\n",
    "    \n",
    "    probsB = np.array([\n",
    "        [0.5 + eps, 0.2],\n",
    "        [0.2, 0.5 + eps]])\n",
    "    \n",
    "    G1 = nx.stochastic_block_model(sizes, probsA)\n",
    "    A1 = nx.to_numpy_array(G1)\n",
    "\n",
    "    G2 = nx.stochastic_block_model(sizes, probsA)\n",
    "    A2 = nx.to_numpy_array(G2)\n",
    "    return sizes, probsA, probsB, A1, A2"
   ]
  },
  {
   "cell_type": "code",
   "execution_count": 7,
   "metadata": {},
   "outputs": [],
   "source": [
    "def estimated_power(n, eps, M, alpha, iters):\n",
    "    sizes, probsA, probsB, A1, A2 = gen_data(n, eps)\n",
    "    \n",
    "    X1_hat = ASE(A1)\n",
    "    X2_hat = ASE(A2)\n",
    "    critical_value = bootstrap(X1_hat, X2_hat, M, alpha)\n",
    "    \n",
    "    rejections = 0\n",
    "    for i in range(iters):\n",
    "        G3 = nx.stochastic_block_model(sizes, probsA)\n",
    "        A = nx.to_numpy_array(G3)\n",
    "        G4 = nx.stochastic_block_model(sizes, probsB)\n",
    "        B = nx.to_numpy_array(G4)\n",
    "        X_hat = ASE(A)\n",
    "        Y_hat = ASE(B)\n",
    "\n",
    "        U = statistic(X_hat, Y_hat)\n",
    "        if U > critical_value:\n",
    "            rejections += 1\n",
    "    return rejections/iters"
   ]
  },
  {
   "cell_type": "code",
   "execution_count": 12,
   "metadata": {},
   "outputs": [],
   "source": [
    "def monte_carlo(ns, eps, M = 200, alpha = 0.05, iters = 500):\n",
    "    powers = np.zeros(shape = (len(ns),len(eps)))\n",
    "    for i in tqdm(range(len(ns))):\n",
    "        for j in range(len(eps)):\n",
    "            powers[i,j] = np.array(estimated_power(ns[i], eps[j], M, alpha, iters))\n",
    "    return powers"
   ]
  },
  {
   "cell_type": "code",
   "execution_count": 13,
   "metadata": {},
   "outputs": [
    {
     "data": {
      "application/vnd.jupyter.widget-view+json": {
       "model_id": "49cacfdf218a44aeb3ed2d0a7c3c880f",
       "version_major": 2,
       "version_minor": 0
      },
      "text/plain": [
       "HBox(children=(IntProgress(value=0, max=4), HTML(value='')))"
      ]
     },
     "metadata": {},
     "output_type": "display_data"
    },
    {
     "name": "stdout",
     "output_type": "stream",
     "text": [
      "\n"
     ]
    }
   ],
   "source": [
    "monte_ns = [100, 200, 500, 1000]\n",
    "monte_eps = [0.0, 0.02, 0.05, 0.1]\n",
    "power_table = monte_carlo(ns = monte_ns, eps = monte_eps)"
   ]
  },
  {
   "cell_type": "code",
   "execution_count": 14,
   "metadata": {},
   "outputs": [
    {
     "name": "stdout",
     "output_type": "stream",
     "text": [
      "Paper results\n",
      "[[0.06 0.09 0.27]\n",
      " [0.09 0.17 0.83]\n",
      " [0.1  0.43 1.  ]\n",
      " [0.14 1.   1.  ]]\n",
      "Sim results\n",
      "[[0.    0.    0.01  0.204]\n",
      " [0.    0.    0.254 1.   ]\n",
      " [0.    0.002 1.    1.   ]\n",
      " [0.    0.134 1.    1.   ]]\n"
     ]
    }
   ],
   "source": [
    "print(\"Paper results\")\n",
    "print(np.array([[.06,.09,.27],[.09,.17,.83],[.1,.43,1],[.14,1,1]]))\n",
    "print(\"Sim results\")\n",
    "print(power_table)"
   ]
  },
  {
   "cell_type": "code",
   "execution_count": null,
   "metadata": {},
   "outputs": [],
   "source": []
  }
 ],
 "metadata": {
  "kernelspec": {
   "display_name": "Python 3",
   "language": "python",
   "name": "python3"
  },
  "language_info": {
   "codemirror_mode": {
    "name": "ipython",
    "version": 3
   },
   "file_extension": ".py",
   "mimetype": "text/x-python",
   "name": "python",
   "nbconvert_exporter": "python",
   "pygments_lexer": "ipython3",
   "version": "3.7.2"
  }
 },
 "nbformat": 4,
 "nbformat_minor": 2
}
