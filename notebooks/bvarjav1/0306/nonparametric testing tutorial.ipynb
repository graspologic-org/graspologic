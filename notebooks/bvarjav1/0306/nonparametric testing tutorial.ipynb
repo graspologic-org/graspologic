{
 "cells": [
  {
   "cell_type": "code",
   "execution_count": 8,
   "metadata": {},
   "outputs": [],
   "source": [
    "import numpy as np\n",
    "np.random.seed(88889999)\n",
    "import graspy\n",
    "from graspy.inference import SemiparametricTest\n",
    "from graspy.embed import AdjacencySpectralEmbed\n",
    "from graspy.simulations import sbm, rdpg\n",
    "from graspy.utils import symmetrize\n",
    "from graspy.plot import heatmap, pairplot\n",
    "\n",
    "%matplotlib inline"
   ]
  },
  {
   "cell_type": "code",
   "execution_count": 9,
   "metadata": {},
   "outputs": [],
   "source": [
    "from tqdm import tqdm\n",
    "def get_power(n=50, iters=100):\n",
    "    ns = [n, n]\n",
    "    p1 = np.array([[.9,.1],[.1,.9]])\n",
    "    p2 = np.array([[.9,.1],[.1,.9]]) #or .4 on off-diagonals for power -> 1\n",
    "    A1 = sbm(ns,p1)\n",
    "    A2 = sbm(ns,p2)\n",
    "    X1 = AdjacencySpectralEmbed().fit_transform(A1)\n",
    "    X2 = AdjacencySpectralEmbed().fit_transform(A2)\n",
    "    A1 = rdpg(X1,\n",
    "          loops=False,\n",
    "          rescale=False,\n",
    "          directed=False)\n",
    "    A2 = rdpg(X2,\n",
    "          loops=False,\n",
    "          rescale=False,\n",
    "          directed=False)\n",
    "    npt = graspy.inference.NonparametricTest()\n",
    "    p = npt.fit(A1, A2)\n",
    "    sorted_ = np.sort(npt.null_distribution_)\n",
    "    rej_ind = int(np.ceil(((1 - 0.05)*200))) #200 is n_bootstraps, 0.05 is alpha\n",
    "    critical_value = sorted_[rej_ind]\n",
    "    rejections = 0\n",
    "    for i in range(iters):\n",
    "        A = sbm(ns,p1)\n",
    "        B = sbm(ns,p2)\n",
    "        npt_2 = graspy.inference.NonparametricTest(n_bootstraps=1)\n",
    "        npt_2.fit(A,B)\n",
    "        U = npt_2.sample_T_statistic_\n",
    "        if U > critical_value:\n",
    "            rejections += 1\n",
    "    return rejections/iters"
   ]
  },
  {
   "cell_type": "code",
   "execution_count": 10,
   "metadata": {},
   "outputs": [
    {
     "name": "stderr",
     "output_type": "stream",
     "text": [
      "100%|██████████| 19/19 [39:04<00:00, 248.62s/it]\n"
     ]
    }
   ],
   "source": [
    "pows = []\n",
    "x = range(10,101,5)\n",
    "allx = []\n",
    "for n in tqdm(x):\n",
    "    xs = []\n",
    "    for _ in range(10):\n",
    "        xs.append(get_power(n))\n",
    "    allx.append(xs)\n",
    "    pows.append(np.mean(xs))"
   ]
  },
  {
   "cell_type": "code",
   "execution_count": 13,
   "metadata": {},
   "outputs": [
    {
     "data": {
      "image/png": "[encoded data removed]",
      "text/plain": [
       "<Figure size 432x288 with 1 Axes>"
      ]
     },
     "metadata": {
      "needs_background": "light"
     },
     "output_type": "display_data"
    }
   ],
   "source": [
    "import matplotlib.pyplot as plt\n",
    "plt.plot(x,pows)\n",
    "for i in range(10):\n",
    "    plt.plot(x, np.array(allx)[:,i], 'b-.', alpha=0.2)\n",
    "plt.plot(x,[0.05]*len(x),'r-.',alpha=0.8)\n",
    "plt.xlabel('n')\n",
    "plt.ylabel('power')\n",
    "plt.savefig('power_curve.png')\n",
    "plt.show()"
   ]
  },
  {
   "cell_type": "code",
   "execution_count": 14,
   "metadata": {},
   "outputs": [
    {
     "ename": "ModuleNotFoundError",
     "evalue": "No module named 'mgcpy'",
     "output_type": "error",
     "traceback": [
      "\u001b[0;31m---------------------------------------------------------------------------\u001b[0m",
      "\u001b[0;31mModuleNotFoundError\u001b[0m                       Traceback (most recent call last)",
      "\u001b[0;32m<ipython-input-14-d720847392d0>\u001b[0m in \u001b[0;36m<module>\u001b[0;34m\u001b[0m\n\u001b[0;32m----> 1\u001b[0;31m \u001b[0;32mimport\u001b[0m \u001b[0mmgcpy\u001b[0m\u001b[0;34m\u001b[0m\u001b[0;34m\u001b[0m\u001b[0m\n\u001b[0m",
      "\u001b[0;31mModuleNotFoundError\u001b[0m: No module named 'mgcpy'"
     ]
    }
   ],
   "source": [
    "import mgcpy"
   ]
  },
  {
   "cell_type": "code",
   "execution_count": null,
   "metadata": {},
   "outputs": [],
   "source": []
  }
 ],
 "metadata": {
  "kernelspec": {
   "display_name": "graspy",
   "language": "python",
   "name": "graspy"
  },
  "language_info": {
   "codemirror_mode": {
    "name": "ipython",
    "version": 3
   },
   "file_extension": ".py",
   "mimetype": "text/x-python",
   "name": "python",
   "nbconvert_exporter": "python",
   "pygments_lexer": "ipython3",
   "version": "3.6.7"
  }
 },
 "nbformat": 4,
 "nbformat_minor": 2
}
