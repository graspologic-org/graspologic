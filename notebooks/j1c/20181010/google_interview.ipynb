{
 "cells": [
  {
   "cell_type": "code",
   "execution_count": 1,
   "metadata": {},
   "outputs": [],
   "source": [
    "import numpy as np\n",
    "\n",
    "import matplotlib.pyplot as plt\n",
    "import seaborn as sns"
   ]
  },
  {
   "cell_type": "code",
   "execution_count": 40,
   "metadata": {},
   "outputs": [],
   "source": [
    "# Blog post solution #3\n",
    "def neighbors(position):\n",
    "    NEIGHBORS_MAP = {\n",
    "    1: (6, 8),\n",
    "    2: (7, 9),\n",
    "    3: (4, 8),\n",
    "    4: (3, 9, 0),\n",
    "    5: tuple(),  # 5 has no neighbors\n",
    "    6: (1, 7, 0),\n",
    "    7: (2, 6),\n",
    "    8: (1, 3),\n",
    "    9: (2, 4),\n",
    "    0: (4, 6),\n",
    "}\n",
    "\n",
    "    return NEIGHBORS_MAP[position]\n",
    "\n",
    "def count_sequences(start_position, num_hops):\n",
    "    cache = {}\n",
    "\n",
    "    def helper(position, num_hops):\n",
    "        if (position, num_hops) in cache:\n",
    "            return cache[ (position, num_hops) ]\n",
    "\n",
    "        if num_hops == 0:\n",
    "            return 1\n",
    "\n",
    "        else:\n",
    "            num_sequences = 0\n",
    "            for neighbor in neighbors(position):\n",
    "                num_sequences += helper(neighbor, num_hops - 1)\n",
    "            cache[ (position, num_hops) ] = num_sequences\n",
    "            return num_sequences\n",
    "\n",
    "    res = helper(start_position, num_hops)\n",
    "    return res\n",
    "\n",
    "def blog_solution(num_hops):\n",
    "    res = []\n",
    "    for i in range(0, 10):\n",
    "        res.append(count_sequences(i, num_hops))\n",
    "    \n",
    "    return res"
   ]
  },
  {
   "cell_type": "code",
   "execution_count": 44,
   "metadata": {},
   "outputs": [
    {
     "data": {
      "image/png": "[encoded data removed]",
      "text/plain": [
       "<Figure size 720x720 with 2 Axes>"
      ]
     },
     "metadata": {
      "needs_background": "light"
     },
     "output_type": "display_data"
    }
   ],
   "source": [
    "# Create adjacency\n",
    "def get_adjacency():\n",
    "    NEIGHBORS_MAP = {\n",
    "    1: (6, 8),\n",
    "    2: (7, 9),\n",
    "    3: (4, 8),\n",
    "    4: (3, 9, 0),\n",
    "    5: tuple(),  # 5 has no neighbors\n",
    "    6: (1, 7, 0),\n",
    "    7: (2, 6),\n",
    "    8: (1, 3),\n",
    "    9: (2, 4),\n",
    "    0: (4, 6),\n",
    "    }\n",
    "    \n",
    "    A = np.zeros((10, 10), dtype=np.int)\n",
    "\n",
    "    for key, val in NEIGHBORS_MAP.items():\n",
    "        for j in val:\n",
    "            A[key, j] = 1\n",
    "            \n",
    "    return A\n",
    "\n",
    "A = get_adjacency()\n",
    "\n",
    "with sns.plotting_context(\"talk\", font_scale=1):\n",
    "    fig, ax = plt.subplots(figsize=(10, 10))\n",
    "    sns.heatmap(A, square=True, cmap=\"YlGnBu\")"
   ]
  },
  {
   "cell_type": "code",
   "execution_count": 21,
   "metadata": {},
   "outputs": [],
   "source": [
    "def linear_algebra(num_hops):\n",
    "    A = get_adjacency()\n",
    "    \n",
    "    W, V = np.linalg.eig(A)\n",
    "    \n",
    "    return (V @ np.diag(W ** num_hops) @ V.T).sum(axis=1)\n",
    "\n",
    "def matrix_mul(num_hops):\n",
    "    A = get_adjacency()\n",
    "    \n",
    "    return np.linalg.matrix_power(A, num_hops).sum(axis = 1)"
   ]
  },
  {
   "cell_type": "markdown",
   "metadata": {},
   "source": [
    "### Try num_hops = 10"
   ]
  },
  {
   "cell_type": "code",
   "execution_count": 22,
   "metadata": {},
   "outputs": [
    {
     "data": {
      "text/plain": [
       "array([4608., 3728., 2848., 3728., 4608.,    0., 4608., 3728., 2848.,\n",
       "       3728.])"
      ]
     },
     "execution_count": 22,
     "metadata": {},
     "output_type": "execute_result"
    }
   ],
   "source": [
    "linear_algebra(10)"
   ]
  },
  {
   "cell_type": "code",
   "execution_count": 24,
   "metadata": {},
   "outputs": [
    {
     "data": {
      "text/plain": [
       "array([4608, 3728, 2848, 3728, 4608,    0, 4608, 3728, 2848, 3728])"
      ]
     },
     "execution_count": 24,
     "metadata": {},
     "output_type": "execute_result"
    }
   ],
   "source": [
    "matrix_mul(10)"
   ]
  },
  {
   "cell_type": "code",
   "execution_count": 41,
   "metadata": {},
   "outputs": [
    {
     "data": {
      "text/plain": [
       "[4608, 3728, 2848, 3728, 4608, 0, 4608, 3728, 2848, 3728]"
      ]
     },
     "execution_count": 41,
     "metadata": {},
     "output_type": "execute_result"
    }
   ],
   "source": [
    "blog_solution(10)"
   ]
  },
  {
   "cell_type": "markdown",
   "metadata": {},
   "source": [
    "### Try num_hops = 50"
   ]
  },
  {
   "cell_type": "code",
   "execution_count": 33,
   "metadata": {},
   "outputs": [
    {
     "data": {
      "text/plain": [
       "array([1.10566149e+18, 8.94498933e+17, 6.83336379e+17, 8.94498933e+17,\n",
       "       1.10566149e+18, 0.00000000e+00, 1.10566149e+18, 8.94498933e+17,\n",
       "       6.83336379e+17, 8.94498933e+17])"
      ]
     },
     "execution_count": 33,
     "metadata": {},
     "output_type": "execute_result"
    }
   ],
   "source": [
    "linear_algebra(50)"
   ]
  },
  {
   "cell_type": "code",
   "execution_count": 34,
   "metadata": {},
   "outputs": [
    {
     "data": {
      "text/plain": [
       "array([1105661487394848768,  894498933328314368,  683336379261779968,\n",
       "        894498933328314368, 1105661487394848768,                   0,\n",
       "       1105661487394848768,  894498933328314368,  683336379261779968,\n",
       "        894498933328314368])"
      ]
     },
     "execution_count": 34,
     "metadata": {},
     "output_type": "execute_result"
    }
   ],
   "source": [
    "matrix_mul(50)"
   ]
  },
  {
   "cell_type": "code",
   "execution_count": 42,
   "metadata": {},
   "outputs": [
    {
     "data": {
      "text/plain": [
       "[1105661487394848768,\n",
       " 894498933328314368,\n",
       " 683336379261779968,\n",
       " 894498933328314368,\n",
       " 1105661487394848768,\n",
       " 0,\n",
       " 1105661487394848768,\n",
       " 894498933328314368,\n",
       " 683336379261779968,\n",
       " 894498933328314368]"
      ]
     },
     "execution_count": 42,
     "metadata": {},
     "output_type": "execute_result"
    }
   ],
   "source": [
    "blog_solution(50)"
   ]
  },
  {
   "cell_type": "markdown",
   "metadata": {},
   "source": [
    "### Compare results for accuracy\n",
    "\n",
    "Floating point arithematic strikes again!"
   ]
  },
  {
   "cell_type": "code",
   "execution_count": 38,
   "metadata": {},
   "outputs": [
    {
     "data": {
      "text/plain": [
       "array([5248., 4352., 4736., 5120., 6272.,    0., 6272., 5120., 4352.,\n",
       "       4480.])"
      ]
     },
     "execution_count": 38,
     "metadata": {},
     "output_type": "execute_result"
    }
   ],
   "source": [
    "(linear_algebra(50) - matrix_mul(50)) "
   ]
  },
  {
   "cell_type": "code",
   "execution_count": 43,
   "metadata": {},
   "outputs": [
    {
     "data": {
      "text/plain": [
       "array([0, 0, 0, 0, 0, 0, 0, 0, 0, 0])"
      ]
     },
     "execution_count": 43,
     "metadata": {},
     "output_type": "execute_result"
    }
   ],
   "source": [
    "blog_solution(50) - matrix_mul(50)"
   ]
  },
  {
   "cell_type": "code",
   "execution_count": 45,
   "metadata": {},
   "outputs": [
    {
     "name": "stdout",
     "output_type": "stream",
     "text": [
      " "
     ]
    },
    {
     "data": {
      "text/plain": [
       "<pstats.Stats at 0x11120b278>"
      ]
     },
     "execution_count": 45,
     "metadata": {},
     "output_type": "execute_result"
    }
   ],
   "source": [
    "%prun -r blog_solution(5)"
   ]
  },
  {
   "cell_type": "code",
   "execution_count": null,
   "metadata": {},
   "outputs": [],
   "source": []
  }
 ],
 "metadata": {
  "kernelspec": {
   "display_name": "graphstats",
   "language": "python",
   "name": "graphstats"
  },
  "language_info": {
   "codemirror_mode": {
    "name": "ipython",
    "version": 3
   },
   "file_extension": ".py",
   "mimetype": "text/x-python",
   "name": "python",
   "nbconvert_exporter": "python",
   "pygments_lexer": "ipython3",
   "version": "3.6.5"
  }
 },
 "nbformat": 4,
 "nbformat_minor": 2
}
