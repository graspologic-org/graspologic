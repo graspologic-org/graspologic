{
 "cells": [
  {
   "cell_type": "code",
   "execution_count": 20,
   "metadata": {},
   "outputs": [],
   "source": [
    "import numpy as np \n",
    "import networkx as nx\n",
    "from functools import reduce"
   ]
  },
  {
   "cell_type": "code",
   "execution_count": 100,
   "metadata": {},
   "outputs": [],
   "source": [
    "def is_symmetric(X):\n",
    "    return np.array_equal(X, X.T)\n",
    "\n",
    "\n",
    "def is_fully_connected(graph):\n",
    "    '''\n",
    "    Checks whether the input graph is fully connected in the undirected case\n",
    "    or weakly connected in the directed case. \n",
    "\n",
    "    Parameters\n",
    "    ----------\n",
    "        graph: nx.Graph, nx.DiGraph, nx.MultiDiGraph, nx.MultiGraph, np.ndarray\n",
    "            Input graph in any of the above specified formats.\n",
    "    \n",
    "    '''\n",
    "    if type(graph) is np.ndarray:\n",
    "        if is_symmetric(graph):\n",
    "            g_object = nx.Graph()\n",
    "        else:\n",
    "            g_object = nx.DiGraph()\n",
    "        graph = nx.from_numpy_matrix(graph, create_using=g_object)\n",
    "    if type(graph) in [nx.Graph, nx.MultiGraph]:\n",
    "        return nx.is_connected(graph)\n",
    "    elif type(graph) in [nx.DiGraph, nx.MultiDiGraph]:\n",
    "        return nx.is_weakly_connected(graph)\n",
    "\n",
    "def get_lcc(graph, return_inds=False):\n",
    "    input_ndarray = False\n",
    "    if type(graph) is np.ndarray:\n",
    "        input_ndarray = True\n",
    "        if is_symmetric(graph):\n",
    "            g_object = nx.Graph()\n",
    "        else:\n",
    "            g_object = nx.DiGraph()\n",
    "        graph = nx.from_numpy_matrix(graph, create_using=g_object)\n",
    "    if type(graph) in [nx.Graph, nx.MultiGraph]:\n",
    "        graph = max(nx.connected_component_subgraphs(graph), key=len)\n",
    "    elif type(graph) in [nx.DiGraph, nx.MultiDiGraph]:\n",
    "        graph = max(nx.weakly_connected_component_subgraphs(graph), key=len)        \n",
    "    if return_inds:\n",
    "        nodelist = list(graph.nodes)\n",
    "    if input_ndarray:\n",
    "        graph = nx.to_numpy_array(graph)\n",
    "        if return_inds:\n",
    "            return graph, nodelist\n",
    "    return graph\n",
    "\n",
    "def get_multigraph_lcc(graphs, return_inds=False):\n",
    "    lcc_by_graph = []\n",
    "    inds_by_graph = []\n",
    "    for graph in graphs:\n",
    "        lcc, inds = get_lcc(graph, return_inds=True)\n",
    "        lcc_by_graph.append(lcc)\n",
    "        inds_by_graph.append(inds)\n",
    "    inds_intersection = reduce(np.intersect1d, inds_by_graph)\n",
    "    new_graphs = []        \n",
    "    for graph in graphs:\n",
    "        graph = graph[inds_intersection,:][:,inds_intersection]\n",
    "        new_graphs.append(graph)\n",
    "    if type(graphs) == list:\n",
    "        return new_graphs\n",
    "    else:\n",
    "        return np.stack(new_graphs)"
   ]
  },
  {
   "cell_type": "code",
   "execution_count": 90,
   "metadata": {},
   "outputs": [
    {
     "data": {
      "text/plain": [
       "array([[0, 0, 0, 0],\n",
       "       [0, 0, 2, 1],\n",
       "       [0, 0, 0, 6],\n",
       "       [0, 0, 0, 0]])"
      ]
     },
     "execution_count": 90,
     "metadata": {},
     "output_type": "execute_result"
    }
   ],
   "source": [
    "graphs = np.concatenate([graph1[:,:,None], graph2[:,:,None]], axis=2)\n",
    "graphs[:,:,0]"
   ]
  },
  {
   "cell_type": "code",
   "execution_count": 101,
   "metadata": {},
   "outputs": [
    {
     "data": {
      "text/plain": [
       "array([[[0, 2, 1],\n",
       "        [0, 0, 6],\n",
       "        [0, 0, 0]],\n",
       "\n",
       "       [[0, 2, 3],\n",
       "        [0, 0, 0],\n",
       "        [0, 0, 0]]])"
      ]
     },
     "execution_count": 101,
     "metadata": {},
     "output_type": "execute_result"
    }
   ],
   "source": [
    "graph1 = np.array([[0, 0, 0, 0],\n",
    "                  [0, 0, 2, 1],\n",
    "                  [0, 0, 0, 6],\n",
    "                  [0, 0, 0, 0]])\n",
    "graph2 = np.array([[0, 1, 0, 0],\n",
    "                  [0, 0, 2, 3],\n",
    "                  [0, 0, 0, 0],\n",
    "                  [0, 0, 0, 0]])\n",
    "get_multigraph_lcc(np.stack([graph1, graph2]), return_inds=True)"
   ]
  },
  {
   "cell_type": "code",
   "execution_count": 97,
   "metadata": {},
   "outputs": [
    {
     "data": {
      "text/plain": [
       "array([[0, 1, 0, 0],\n",
       "       [0, 0, 2, 3],\n",
       "       [0, 0, 0, 0],\n",
       "       [0, 0, 0, 0]])"
      ]
     },
     "execution_count": 97,
     "metadata": {},
     "output_type": "execute_result"
    }
   ],
   "source": [
    "graphs = [graph1, graph2]\n",
<<<<<<< HEAD
<<<<<<< HEAD
<<<<<<< HEAD
=======
>>>>>>> d363da04643571eacab19d9880e7bc646f544e12
    "\n",
    "A = np.array(graphs, copy=False, ndmin=3)\n"
   ]
  },
  {
   "cell_type": "code",
   "execution_count": 106,
   "metadata": {},
   "outputs": [],
   "source": [
    "nxgraph1 = nx.from_numpy_array(graph1)\n",
    "nxgraph2 = nx.from"
   ]
  },
  {
   "cell_type": "code",
   "execution_count": 168,
   "metadata": {},
   "outputs": [
    {
     "data": {
      "text/plain": [
       "array([[-0.87209812, -0.19860733],\n",
       "       [-0.26405006,  0.65595546]])"
      ]
     },
     "execution_count": 168,
     "metadata": {},
     "output_type": "execute_result"
    }
   ],
   "source": [
    "from scipy.linalg import svd\n",
    "A = np.array([[0.8, 0.1],\n",
    "              [0.1, 0.5]])\n",
    "U, E, V = svd(A)\n",
    "X = U @ np.diag(E**0.5)\n",
    "Y = V @ np.diag(E**0.5)\n",
    "U @ np.diag(E) @ V.T\n"
   ]
  },
  {
   "cell_type": "code",
   "execution_count": 177,
   "metadata": {},
   "outputs": [
    {
     "data": {
      "text/plain": [
       "0.05"
      ]
     },
     "execution_count": 177,
     "metadata": {},
     "output_type": "execute_result"
    }
   ],
   "source": [
    "np.sqrt(10000*np.multiply(A, (1-A)))\n",
    "50/10000 * 10"
   ]
<<<<<<< HEAD
<<<<<<< HEAD
=======
    "A = np.array(graphs, copy=False, ndmin=3)\n"
   ]
>>>>>>> lcc funcs [#58]
=======
    "\n",
    "A = np.array(graphs, copy=False, ndmin=3)\n"
   ]
  },
  {
   "cell_type": "code",
   "execution_count": 106,
   "metadata": {},
   "outputs": [],
   "source": [
    "nxgraph1 = nx.from_numpy_array(graph1)\n",
    "nxgraph2 = nx.from"
   ]
>>>>>>> tests for lcc
=======
>>>>>>> add rdpg and almost symmetric
=======
>>>>>>> d363da04643571eacab19d9880e7bc646f544e12
  }
 ],
 "metadata": {
  "kernelspec": {
   "display_name": "Python 3",
   "language": "python",
   "name": "python3"
  },
  "language_info": {
   "codemirror_mode": {
    "name": "ipython",
    "version": 3
   },
   "file_extension": ".py",
   "mimetype": "text/x-python",
   "name": "python",
   "nbconvert_exporter": "python",
   "pygments_lexer": "ipython3",
   "version": "3.6.4"
  }
 },
 "nbformat": 4,
 "nbformat_minor": 2
}
