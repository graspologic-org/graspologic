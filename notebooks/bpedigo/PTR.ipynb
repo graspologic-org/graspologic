{
 "cells": [
  {
   "cell_type": "markdown",
   "metadata": {},
   "source": [
    "# Expected outputs for PTR"
   ]
  },
  {
   "cell_type": "markdown",
   "metadata": {},
   "source": [
    "### input: undirected, loopless\n",
    "\\begin{bmatrix}\n",
    "0 & 1 & 0 & 60 \\\\\n",
    "1 & 0 & 400 & 0 \\\\\n",
    "0 & 400 & 0 & 80 \\\\ \n",
    "60 & 0 & 80 & 0 \n",
    "\\end{bmatrix}\n"
   ]
  },
  {
   "cell_type": "markdown",
   "metadata": {},
   "source": [
    "\\begin{bmatrix}\n",
    "0 & 1 & 0 & 60 \\\\\n",
    ". & 0 & 400 & 0 \\\\\n",
    ". & . & 0 & 80 \\\\ \n",
    ". & . & . & 0 \n",
    "\\end{bmatrix}"
   ]
  },
  {
   "cell_type": "markdown",
   "metadata": {},
   "source": [
    "2 zero edges off the diagonal  \n",
    "\n",
    "4 zero edges on the diagonal\n",
    "\n",
    "6 zero edges total"
   ]
  },
  {
   "cell_type": "markdown",
   "metadata": {},
   "source": [
    "original (upper triangle since it's symmetric)\n",
    "\\begin{bmatrix}\n",
    "0 & 1 & 0 & 60 \\\\\n",
    ". & 0 & 400 & 0 \\\\\n",
    ". & . & 0 & 80 \\\\ \n",
    ". & . & . & 0 \n",
    "\\end{bmatrix}\n",
    "assign ranks starting with $n_{zeros} + 1$, keeping 0s at 0\n",
    "\\begin{bmatrix}\n",
    "0 & 7 & 0 & 8 \\\\\n",
    ". & 0 & 10 & 0 \\\\\n",
    ". & . & 0 & 9 \\\\ \n",
    ". & . & . & 0 \n",
    "\\end{bmatrix}\n",
    "divide by $n^2$, the total number of possible edges\n",
    "\\begin{bmatrix}\n",
    "0 & 7/16 & 0 & 8/16 \\\\\n",
    ". & 0 & 10/16 & 0 \\\\\n",
    ". & . & 0 & 9/16 \\\\ \n",
    ". & . & . & 0 \n",
    "\\end{bmatrix}\n",
    "### OR\n",
    "use the number of zero edges OFF the diagonal\n",
    "\\begin{bmatrix}\n",
    "0 & 3 & 0 & 4 \\\\\n",
    ". & 0 & 6 & 0 \\\\\n",
    ". & . & 0 & 5 \\\\ \n",
    ". & . & . & 0 \n",
    "\\end{bmatrix}\n",
    "and then divide by $\\frac{n(n-1)}{2}$, the total number of possible edges in a loopless, undirected graph\n",
    "\\begin{bmatrix}\n",
    "0 & 3/6 & 0 & 4/6 \\\\\n",
    ". & 0 & 6/6 & 0 \\\\\n",
    ". & . & 0 & 5/6 \\\\ \n",
    ". & . & . & 0 \n",
    "\\end{bmatrix}"
   ]
  },
  {
   "cell_type": "code",
   "execution_count": null,
   "metadata": {},
   "outputs": [],
   "source": []
  }
 ],
 "metadata": {
  "kernelspec": {
   "display_name": "Python 3",
   "language": "python",
   "name": "python3"
  },
  "language_info": {
   "codemirror_mode": {
    "name": "ipython",
    "version": 3
   },
   "file_extension": ".py",
   "mimetype": "text/x-python",
   "name": "python",
   "nbconvert_exporter": "python",
   "pygments_lexer": "ipython3",
   "version": "3.6.4"
  }
 },
 "nbformat": 4,
 "nbformat_minor": 2
}